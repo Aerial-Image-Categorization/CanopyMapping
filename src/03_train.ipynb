{
 "cells": [
  {
   "cell_type": "code",
   "execution_count": 2,
   "metadata": {},
   "outputs": [],
   "source": [
    "from torch.utils.data import Dataset, DataLoader, random_split\n",
    "import torch\n",
    "from PIL import Image\n",
    "import os\n",
    "import numpy as np\n",
    "from os.path import splitext\n",
    "import matplotlib.pyplot as plt\n",
    "from multiprocessing import Pool\n",
    "from functools import partial\n",
    "from tqdm.auto import tqdm\n",
    "import warnings\n",
    "warnings.filterwarnings('ignore')"
   ]
  },
  {
   "cell_type": "code",
   "execution_count": 3,
   "metadata": {},
   "outputs": [],
   "source": [
    "dataset_path= '../data/tiles/formatted'"
   ]
  },
  {
   "cell_type": "code",
   "execution_count": 4,
   "metadata": {},
   "outputs": [],
   "source": [
    "def load_image(filename):\n",
    "    ext = splitext(filename)[1]\n",
    "    if ext == '.npy':\n",
    "        return Image.fromarray(np.load(filename))\n",
    "    elif ext in ['.pt', '.pth']:\n",
    "        return Image.fromarray(torch.load(filename).numpy())\n",
    "    else:\n",
    "        return Image.open(filename)"
   ]
  },
  {
   "cell_type": "code",
   "execution_count": 21,
   "metadata": {},
   "outputs": [],
   "source": [
    "class ImageDataset(Dataset):\n",
    "    def __init__(self, dataset_path) -> None:\n",
    "        files = os.listdir(dataset_path)\n",
    "        self.images_path = []\n",
    "        self.masks_path = []\n",
    "        for file in files:\n",
    "            if file.split('_')[1]=='tif':\n",
    "                self.images_path.append(os.path.join(dataset_path,file))\n",
    "                self.masks_path.append(os.path.join(dataset_path,file.replace('tif','shp')))\n",
    "                \n",
    "    def __len__(self):\n",
    "        return len(self.images_path)\n",
    "    \n",
    "    @staticmethod\n",
    "    def preprocess(mask_values, pil_img, scale, is_mask):\n",
    "        w, h = pil_img.size\n",
    "        newW, newH = int(scale * w), int(scale * h)\n",
    "        assert newW > 0 and newH > 0, 'Scale is too small, resized images would have no pixel'\n",
    "        pil_img = pil_img.resize((newW, newH), resample=Image.NEAREST if is_mask else Image.BICUBIC)\n",
    "        img = np.asarray(pil_img)\n",
    "        if img.ndim == 2:\n",
    "            img = img[np.newaxis, ...]\n",
    "        else:\n",
    "            img = img.transpose((2, 0, 1))\n",
    "        if (img > 1).any():\n",
    "            img = img / 255.0\n",
    "        return img\n",
    "        \n",
    "    def __getitem__(self, idx):\n",
    "        #return {\n",
    "        #    'image': self.images_path[idx],\n",
    "        #    'mask': self.masks_path[idx]\n",
    "        #}\n",
    "        mask = load_image(self.images_path[idx])\n",
    "        img = load_image(self.masks_path[idx])\n",
    "        \n",
    "        assert img.size == mask.size, \\\n",
    "            f'Image and mask should be the same size, but are {img.size} and {mask.size}'\n",
    "\n",
    "        self.scale = 1.0\n",
    "        #self.scale = 0.2\n",
    "        \n",
    "        img = self.preprocess(1, img, self.scale, is_mask=False)\n",
    "        mask = self.preprocess(1, mask, self.scale, is_mask=True)\n",
    "        \n",
    "        return {\n",
    "            'image': torch.as_tensor(img.copy()).float().contiguous(),\n",
    "            'mask': torch.as_tensor(mask.copy()).long().contiguous()\n",
    "        }\n",
    "    \n",
    "class ImageNameDataset(Dataset):\n",
    "    def __init__(self, dataset_path) -> None:\n",
    "        files = os.listdir(dataset_path)\n",
    "        self.images_path = []\n",
    "        self.masks_path = []\n",
    "        for file in files:\n",
    "            if file.split('_')[1]=='tif':\n",
    "                self.images_path.append(os.path.join(dataset_path,file))\n",
    "                self.masks_path.append(os.path.join(dataset_path,file.replace('tif','shp')))\n",
    "                \n",
    "    def __len__(self):\n",
    "        return len(self.images_path)\n",
    "    \n",
    "    def __getitem__(self, idx):\n",
    "        return {\n",
    "            'image': self.images_path[idx],\n",
    "            'mask': self.masks_path[idx]\n",
    "        }"
   ]
  },
  {
   "cell_type": "code",
   "execution_count": 22,
   "metadata": {},
   "outputs": [
    {
     "name": "stdout",
     "output_type": "stream",
     "text": [
      "{'image': ['../data/tiles/formatted/tile_tif_0_2.png'], 'mask': ['../data/tiles/formatted/tile_shp_0_2.png']}\n",
      "{'image': ['../data/tiles/formatted/tile_tif_2_0.png'], 'mask': ['../data/tiles/formatted/tile_shp_2_0.png']}\n",
      "{'image': ['../data/tiles/formatted/tile_tif_2_1.png'], 'mask': ['../data/tiles/formatted/tile_shp_2_1.png']}\n",
      "{'image': ['../data/tiles/formatted/tile_tif_0_3.png'], 'mask': ['../data/tiles/formatted/tile_shp_0_3.png']}\n",
      "{'image': ['../data/tiles/formatted/tile_tif_0_1.png'], 'mask': ['../data/tiles/formatted/tile_shp_0_1.png']}\n",
      "{'image': ['../data/tiles/formatted/tile_tif_2_3.png'], 'mask': ['../data/tiles/formatted/tile_shp_2_3.png']}\n",
      "{'image': ['../data/tiles/formatted/tile_tif_2_2.png'], 'mask': ['../data/tiles/formatted/tile_shp_2_2.png']}\n",
      "{'image': ['../data/tiles/formatted/tile_tif_0_0.png'], 'mask': ['../data/tiles/formatted/tile_shp_0_0.png']}\n",
      "{'image': ['../data/tiles/formatted/tile_tif_0_4.png'], 'mask': ['../data/tiles/formatted/tile_shp_0_4.png']}\n",
      "{'image': ['../data/tiles/formatted/tile_tif_2_4.png'], 'mask': ['../data/tiles/formatted/tile_shp_2_4.png']}\n",
      "{'image': ['../data/tiles/formatted/tile_tif_1_1.png'], 'mask': ['../data/tiles/formatted/tile_shp_1_1.png']}\n",
      "{'image': ['../data/tiles/formatted/tile_tif_1_0.png'], 'mask': ['../data/tiles/formatted/tile_shp_1_0.png']}\n",
      "{'image': ['../data/tiles/formatted/tile_tif_1_2.png'], 'mask': ['../data/tiles/formatted/tile_shp_1_2.png']}\n",
      "{'image': ['../data/tiles/formatted/tile_tif_1_3.png'], 'mask': ['../data/tiles/formatted/tile_shp_1_3.png']}\n",
      "{'image': ['../data/tiles/formatted/tile_tif_1_4.png'], 'mask': ['../data/tiles/formatted/tile_shp_1_4.png']}\n"
     ]
    }
   ],
   "source": [
    "dataset = ImageNameDataset(dataset_path)\n",
    "data_loader = DataLoader(dataset, batch_size=1)\n",
    "\n",
    "for batch in data_loader:\n",
    "    print(batch)"
   ]
  },
  {
   "cell_type": "code",
   "execution_count": 23,
   "metadata": {},
   "outputs": [
    {
     "name": "stdout",
     "output_type": "stream",
     "text": [
      "12 3\n"
     ]
    }
   ],
   "source": [
    "val_percent = 0.2\n",
    "\n",
    "n_val = int(len(dataset) * val_percent)\n",
    "n_train = len(dataset) - n_val\n",
    "train_set, val_set = random_split(dataset, [n_train, n_val], generator=torch.Generator().manual_seed(0))\n",
    "\n",
    "print(len(train_set),len(val_set))\n"
   ]
  },
  {
   "cell_type": "code",
   "execution_count": 51,
   "metadata": {},
   "outputs": [
    {
     "name": "stdout",
     "output_type": "stream",
     "text": [
      "\n"
     ]
    }
   ],
   "source": [
    "batch_size = 3\n",
    "print()\n",
    "#num_workers = os.cpu_count() - not working . . .\n",
    "\n",
    "loader_args = dict(batch_size=batch_size, pin_memory=True)#, num_workers=os.cpu_count(), pin_memory=True)\n",
    "train_loader = DataLoader(train_set, shuffle=True, **loader_args)\n",
    "val_loader = DataLoader(val_set, shuffle=False, **loader_args)"
   ]
  },
  {
   "cell_type": "code",
   "execution_count": 49,
   "metadata": {},
   "outputs": [
    {
     "name": "stdout",
     "output_type": "stream",
     "text": [
      "train_set:\n",
      "{'image': ['../data/tiles/formatted/tile_tif_0_2.png', '../data/tiles/formatted/tile_tif_2_3.png', '../data/tiles/formatted/tile_tif_1_3.png'], 'mask': ['../data/tiles/formatted/tile_shp_0_2.png', '../data/tiles/formatted/tile_shp_2_3.png', '../data/tiles/formatted/tile_shp_1_3.png']}\n",
      "{'image': ['../data/tiles/formatted/tile_tif_0_1.png', '../data/tiles/formatted/tile_tif_1_4.png', '../data/tiles/formatted/tile_tif_1_2.png'], 'mask': ['../data/tiles/formatted/tile_shp_0_1.png', '../data/tiles/formatted/tile_shp_1_4.png', '../data/tiles/formatted/tile_shp_1_2.png']}\n",
      "{'image': ['../data/tiles/formatted/tile_tif_2_1.png', '../data/tiles/formatted/tile_tif_2_2.png', '../data/tiles/formatted/tile_tif_0_3.png'], 'mask': ['../data/tiles/formatted/tile_shp_2_1.png', '../data/tiles/formatted/tile_shp_2_2.png', '../data/tiles/formatted/tile_shp_0_3.png']}\n",
      "{'image': ['../data/tiles/formatted/tile_tif_0_4.png', '../data/tiles/formatted/tile_tif_2_0.png', '../data/tiles/formatted/tile_tif_1_0.png'], 'mask': ['../data/tiles/formatted/tile_shp_0_4.png', '../data/tiles/formatted/tile_shp_2_0.png', '../data/tiles/formatted/tile_shp_1_0.png']}\n",
      "val_set:\n",
      "{'image': ['../data/tiles/formatted/tile_tif_2_4.png', '../data/tiles/formatted/tile_tif_0_0.png', '../data/tiles/formatted/tile_tif_1_1.png'], 'mask': ['../data/tiles/formatted/tile_shp_2_4.png', '../data/tiles/formatted/tile_shp_0_0.png', '../data/tiles/formatted/tile_shp_1_1.png']}\n"
     ]
    }
   ],
   "source": [
    "print('train_set:')\n",
    "for batch in train_loader:\n",
    "    print(batch)\n",
    "    \n",
    "print('val_set:')\n",
    "for batch in val_loader:\n",
    "    print(batch)"
   ]
  }
 ],
 "metadata": {
  "kernelspec": {
   "display_name": "canopysegmentation",
   "language": "python",
   "name": "python3"
  },
  "language_info": {
   "codemirror_mode": {
    "name": "ipython",
    "version": 3
   },
   "file_extension": ".py",
   "mimetype": "text/x-python",
   "name": "python",
   "nbconvert_exporter": "python",
   "pygments_lexer": "ipython3",
   "version": "3.9.6"
  },
  "orig_nbformat": 4
 },
 "nbformat": 4,
 "nbformat_minor": 2
}
