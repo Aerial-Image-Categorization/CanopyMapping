{
 "cells": [
  {
   "cell_type": "code",
   "execution_count": 1,
   "id": "516cbee8-23d7-4890-9c4b-b049c573e01e",
   "metadata": {},
   "outputs": [],
   "source": [
    "import rasterio"
   ]
  },
  {
   "cell_type": "code",
   "execution_count": 36,
   "id": "b68875ac-58c3-46ac-846a-1707c80e4a88",
   "metadata": {},
   "outputs": [],
   "source": [
    "full_tif = '../data/all_data/2023-02-23_Bakonyszucs_actual.tif'\n",
    "tif_file_path = '../data/2024-04-21-dataset/standard/original/tifs/tile_tif_100_26.tif'"
   ]
  },
  {
   "cell_type": "code",
   "execution_count": 7,
   "id": "3eec14bb-3005-4f36-9281-0f62ed79e45a",
   "metadata": {},
   "outputs": [
    {
     "name": "stdout",
     "output_type": "stream",
     "text": [
      "Pixel size: 0.019999999999997724 x 0.019999999999999504\n",
      "Pixel area: 0.00039999999999994456\n"
     ]
    }
   ],
   "source": [
    "with rasterio.open(tif_file_path) as dataset:\n",
    "    pixel_width, pixel_height = dataset.res\n",
    "\n",
    "pixel_area = pixel_width * pixel_height\n",
    "\n",
    "print(f\"Pixel size: {pixel_width} x {pixel_height}\")\n",
    "print(f\"Pixel area: {pixel_area}\")"
   ]
  },
  {
   "cell_type": "code",
   "execution_count": 13,
   "id": "3a10c478-c3d8-4b90-89e1-188171854ae9",
   "metadata": {},
   "outputs": [
    {
     "data": {
      "text/plain": [
       "(0.019999999999997724, 0.019999999999999504)"
      ]
     },
     "execution_count": 13,
     "metadata": {},
     "output_type": "execute_result"
    }
   ],
   "source": [
    "tif = rasterio.open(tif_file_path)\n",
    "tif.res"
   ]
  },
  {
   "cell_type": "code",
   "execution_count": 70,
   "id": "815da538-2002-400d-a127-ec0560c2d86b",
   "metadata": {},
   "outputs": [],
   "source": [
    "import rasterio\n",
    "from rasterio.enums import Resampling\n",
    "\n",
    "def ResampleTIF(upscale_factor, tif_path, resampled_tif_path):\n",
    "    tif_image = rasterio.open(tif_path)\n",
    "    # resample\n",
    "    data = tif_image.read(\n",
    "        out_shape=(\n",
    "            tif_image.count,\n",
    "            int(tif_image.height * upscale_factor),\n",
    "            int(tif_image.width * upscale_factor)\n",
    "        ),\n",
    "        resampling=Resampling.bilinear\n",
    "    )\n",
    "    \n",
    "    #pixel_width, pixel_height = tif_image.res\n",
    "    #print(f\"Transformed pixel size: {pixel_width} x {pixel_height}\")\n",
    "    \n",
    "    # scale image transform\n",
    "    new_transform = tif_image.transform * tif_image.transform.scale(\n",
    "        (tif_image.width / data.shape[-1]),\n",
    "        (tif_image.height / data.shape[-2])\n",
    "    )\n",
    "    #pixel_width = transform.a\n",
    "    #pixel_height = -transform.e\n",
    "    \n",
    "    #print(f\"Transformed pixel size: {pixel_width} x {pixel_height}\")\n",
    "    #pixel_area = pixel_width * pixel_height\n",
    "    #print(tif_image.transform,data.shape,transform)\n",
    "\n",
    "    profile = tif_image.profile\n",
    "    profile.update({\n",
    "        'height': data.shape[1],\n",
    "        'width': data.shape[2],\n",
    "        'transform': new_transform\n",
    "    })\n",
    "    rasterio.open(resampled_tif_path, 'w', **profile).write(data)\n",
    "\n",
    "def check_resolution(desired_res, tif_path, round_accuracy):\n",
    "    '''\n",
    "    Projected Coordinate System (PCS): the units are typically in meters or feet.\n",
    "    Geographic Coordinate System (GCS): the units are typically in degrees.\n",
    "    The CRS (Coordinate Reference System) EPSG:23700 corresponds to the \"HD72 / EOV\" projection.\n",
    "    This is a projected coordinate system used in Hungary, and the units for this CRS are meters.\n",
    "    '''\n",
    "    tif_image = rasterio.open(tif_path)\n",
    "    p_width, p_height = tif_image.res\n",
    "    p_width_normalized = round(p_width,round_accuracy)\n",
    "    p_height_normalized = round(p_height,round_accuracy)\n",
    "    #print(p_width_normalized,p_height_normalized)\n",
    "    \n",
    "    actual_res = p_width_normalized\n",
    "    ratio = actual_res/desired_res\n",
    "    return ratio"
   ]
  },
  {
   "cell_type": "code",
   "execution_count": 71,
   "id": "0d284f50-0901-4651-8fc6-98491c09f097",
   "metadata": {},
   "outputs": [],
   "source": [
    "ResampleTIF(\n",
    "    2,\n",
    "    '../data/2024-04-21-dataset/standard/original/tifs/tile_tif_0_69.tif',\n",
    "    '../data/2024-04-21-dataset/standard/original/tifs/tile_tif_0_69_RESAMPLED.tif'\n",
    ")"
   ]
  },
  {
   "cell_type": "code",
   "execution_count": 61,
   "id": "a49c6eb8-0c35-4f3e-8c94-369a3065d93d",
   "metadata": {},
   "outputs": [
    {
     "data": {
      "text/plain": [
       "0.50000000000025"
      ]
     },
     "execution_count": 61,
     "metadata": {},
     "output_type": "execute_result"
    }
   ],
   "source": [
    "check_resolution(\n",
    "    0.01999999999999,\n",
    "    '../data/2024-04-21-dataset/standard/original/tifs/tile_tif_0_69_RESAMPLED.tif',#../data/2024-04-21-dataset/standard/original/tifs/tile_tif_0_69.tif',\n",
    "    10\n",
    ")"
   ]
  },
  {
   "cell_type": "code",
   "execution_count": 78,
   "id": "e4d3edb3-84f1-4b3c-8c87-0855d02d9255",
   "metadata": {},
   "outputs": [
    {
     "data": {
      "text/plain": [
       "CRS.from_epsg(23700)"
      ]
     },
     "execution_count": 78,
     "metadata": {},
     "output_type": "execute_result"
    }
   ],
   "source": [
    "tif_image = rasterio.open('../data/2024-04-21-dataset/standard/original/tifs/tile_tif_0_69.tif')\n",
    "p_width, p_height = tif_image.res\n",
    "tif_image.crs"
   ]
  },
  {
   "cell_type": "code",
   "execution_count": 51,
   "id": "6365765a-6fc9-42b0-8f83-2e05e483ab21",
   "metadata": {},
   "outputs": [
    {
     "data": {
      "text/plain": [
       "0.019999999999997724"
      ]
     },
     "execution_count": 51,
     "metadata": {},
     "output_type": "execute_result"
    }
   ],
   "source": [
    "p_width"
   ]
  },
  {
   "cell_type": "code",
   "execution_count": 77,
   "id": "0831c1aa-0166-4725-87fc-7ad75b47b1e7",
   "metadata": {},
   "outputs": [
    {
     "name": "stdout",
     "output_type": "stream",
     "text": [
      "5.88235294000294\n"
     ]
    }
   ],
   "source": [
    "des_ratio = check_resolution(\n",
    "        0.01999999999999,\n",
    "        '../data/2024-04-21-dataset/standard/original/tifs/tile_tif_0_69_RESAMPLED.tif',#../data/2024-04-21-dataset/standard/original/tifs/tile_tif_0_69.tif',\n",
    "        10\n",
    "    ),\n",
    "print(des_ratio[0])\n",
    "ResampleTIF(\n",
    "    des_ratio[0],\n",
    "    '../data/2024-04-21-dataset/standard/original/tifs/tile_tif_0_69_RESAMPLED.tif',\n",
    "    '../data/2024-04-21-dataset/standard/original/tifs/tile_tif_0_69_ORIG.tif'\n",
    ")"
   ]
  },
  {
   "cell_type": "code",
   "execution_count": 76,
   "id": "8d2c76ca-e31c-4fb9-83ea-dc1b2db92a79",
   "metadata": {},
   "outputs": [],
   "source": [
    "ResampleTIF(\n",
    "    0.1713,\n",
    "    '../data/2024-04-21-dataset/standard/original/tifs/tile_tif_0_69_ORIG.tif',\n",
    "    '../data/2024-04-21-dataset/standard/original/tifs/tile_tif_0_69_RESAMPLED.tif'\n",
    ")"
   ]
  },
  {
   "cell_type": "code",
   "execution_count": 1,
   "id": "3e0ea568-e325-44d3-ba57-20fbceb38645",
   "metadata": {},
   "outputs": [],
   "source": [
    "import torch"
   ]
  },
  {
   "cell_type": "code",
   "execution_count": 2,
   "id": "2e957303-a433-43f8-83bf-d4d8e24016f9",
   "metadata": {},
   "outputs": [
    {
     "data": {
      "text/plain": [
       "False"
      ]
     },
     "execution_count": 2,
     "metadata": {},
     "output_type": "execute_result"
    }
   ],
   "source": [
    "torch.cuda.is_available()"
   ]
  },
  {
   "cell_type": "code",
   "execution_count": null,
   "id": "ee061eaf-939f-4b49-b4b0-2d24ad95a505",
   "metadata": {},
   "outputs": [],
   "source": []
  }
 ],
 "metadata": {
  "kernelspec": {
   "display_name": "Python 3 (ipykernel)",
   "language": "python",
   "name": "python3"
  },
  "language_info": {
   "codemirror_mode": {
    "name": "ipython",
    "version": 3
   },
   "file_extension": ".py",
   "mimetype": "text/x-python",
   "name": "python",
   "nbconvert_exporter": "python",
   "pygments_lexer": "ipython3",
   "version": "3.8.19"
  }
 },
 "nbformat": 4,
 "nbformat_minor": 5
}
