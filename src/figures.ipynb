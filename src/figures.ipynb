{
 "cells": [
  {
   "attachments": {},
   "cell_type": "markdown",
   "metadata": {},
   "source": [
    "#### _import libraries_"
   ]
  },
  {
   "cell_type": "code",
   "execution_count": 2,
   "metadata": {},
   "outputs": [],
   "source": [
    "import matplotlib.pyplot as plt"
   ]
  },
  {
   "attachments": {},
   "cell_type": "markdown",
   "metadata": {},
   "source": [
    "#### figures:\n",
    "- _figure_ 1: UNet L\n",
    "- _figure_ 2: UNet S\n",
    "- _figure_ 3: DS-TransUNet\n",
    "- _figure_ 4: DS-TransUNet TIF module\n",
    "- _figure_ 5: Yolo\n",
    "- _figure_ 6: IoU\n",
    "- _figure_ 7: Dice\n",
    "- _figure_ 8: Dice köv.\n",
    "- _figure_ 6: Iou cm, Dice cm\n",
    "- _figure_ 6: Weighted Dice\n",
    "- _figure_ 6: Gauss\n",
    "- _figure_ 6: Mask\n",
    "- _figure_ 6: W. Mask\n",
    "- _figure_ 6: px. w. cl. m\n",
    "- _figure_ 6: Obj. w. cl. m\n",
    "- _figure_ 6: dice loss 2 var.\n",
    "- _figure_ 6: Focal Tversky képlet\n",
    "- _figure_ 6: BCE\n",
    "- figure 6: csempékre bontás\n",
    "- figure 6: csempés kép\n",
    "- figure 6: csempés maszk\n",
    "- _figure 6_: middle_split\n",
    "- figure 6: l exp1:precision\n",
    "- figure 6: l exp1:recall\n",
    "- figure 6: l exp1:cm\n",
    "- figure 6: l exp1:F1\n",
    "- figure 6: l exp2:w dice\n",
    "- figure 6: l exp2:f1\n",
    "- figure 6: l exp2:w dice\n",
    "- figure 6: l exp2:f1\n",
    "- figure 6: l exp3:kép\n",
    "- figure 6: l exp3:hiszt\n",
    "- figure 6: l exp3:clahe kép\n",
    "- figure 6: l exp3:clahe hiszt\n",
    "- figure 6: s exp3:eredeti\n",
    "- figure 6: s exp3:transzformált\n",
    "- _figure 6_: s exp3:képletek\n",
    "- figure 6: s exp3:vari vigreen\n",
    "- figure 6: saját modell\n",
    "\n",
    "\n",
    "\n",
    "\n"
   ]
  },
  {
   "attachments": {},
   "cell_type": "markdown",
   "metadata": {},
   "source": [
    "### figure 1"
   ]
  },
  {
   "cell_type": "code",
   "execution_count": 3,
   "metadata": {},
   "outputs": [],
   "source": [
    "def eq_2_img(eq, output_path):\n",
    "    plt.figure(figsize=(5, 2))\n",
    "    plt.text(0.5, 0.5, eq, \n",
    "             fontsize=20, ha='center', va='center')\n",
    "    plt.axis('off')\n",
    "    plt.savefig(output_path, bbox_inches='tight', dpi=600)\n",
    "    plt.show()\n",
    "    \n",
    "def d_eq_2_img(eq1, eq2, output_path):\n",
    "    plt.figure(figsize=(7, 2))\n",
    "    plt.text(0.25, 0.5, eq1, \n",
    "             fontsize=20, ha='center', va='center')\n",
    "    plt.text(0.75, 0.5, eq2, \n",
    "             fontsize=20, ha='center', va='center')\n",
    "    plt.axis('off')\n",
    "    plt.savefig(output_path, bbox_inches='tight', dpi=600)\n",
    "    plt.show()\n"
   ]
  },
  {
   "cell_type": "code",
   "execution_count": 6,
   "metadata": {},
   "outputs": [
    {
     "data": {
      "image/png": "[encoded data removed]",
      "text/plain": [
       "<Figure size 500x200 with 1 Axes>"
      ]
     },
     "metadata": {},
     "output_type": "display_data"
    }
   ],
   "source": [
    "eqs = [\n",
    "    ('../figures/iou_eq.png',r\"$IoU(A, B) = \\frac{|A \\cap B|}{|A \\cup B|} = \\frac{|A \\cap B|}{|A| + |B| - |A \\cap B|}$\"),\n",
    "    ('../figures/dice_eq.png',r\"$Dice(A, B) = \\frac{2|A \\cap B|}{|A| + |B|}$\"),\n",
    "    ('../figures/iou_dice_eq.png',[r\"$IoU = \\frac{Dice}{2 - Dice}$\", r\"$Dice = \\frac{2 IoU}{1 + IoU}$\"]),\n",
    "    ('../figures/iou_dice_cm_eq.png',[r'$DICE = \\frac{2TP}{2TP + FP + FN}$',r'$IoU = \\frac{TP}{TP + FP + FN}$']),\n",
    "    ('../figures/w_dice_eq.png',r\"$W.Dice(A, B) = \\frac{2W|A \\cap B|}{|WA| + |WB|}$\"),\n",
    "    ('../figures/gauss_eq.png',r\"$G = e^{-\\frac{d^2}{2 \\cdot \\sigma^2}}$\")\n",
    "]\n",
    "\n",
    "output_path, eq = eqs[-1]\n",
    "\n",
    "if isinstance(eq, list):\n",
    "    d_eq_2_img(\n",
    "        eq1=eq[0],\n",
    "        eq2=eq[1],\n",
    "        output_path=output_path\n",
    "    )\n",
    "else:\n",
    "    eq_2_img(\n",
    "        eq=eq,\n",
    "        output_path=output_path\n",
    "    )"
   ]
  },
  {
   "cell_type": "code",
   "execution_count": null,
   "metadata": {},
   "outputs": [],
   "source": []
  }
 ],
 "metadata": {
  "kernelspec": {
   "display_name": "canopyseg",
   "language": "python",
   "name": "python3"
  },
  "language_info": {
   "codemirror_mode": {
    "name": "ipython",
    "version": 3
   },
   "file_extension": ".py",
   "mimetype": "text/x-python",
   "name": "python",
   "nbconvert_exporter": "python",
   "pygments_lexer": "ipython3",
   "version": "3.9.19"
  },
  "orig_nbformat": 4
 },
 "nbformat": 4,
 "nbformat_minor": 2
}
