{
 "cells": [
  {
   "cell_type": "code",
   "execution_count": 11,
   "metadata": {},
   "outputs": [],
   "source": [
    "import sys\n",
    "sys.path.append('../')\n",
    "import os\n",
    "import warnings\n",
    "warnings.filterwarnings('ignore')\n",
    "from os.path import splitext\n",
    "\n",
    "import numpy as np\n",
    "import torch\n",
    "from torch.utils.data import Dataset, DataLoader, random_split\n",
    "from PIL import Image\n",
    "import matplotlib.pyplot as plt\n",
    "from multiprocessing import Pool\n",
    "from functools import partial\n",
    "from tqdm.auto import tqdm\n"
   ]
  },
  {
   "cell_type": "code",
   "execution_count": 29,
   "metadata": {},
   "outputs": [],
   "source": [
    "dataset_path= '../data/tiles/formatted'"
   ]
  },
  {
   "cell_type": "code",
   "execution_count": 35,
   "metadata": {},
   "outputs": [],
   "source": [
    "def load_image(filename):\n",
    "    ext = splitext(filename)[1]\n",
    "    if ext == '.npy':\n",
    "        return Image.fromarray(np.load(filename))\n",
    "    elif ext in ['.pt', '.pth']:\n",
    "        return Image.fromarray(torch.load(filename).numpy())\n",
    "    else:\n",
    "        return Image.open(filename)"
   ]
  },
  {
   "cell_type": "code",
   "execution_count": 36,
   "metadata": {},
   "outputs": [],
   "source": [
    "class ImageDataset(Dataset):\n",
    "    def __init__(self, dataset_path) -> None:\n",
    "        files = os.listdir(dataset_path)\n",
    "        self.images_path = []\n",
    "        self.masks_path = []\n",
    "        for file in files:\n",
    "            if file.split('_')[1]=='tif':\n",
    "                self.images_path.append(os.path.join(dataset_path,file))\n",
    "                self.masks_path.append(os.path.join(dataset_path,file.replace('tif','shp')))\n",
    "                \n",
    "    def __len__(self):\n",
    "        return len(self.images_path)\n",
    "    \n",
    "    @staticmethod\n",
    "    def preprocess(mask_values, pil_img, scale, is_mask):\n",
    "        w, h = pil_img.size\n",
    "        newW, newH = int(scale * w), int(scale * h)\n",
    "        assert newW > 0 and newH > 0, 'Scale is too small, resized images would have no pixel'\n",
    "        pil_img = pil_img.resize((newW, newH), resample=Image.NEAREST if is_mask else Image.BICUBIC)\n",
    "        img = np.asarray(pil_img)\n",
    "        if img.ndim == 2:\n",
    "            img = img[np.newaxis, ...]\n",
    "        else:\n",
    "            img = img.transpose((2, 0, 1))\n",
    "        #if (img > 1).any():\n",
    "        #    img = img / 255.0\n",
    "        img = img / 255.0\n",
    "        if is_mask:\n",
    "            img = img / 255.0\n",
    "        return img\n",
    "        \n",
    "    def __getitem__(self, idx):\n",
    "        #return {\n",
    "        #    'image': self.images_path[idx],\n",
    "        #    'mask': self.masks_path[idx]\n",
    "        #}\n",
    "        mask = load_image(self.images_path[idx])\n",
    "        img = load_image(self.masks_path[idx])\n",
    "        img = img.convert('L')\n",
    "        \n",
    "        assert img.size == mask.size, \\\n",
    "            f'Image and mask should be the same size, but are {img.size} and {mask.size}'\n",
    "\n",
    "        self.scale = 1.0\n",
    "        #self.scale = 0.2\n",
    "        \n",
    "        img = self.preprocess(1, img, self.scale, is_mask=False)\n",
    "        mask = self.preprocess(1, mask, self.scale, is_mask=True)\n",
    "        return {\n",
    "            'image': torch.as_tensor(img.copy()).float().contiguous(),\n",
    "            'mask': torch.as_tensor(mask.copy()).long().contiguous()\n",
    "        }\n",
    "    \n",
    "class ImageNameDataset(Dataset):\n",
    "    def __init__(self, dataset_path) -> None:\n",
    "        files = os.listdir(dataset_path)\n",
    "        self.images_path = []\n",
    "        self.masks_path = []\n",
    "        for file in files:\n",
    "            if file.split('_')[1]=='tif':\n",
    "                self.images_path.append(os.path.join(dataset_path,file))\n",
    "                self.masks_path.append(os.path.join(dataset_path,file.replace('tif','shp')))\n",
    "                \n",
    "    def __len__(self):\n",
    "        return len(self.images_path)\n",
    "    \n",
    "    def __getitem__(self, idx):\n",
    "        return {\n",
    "            'image': self.images_path[idx],\n",
    "            'mask': self.masks_path[idx]\n",
    "        }"
   ]
  },
  {
   "cell_type": "code",
   "execution_count": 37,
   "metadata": {},
   "outputs": [],
   "source": [
    "dataset = ImageDataset(dataset_path)"
   ]
  },
  {
   "cell_type": "code",
   "execution_count": 38,
   "metadata": {},
   "outputs": [
    {
     "name": "stdout",
     "output_type": "stream",
     "text": [
      "12 3\n"
     ]
    }
   ],
   "source": [
    "val_percent = 0.2\n",
    "\n",
    "n_val = int(len(dataset) * val_percent)\n",
    "n_train = len(dataset) - n_val\n",
    "train_set, val_set = random_split(dataset, [n_train, n_val], generator=torch.Generator().manual_seed(0))\n",
    "\n",
    "print(len(train_set),len(val_set))\n"
   ]
  },
  {
   "cell_type": "code",
   "execution_count": 55,
   "metadata": {},
   "outputs": [],
   "source": [
    "batch_size = 1\n",
    "#num_workers = os.cpu_count() - not working . . .\n",
    "\n",
    "loader_args = dict(batch_size=batch_size, pin_memory=True)#, num_workers=os.cpu_count(), pin_memory=True)\n",
    "train_loader = DataLoader(train_set, shuffle=True, **loader_args)\n",
    "val_loader = DataLoader(val_set, shuffle=False, **loader_args)"
   ]
  },
  {
   "cell_type": "code",
   "execution_count": 56,
   "metadata": {},
   "outputs": [
    {
     "name": "stdout",
     "output_type": "stream",
     "text": [
      "train_set:\n",
      "val_set:\n",
      "torch.Size([1, 1, 250, 250])\n",
      "torch.Size([1, 1, 250, 250])\n",
      "torch.Size([1, 1, 250, 250])\n",
      "torch.Size([1, 1, 250, 250])\n",
      "torch.Size([1, 1, 250, 250])\n",
      "torch.Size([1, 1, 250, 250])\n"
     ]
    }
   ],
   "source": [
    "print('train_set:')\n",
    "for batch in train_loader:\n",
    "    #print(batch['image'].shape)\n",
    "    #print(batch['mask'].shape)\n",
    "    images, true_masks = batch['image'], batch['mask']\n",
    "    #print(images.max().item())\n",
    "    #print(true_masks.max().item())\n",
    "    \n",
    "print('val_set:')\n",
    "for batch in val_loader:\n",
    "    print(batch['image'].shape)\n",
    "    print(batch['mask'].shape)\n",
    "    images, true_masks = batch['image'], batch['mask']\n",
    "    \n"
   ]
  },
  {
   "cell_type": "code",
   "execution_count": 57,
   "metadata": {},
   "outputs": [],
   "source": [
    "from src.unet_model import UNet\n",
    "from utils.scores import dice_loss\n",
    "import torch\n",
    "from torch import optim\n",
    "import torch.nn as nn\n",
    "import torch.nn.functional as F\n",
    "from src.evaluate import evaluate\n",
    "from pathlib import Path\n",
    "\n",
    "model = UNet(n_channels=1, n_classes=1)\n",
    "weight_decay= 1e-8\n",
    "learning_rate= 1e-5\n",
    "amp = False\n",
    "momentum = 0.999\n",
    "epochs = 20\n",
    "device = torch.device('cuda' if torch.cuda.is_available() else 'cpu')\n",
    "gradient_clipping: float = 1.0\n",
    "img_scale = 0.5\n",
    "save_checkpoint = True\n",
    "dir_checkpoint = '../model/checkpoints'"
   ]
  },
  {
   "cell_type": "code",
   "execution_count": 58,
   "metadata": {},
   "outputs": [],
   "source": [
    "optimizer = optim.RMSprop(model.parameters(),lr=learning_rate, weight_decay=weight_decay, momentum=momentum, foreach=True)\n",
    "scheduler = optim.lr_scheduler.ReduceLROnPlateau(optimizer, 'max', patience=5)\n",
    "grad_scaler = torch.cuda.amp.GradScaler(enabled=amp)\n",
    "criterion = nn.CrossEntropyLoss() if model.n_classes > 1 else nn.BCEWithLogitsLoss()\n",
    "global_step = 0"
   ]
  },
  {
   "cell_type": "code",
   "execution_count": 43,
   "metadata": {},
   "outputs": [],
   "source": [
    "import logging\n",
    "logging.basicConfig(level=logging.INFO,\n",
    "                    format='%(asctime)s - %(levelname)s - %(message)s',\n",
    "                    filename='../logs/training.log',\n",
    "                    filemode='w')\n"
   ]
  },
  {
   "cell_type": "code",
   "execution_count": 59,
   "metadata": {},
   "outputs": [
    {
     "name": "stderr",
     "output_type": "stream",
     "text": [
      "epoch 1/20: 100%|██████████| 12/12 [00:38<00:00,  3.20s/img, loss (batch)=1.48]\n",
      "epoch 2/20: 100%|██████████| 12/12 [00:35<00:00,  2.99s/img, loss (batch)=1.4] \n",
      "epoch 3/20: 100%|██████████| 12/12 [00:35<00:00,  2.99s/img, loss (batch)=1.38]\n",
      "epoch 4/20: 100%|██████████| 12/12 [00:38<00:00,  3.20s/img, loss (batch)=1.37]\n",
      "epoch 5/20: 100%|██████████| 12/12 [00:44<00:00,  3.67s/img, loss (batch)=1.38]\n",
      "epoch 6/20: 100%|██████████| 12/12 [00:43<00:00,  3.59s/img, loss (batch)=1.38]\n",
      "epoch 7/20: 100%|██████████| 12/12 [00:37<00:00,  3.13s/img, loss (batch)=1.54]\n",
      "epoch 8/20: 100%|██████████| 12/12 [00:40<00:00,  3.34s/img, loss (batch)=1.38]\n",
      "epoch 9/20: 100%|██████████| 12/12 [00:59<00:00,  4.98s/img, loss (batch)=1.38]\n",
      "epoch 10/20: 100%|██████████| 12/12 [00:48<00:00,  4.04s/img, loss (batch)=1.38]\n",
      "epoch 11/20: 100%|██████████| 12/12 [00:47<00:00,  3.94s/img, loss (batch)=1.38]\n",
      "epoch 12/20: 100%|██████████| 12/12 [00:45<00:00,  3.75s/img, loss (batch)=1.38]\n",
      "epoch 13/20: 100%|██████████| 12/12 [00:43<00:00,  3.66s/img, loss (batch)=1.37]\n",
      "epoch 14/20: 100%|██████████| 12/12 [00:40<00:00,  3.41s/img, loss (batch)=1.37]\n",
      "epoch 15/20: 100%|██████████| 12/12 [00:43<00:00,  3.60s/img, loss (batch)=1.38]\n",
      "epoch 16/20: 100%|██████████| 12/12 [00:42<00:00,  3.57s/img, loss (batch)=1.38]\n",
      "epoch 17/20: 100%|██████████| 12/12 [00:55<00:00,  4.60s/img, loss (batch)=1.37]\n",
      "epoch 18/20: 100%|██████████| 12/12 [00:40<00:00,  3.38s/img, loss (batch)=1.37]\n",
      "epoch 19/20: 100%|██████████| 12/12 [00:40<00:00,  3.34s/img, loss (batch)=1.37]\n",
      "epoch 20/20: 100%|██████████| 12/12 [00:44<00:00,  3.74s/img, loss (batch)=1.37]\n"
     ]
    }
   ],
   "source": [
    "logging.info(f'''Starting training:\n",
    "        Epochs:          {epochs}\n",
    "        Batch size:      {batch_size}\n",
    "        Learning rate:   {learning_rate}\n",
    "        Training size:   {n_train}\n",
    "        Validation size: {n_val}\n",
    "        Checkpoints:     {save_checkpoint}\n",
    "        Device:          {device.type}\n",
    "        Images scaling:  {img_scale}\n",
    "        Mixed Precision: {amp}\n",
    "    ''')\n",
    "\n",
    "for epoch in range(1, epochs + 1):\n",
    "        model.train()\n",
    "        epoch_loss = 0\n",
    "        with tqdm(total=n_train, desc=f'epoch {epoch}/{epochs}', unit='img') as pbar:\n",
    "            for batch in train_loader:\n",
    "                images, true_masks = batch['image'], batch['mask']\n",
    "\n",
    "                assert images.shape[1] == model.n_channels, \\\n",
    "                    f'Network has been defined with {model.n_channels} input channels, ' \\\n",
    "                    f'but loaded images have {images.shape[1]} channels. Please check that ' \\\n",
    "                    'the images are loaded correctly.'\n",
    "\n",
    "                images = images.to(device=device, dtype=torch.float32, memory_format=torch.channels_last)\n",
    "                true_masks = true_masks.to(device=device, dtype=torch.long)\n",
    "                with torch.autocast(device.type if device.type != 'mps' else 'cpu', enabled=amp):\n",
    "                    masks_pred = model(images)\n",
    "                    \n",
    "                    if model.n_classes == 1:\n",
    "                        loss = criterion(masks_pred.squeeze(1), true_masks.squeeze(1).float())\n",
    "                        loss += dice_loss(F.sigmoid(masks_pred.squeeze(1)), true_masks.squeeze(1).float(), multiclass=False)\n",
    "\n",
    "                    else:\n",
    "                        loss = criterion(masks_pred, true_masks)\n",
    "                        loss += dice_loss(\n",
    "                            F.softmax(masks_pred, dim=1).float(),\n",
    "                            F.one_hot(true_masks, model.n_classes).permute(0, 3, 1, 2).float(),\n",
    "                            multiclass=True\n",
    "                        )\n",
    "\n",
    "                optimizer.zero_grad(set_to_none=True)\n",
    "                grad_scaler.scale(loss).backward()\n",
    "                grad_scaler.unscale_(optimizer)\n",
    "                torch.nn.utils.clip_grad_norm_(model.parameters(), gradient_clipping)\n",
    "                grad_scaler.step(optimizer)\n",
    "                grad_scaler.update()\n",
    "\n",
    "                pbar.update(images.shape[0])\n",
    "                global_step += 1\n",
    "                epoch_loss += loss.item()\n",
    "\n",
    "                pbar.set_postfix(**{'loss (batch)': loss.item()})\n",
    "\n",
    "                # Evaluation round\n",
    "                division_step = (n_train // (5 * batch_size))\n",
    "                if division_step > 0:\n",
    "                    if global_step % division_step == 0:\n",
    "                        \n",
    "                        val_score = evaluate(model, val_loader, device, amp)\n",
    "                        scheduler.step(val_score)\n",
    "\n",
    "                        logging.info('Validation Dice score: {}'.format(val_score))\n",
    "                        \n",
    "        if save_checkpoint:\n",
    "            Path(dir_checkpoint).mkdir(parents=True, exist_ok=True)\n",
    "            state_dict = model.state_dict()\n",
    "            #state_dict['mask_values'] = dataset.mask_values\n",
    "            torch.save(state_dict, str(dir_checkpoint +'/'+ f'checkpoint_epoch{epoch}.pth'))\n",
    "            logging.info(f'Checkpoint {epoch} saved!')\n"
   ]
  },
  {
   "cell_type": "code",
   "execution_count": 60,
   "metadata": {},
   "outputs": [],
   "source": [
    "def predict_img(net,\n",
    "                full_img,\n",
    "                device,\n",
    "                scale_factor=1,\n",
    "                out_threshold=0.1):\n",
    "    net.eval()\n",
    "    img = torch.from_numpy(ImageDataset.preprocess(None, full_img, scale_factor, is_mask=False))\n",
    "    img = img.unsqueeze(0)\n",
    "    img = img.to(device=device, dtype=torch.float32)\n",
    "\n",
    "    with torch.no_grad():\n",
    "        output = net(img).cpu()\n",
    "        output = F.interpolate(output, (full_img.size[1], full_img.size[0]), mode='bilinear')\n",
    "        if net.n_classes > 1:\n",
    "            mask = output.argmax(dim=1)\n",
    "        else:\n",
    "            mask = torch.sigmoid(output) > out_threshold\n",
    "\n",
    "    return mask[0].long().squeeze().numpy()"
   ]
  },
  {
   "cell_type": "code",
   "execution_count": 61,
   "metadata": {},
   "outputs": [
    {
     "data": {
      "text/plain": [
       "<All keys matched successfully>"
      ]
     },
     "execution_count": 61,
     "metadata": {},
     "output_type": "execute_result"
    }
   ],
   "source": [
    "net = UNet(n_channels=1, n_classes=1)\n",
    "state_dict = torch.load('../model/checkpoints/checkpoint_epoch20.pth', map_location=device)\n",
    "net.load_state_dict(state_dict)"
   ]
  },
  {
   "cell_type": "code",
   "execution_count": 62,
   "metadata": {},
   "outputs": [
    {
     "data": {
      "image/png": "[encoded data removed]",
      "text/plain": [
       "<Figure size 640x480 with 2 Axes>"
      ]
     },
     "metadata": {},
     "output_type": "display_data"
    }
   ],
   "source": [
    "img = Image.open('../data/tiles/formatted/tile_shp_2_4.png')\n",
    "img = img.convert('L')\n",
    "pred = predict_img(net = net,\n",
    "                    full_img=img,\n",
    "                    scale_factor=1,\n",
    "                    out_threshold=0.5,\n",
    "                    device=device)\n",
    "\n",
    "plt.imshow(pred, cmap='gray')\n",
    "plt.colorbar()\n",
    "plt.show()\n",
    "\n",
    "mask_pil = Image.fromarray((pred * 255).astype(np.uint8))\n",
    "mask_pil.save('../results/firstpred_2_4.png')"
   ]
  },
  {
   "cell_type": "code",
   "execution_count": 85,
   "metadata": {},
   "outputs": [],
   "source": [
    "from utils.imageprocessing import getPoints_fromPNG, convert_PNGtoSHP\n",
    "import rasterio\n",
    "from shapely.geometry import Point, box\n",
    "import geopandas as gpd\n",
    "import cv2"
   ]
  },
  {
   "cell_type": "code",
   "execution_count": 91,
   "metadata": {},
   "outputs": [],
   "source": [
    "\n",
    "file = 'tile_tif_1_0.png'\n",
    "#img = Image.open(os.path.join('../data/tiles/formatted',file)).convert('L')\n",
    "\n",
    "img = cv2.imread(os.path.join('../data/tiles/formatted',file))\n",
    "img = cv2.cvtColor(img, cv2.COLOR_BGR2RGB)\n",
    "img = Image.fromarray(img).convert('L')\n",
    "#img = img.point(lambda p: p > threshold and 255)\n",
    "#print(np.array(img))\n",
    "#plt.imshow(img)\n",
    "#plt.axis('off')\n",
    "#plt.show()\n",
    "img.show()"
   ]
  },
  {
   "cell_type": "code",
   "execution_count": 94,
   "metadata": {},
   "outputs": [],
   "source": [
    "def prediction(unet,folder, out_folder):\n",
    "    threshold = 254\n",
    "    files = os.listdir(folder)\n",
    "    for file in files:\n",
    "        if file.split('_')[1]=='tif':\n",
    "            print(file)\n",
    "            #img = Image.open(os.path.join(folder,file)).convert('L')\n",
    "            #img = img.point(lambda p: p > threshold and 255)\n",
    "            img = cv2.imread(os.path.join(folder,file))\n",
    "            img = cv2.cvtColor(img, cv2.COLOR_BGR2RGB)\n",
    "            img = Image.fromarray(img).convert('L')\n",
    "            #img.show()\n",
    "            pred = predict_img(net = unet,\n",
    "                    full_img=img,\n",
    "                    scale_factor=1,\n",
    "                    out_threshold=0.8,\n",
    "                    device=device)\n",
    "            mask = Image.fromarray((pred * 255).astype(np.uint8))\n",
    "            tile, type, row, col = splitext(file)[0].split('_')\n",
    "            mask_filename = f'pred_{tile}_png_{row}_{col}.png'\n",
    "            mask.save(os.path.join(out_folder,mask_filename))"
   ]
  },
  {
   "cell_type": "code",
   "execution_count": 95,
   "metadata": {},
   "outputs": [
    {
     "name": "stdout",
     "output_type": "stream",
     "text": [
      "tile_tif_0_2.png\n",
      "tile_tif_2_0.png\n",
      "tile_tif_2_1.png\n",
      "tile_tif_0_3.png\n",
      "tile_tif_0_1.png\n",
      "tile_tif_2_3.png\n",
      "tile_tif_2_2.png\n",
      "tile_tif_0_0.png\n",
      "tile_tif_0_4.png\n",
      "tile_tif_2_4.png\n",
      "tile_tif_1_1.png\n",
      "tile_tif_1_0.png\n",
      "tile_tif_1_2.png\n",
      "tile_tif_1_3.png\n",
      "tile_tif_1_4.png\n"
     ]
    }
   ],
   "source": [
    "prediction(net,\n",
    "           '../data/tiles/formatted',\n",
    "           '../results')"
   ]
  },
  {
   "cell_type": "code",
   "execution_count": null,
   "metadata": {},
   "outputs": [],
   "source": [
    "convert_PNGtoSHP('../data/tiles/original')"
   ]
  },
  {
   "cell_type": "code",
   "execution_count": 63,
   "metadata": {},
   "outputs": [],
   "source": [
    "image_coords = getPoints_fromPNG('../results/firstpred_2_4.png')\n",
    "            \n",
    "tif_path = '../data/tiles/original/tile_tif_2_4.tif'\n",
    "with rasterio.open(tif_path) as src:\n",
    "    transform = src.transform  #affine transformation object\n",
    "    crs = src.crs  #coordinate Reference System\n",
    "                \n",
    "geo_coords = [transform * (x, y) for x, y in image_coords]\n",
    "            \n",
    "#geo_coords -> Points (obj.)\n",
    "point_geoms = [Point(coord) for coord in geo_coords]\n",
    "    \n",
    "#create a GeoDataFrame with the Points\n",
    "gdf = gpd.GeoDataFrame(geometry=point_geoms, crs=crs)  # Adjust CRS as needed\n",
    "    \n",
    "#save the GeoDataFrame as a shapefile\n",
    "gdf.to_file('../results/firstpred_2_4.shp')"
   ]
  }
 ],
 "metadata": {
  "kernelspec": {
   "display_name": "canopysegmentation",
   "language": "python",
   "name": "python3"
  },
  "language_info": {
   "codemirror_mode": {
    "name": "ipython",
    "version": 3
   },
   "file_extension": ".py",
   "mimetype": "text/x-python",
   "name": "python",
   "nbconvert_exporter": "python",
   "pygments_lexer": "ipython3",
   "version": "3.9.6"
  },
  "orig_nbformat": 4
 },
 "nbformat": 4,
 "nbformat_minor": 2
}
