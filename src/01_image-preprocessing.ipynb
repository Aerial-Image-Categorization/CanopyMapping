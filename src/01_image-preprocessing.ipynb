{
 "cells": [
  {
   "attachments": {},
   "cell_type": "markdown",
   "metadata": {},
   "source": [
    "## crop the images"
   ]
  },
  {
   "cell_type": "code",
   "execution_count": 1,
   "metadata": {},
   "outputs": [
    {
     "name": "stderr",
     "output_type": "stream",
     "text": [
      "/Users/banoczymartin/OE Projects/Mapping Upper Canopy Level/venvs_can/canopysegmentation/lib/python3.9/site-packages/tqdm/auto.py:21: TqdmWarning: IProgress not found. Please update jupyter and ipywidgets. See https://ipywidgets.readthedocs.io/en/stable/user_install.html\n",
      "  from .autonotebook import tqdm as notebook_tqdm\n"
     ]
    }
   ],
   "source": [
    "import os\n",
    "from osgeo import gdal, ogr\n",
    "from shapely.geometry import box , Point\n",
    "import geopandas as gpd\n",
    "import rasterio\n",
    "from rasterio.mask import mask\n",
    "\n",
    "from tqdm.auto import tqdm"
   ]
  },
  {
   "attachments": {},
   "cell_type": "markdown",
   "metadata": {},
   "source": [
    "### split tiff"
   ]
  },
  {
   "cell_type": "code",
   "execution_count": 2,
   "metadata": {},
   "outputs": [],
   "source": [
    "def split_tiff(tif_path, out_folder, tile_size=(250, 250)):\n",
    "    ds = gdal.Open(tif_path)\n",
    "    if ds is None:\n",
    "        print(f\"Could not open input TIFF file: {tif_path}\")\n",
    "        return\n",
    "    \n",
    "    #get raster width and height\n",
    "    width = ds.RasterXSize\n",
    "    height = ds.RasterYSize\n",
    "\n",
    "    #calc. the number of rows and columns\n",
    "    num_cols = (width + tile_size[0] - 1) // tile_size[0]\n",
    "    num_rows = (height + tile_size[1] - 1) // tile_size[1]\n",
    "    \n",
    "    total_tiles = num_rows * num_cols\n",
    "    with tqdm(total=total_tiles, desc='splitting tiffs') as pbar:\n",
    "        for i in range(num_rows):\n",
    "            for j in range(num_cols):\n",
    "                #bbox coordinates\n",
    "                xmin = j * tile_size[0]\n",
    "                ymin = i * tile_size[1]\n",
    "                xmax = min((j + 1) * tile_size[0], width)\n",
    "                ymax = min((i + 1) * tile_size[1], height)\n",
    "                \n",
    "                #crop & save\n",
    "                output_tif = os.path.join(out_folder, f'tile_tiff_{i}_{j}.tif')\n",
    "                gdal.Translate(output_tif, ds, srcWin=[xmin, ymin, xmax - xmin, ymax - ymin])\n",
    "                pbar.update(1)\n",
    "    \n",
    "#out_folder = '../data/tiles'\n",
    "#tile_size = (250, 250)  #tile size in pixels\n",
    "#split_tiff(tif_path, out_folder, tile_size)\n"
   ]
  },
  {
   "attachments": {},
   "cell_type": "markdown",
   "metadata": {},
   "source": [
    "### splitting shapefile with splitted tiff file's locations"
   ]
  },
  {
   "cell_type": "code",
   "execution_count": 3,
   "metadata": {},
   "outputs": [],
   "source": [
    "def split_shp(bigger_shapefile_path, tiff_file_path, output_folder):\n",
    "    #read the shp\n",
    "    gdf_bigger = gpd.read_file(bigger_shapefile_path)\n",
    "    \n",
    "    #read the tiff and get the bbox\n",
    "    with rasterio.open(tiff_file_path) as src:\n",
    "        bbox = box(*src.bounds)\n",
    "    \n",
    "    #clip the bigger shapefile to the extent of the TIFF file\n",
    "    gdf_intersection = gdf_bigger[gdf_bigger.intersects(bbox)]\n",
    "    \n",
    "    splitted_name = os.path.basename(tiff_file_path).split('_')\n",
    "    out_path = os.path.join(output_folder,\n",
    "                            f'tile_shp_{splitted_name[2]}_{os.path.splitext(splitted_name[3])[0]}.shp')\n",
    "    gdf_intersection.to_file(out_path)\n",
    "\n",
    "#tif_path = '../data/actual_data/2023-02-23-bakonyszucs_im_cropped.tif'\n",
    "#shp_path = '../data/actual_data/Pont.shp'\n",
    "#out_folder ='../data/distributed'\n",
    "#split_shp(shp_path, 'output_tiles/tile_tiff_0_0.tif', '../data/tiles')\n"
   ]
  },
  {
   "attachments": {},
   "cell_type": "markdown",
   "metadata": {},
   "source": [
    "## concat tiff & shp split"
   ]
  },
  {
   "cell_type": "code",
   "execution_count": 29,
   "metadata": {},
   "outputs": [],
   "source": [
    "def split(tiff_path, shp_path, output_folder, tile_size=(250, 250)):\n",
    "    \n",
    "    split_tiff(tiff_path,output_folder,tile_size)\n",
    "\n",
    "    extension = '.tif'\n",
    "    files = os.listdir(output_folder)\n",
    "    total_files = len(files)\n",
    "    tiff_files=[]\n",
    "    with tqdm(total=total_files) as pbar:\n",
    "        for file in files:\n",
    "            if file.endswith(extension):\n",
    "                tiff_files.append(os.path.join(output_folder, file))\n",
    "            pbar.update(1)\n",
    "            \n",
    "    total_files = len(tiff_files)\n",
    "    with tqdm(total=total_files, desc='splitting shps') as pbar:\n",
    "        for tiff_path in tiff_files:\n",
    "            split_shp(shp_path, tiff_path, output_folder)\n",
    "            pbar.update(1)\n",
    "    print('success')    "
   ]
  },
  {
   "cell_type": "code",
   "execution_count": null,
   "metadata": {},
   "outputs": [],
   "source": [
    "def get_tiff_size(tiff_file_path):\n",
    "    with rasterio.open(tiff_file_path) as src:\n",
    "        width = src.width\n",
    "        height = src.height\n",
    "    return width, height\n",
    "print(get_tiff_size('../data/tiles/tile_tiff_1_1.tif'))"
   ]
  },
  {
   "attachments": {},
   "cell_type": "markdown",
   "metadata": {},
   "source": [
    "## convert SHP to PNG"
   ]
  },
  {
   "cell_type": "code",
   "execution_count": null,
   "metadata": {},
   "outputs": [],
   "source": [
    "#matplotlib version\n",
    "\n",
    "import os\n",
    "import geopandas as gpd\n",
    "import matplotlib.pyplot as plt\n",
    "\n",
    "def convert_SHPtoPNG(shp_path,png_path, point_size=1, dpi = 300, bg_color='black',fg_color='white', fig_size=(50,50)):\n",
    "    '''\n",
    "    returns the point as well as a list of tuples\n",
    "    '''\n",
    "    \n",
    "    gdf = gpd.read_file(shp_path)\n",
    "\n",
    "    xmin, ymin, xmax, ymax = gdf.total_bounds\n",
    "    print(gdf.total_bounds)\n",
    "    #plot points as white boxes on a black background\n",
    "    fig, ax = plt.subplots(figsize=fig_size)\n",
    "    #ax.set_xlim(xmin, xmax)\n",
    "    #ax.set_ylim(ymin, ymax)\n",
    "    ax.set_xlim(0, 250)\n",
    "    ax.set_ylim(0, 250)\n",
    "    \n",
    "    ax.set_facecolor(bg_color)\n",
    "    ax.scatter(gdf.geometry.x, gdf.geometry.y, s=point_size, color=fg_color) #point size\n",
    "\n",
    "    #save the plot as a PNG image\n",
    "    plt.savefig(png_path, bbox_inches='tight', pad_inches=0, facecolor='black', dpi=dpi)\n",
    "    plt.close()\n",
    "    \n",
    "    #points = [(p.x, p.y) for p in gdf.geometry]\n",
    "    return list(zip(gdf.geometry.x,gdf.geometry.y))#points (X, Y)\n",
    "    \n",
    "shp_path = '../data/tiles/tile_shp_0_0.shp'\n",
    "out_path = '../data/tile_png_0_0_250.png'\n",
    "points = convert_SHPtoPNG(shp_path,out_path,point_size=5, fig_size=(10,10))\n",
    "print(points)"
   ]
  },
  {
   "cell_type": "code",
   "execution_count": 25,
   "metadata": {},
   "outputs": [],
   "source": [
    "#pillow version (working) \n",
    "\n",
    "from PIL import Image, ImageDraw\n",
    "import rasterio\n",
    "from rasterio.warp import transform_bounds\n",
    "from pyproj import Transformer\n",
    "\n",
    "def convert_SHPtoPNG(tiff_path, shp_path, png_path, tile_size=(250,250), point_size=1, bg_color='black', fg_color='white'):\n",
    "    '''\n",
    "    Returns the point list as well as saves a PNG image with points plotted.\n",
    "    '''\n",
    "    gdf = gpd.read_file(shp_path)\n",
    "    \n",
    "    target_epsg = 23700\n",
    "    with rasterio.open(tiff_path) as src:\n",
    "        src_crs = src.crs\n",
    "        # Transform the bounding box coordinates to the target EPSG code\n",
    "        transformer = Transformer.from_crs(src_crs, f'EPSG:{target_epsg}', always_xy=True)\n",
    "        bbox_transformed = transform_bounds(src_crs, f'EPSG:{target_epsg}', *src.bounds)\n",
    "\n",
    "    #xmin, ymin, xmax, ymax = gdf.total_bounds\n",
    "    #print(gdf.total_bounds)\n",
    "    xmin, ymin, xmax, ymax = bbox_transformed\n",
    "\n",
    "    img_width, img_height = tile_size\n",
    "    \n",
    "    #new blank image\n",
    "    img = Image.new('RGB', (img_width, img_height), color=bg_color)\n",
    "    draw = ImageDraw.Draw(img)\n",
    "\n",
    "#    for geom in gdf.geometry:\n",
    "#        x = int((geom.x - xmin) / (xmax - xmin) * img_width)\n",
    "#        y = img_height - int((geom.y - ymin) / (ymax - ymin) * img_height)\n",
    "#        draw.ellipse([x - point_size, y - point_size, x + point_size, y + point_size], fill=fg_color,outline=fg_color)\n",
    "\n",
    "#    for geom in gdf.geometry:\n",
    "#        x = int((geom.x - xmin) / (xmax - xmin) * img_width)\n",
    "#        y = int((geom.y - ymin) / (ymax - ymin) * img_height)\n",
    "#        draw.ellipse([x - point_size, y - point_size, x + point_size, y + point_size], fill=fg_color, outline=fg_color)\n",
    "\n",
    "    for geom in gdf.geometry:\n",
    "        x = int((geom.x - xmin) / (xmax - xmin) * img_width)\n",
    "        y = int((ymax - geom.y) / (ymax - ymin) * img_height)  # Invert\n",
    "        draw.ellipse([x - point_size, y - point_size, x + point_size, y + point_size], fill=fg_color, outline=fg_color)\n",
    "\n",
    "    img.save(png_path)\n",
    "    img.close()\n",
    "\n",
    "    #extract points\n",
    "    points = list(zip(gdf.geometry.x, gdf.geometry.y))  # List of tuples (X, Y)\n",
    "    return points"
   ]
  },
  {
   "cell_type": "code",
   "execution_count": null,
   "metadata": {},
   "outputs": [],
   "source": [
    "#get points with ogr\n",
    "\n",
    "from osgeo import ogr\n",
    "\n",
    "shp_path = \"../data/tile_shp_0_0_copy.shp\"\n",
    "input_ds = ogr.Open(shp_path)\n",
    "\n",
    "if input_ds is None:\n",
    "    print(f\"Could not open input shapefile: {shp_path}\")\n",
    "    exit()\n",
    "\n",
    "# Get the input layer\n",
    "input_layer = input_ds.GetLayer()\n",
    "\n",
    "# List to store points\n",
    "points_list = []\n",
    "\n",
    "# Loop through features to extract points\n",
    "for feature in input_layer:\n",
    "    geom = feature.GetGeometryRef()\n",
    "    if geom is not None:\n",
    "        for i in range(geom.GetPointCount()):\n",
    "            point = geom.GetPoint(i)\n",
    "            points_list.append(point)\n",
    "\n",
    "# Close the shapefile\n",
    "input_ds = None\n",
    "\n",
    "# Print the list of points\n",
    "print(points_list)\n"
   ]
  },
  {
   "cell_type": "code",
   "execution_count": null,
   "metadata": {},
   "outputs": [],
   "source": [
    "gdf = gpd.read_file(shp_path)\n",
    "min_x, min_y, max_x, max_y = gdf.total_bounds\n",
    "\n",
    "# Calculate the difference between maximum and minimum coordinate values\n",
    "x_resolution = max_x - min_x\n",
    "y_resolution = max_y - min_y\n",
    "print(x_resolution, y_resolution)"
   ]
  },
  {
   "attachments": {},
   "cell_type": "markdown",
   "metadata": {},
   "source": [
    "### copy shp param."
   ]
  },
  {
   "cell_type": "code",
   "execution_count": null,
   "metadata": {},
   "outputs": [],
   "source": [
    "output_shp = '../data/tile_shp_0_0_copy.shp' #'../data/actual_data/output_points.shp'\n",
    "input_shp = '../data/tiles/tile_shp_0_0.shp'\n",
    "input_ds = ogr.Open(shp_path)\n",
    "\n",
    "if input_ds is None:\n",
    "    print(f\"Could not open input shapefile: {shp_path}\")\n",
    "    exit()\n",
    "    \n",
    "# Get the input layer\n",
    "input_layer = input_ds.GetLayer()\n",
    "\n",
    "# Create a new shapefile for writing\n",
    "driver = ogr.GetDriverByName('ESRI Shapefile')\n",
    "if os.path.exists(output_shp):\n",
    "    driver.DeleteDataSource(output_shp)\n",
    "output_ds = driver.CreateDataSource(output_shp)\n",
    "output_layer = output_ds.CreateLayer(input_layer.GetName(), input_layer.GetSpatialRef(), input_layer.GetGeomType())\n",
    "\n",
    "# Define the fields and add them to the output layer\n",
    "field_def_list = []\n",
    "for i in range(input_layer.GetLayerDefn().GetFieldCount()):\n",
    "    field_def = input_layer.GetLayerDefn().GetFieldDefn(i)\n",
    "    field_def_list.append(field_def)\n",
    "    output_layer.CreateField(field_def)\n",
    "print(field_def_list, len(field_def_list))\n",
    "# Copy features from input layer to output layer with modified geometry (e.g., move features)\n",
    "for feature in input_layer:\n",
    "    geom = feature.GetGeometryRef()\n",
    "    # Modify the geometry here (e.g., move the feature)\n",
    "    # Example: geom.SetPoint(0, NEW_X, NEW_Y)  # Move the first point of the geometry\n",
    "    new_feature = ogr.Feature(output_layer.GetLayerDefn())\n",
    "    new_feature.SetGeometry(geom)\n",
    "    if geom is not None:\n",
    "        print(geom.GetPoint())\n",
    "    for i, field_def in enumerate(field_def_list):\n",
    "        new_feature.SetField(i, feature.GetField(i))\n",
    "    output_layer.CreateFeature(new_feature)\n",
    "    new_feature = None\n",
    "\n",
    "# Close the shapefiles\n",
    "input_ds = None\n",
    "output_ds = None"
   ]
  },
  {
   "attachments": {},
   "cell_type": "markdown",
   "metadata": {},
   "source": [
    "## get the white dots center point on a png image"
   ]
  },
  {
   "cell_type": "code",
   "execution_count": null,
   "metadata": {},
   "outputs": [],
   "source": [
    "#very slow compared to opencv\n",
    "from PIL import Image\n",
    "import numpy as np\n",
    "from scipy import ndimage\n",
    "def getPoints_fromPNG(image_path):\n",
    "    img = Image.open(image_path)\n",
    "    \n",
    "    #grayscale\n",
    "    img_gray = img.convert('L')\n",
    "    \n",
    "    threshold = 254\n",
    "    img_binary = np.array(img_gray) > threshold\n",
    "    \n",
    "    #find connected components in the binary mask\n",
    "    labeled_img, num_features = ndimage.label(img_binary)\n",
    "    \n",
    "    white_dot_centers = []\n",
    "    \n",
    "    for label in range(1, num_features + 1):\n",
    "        #find coordinates of all pixels belonging to the connected component\n",
    "        rows, cols = np.where(labeled_img == label)\n",
    "        \n",
    "        #calc. centroid as the mean of x and y coordinates\n",
    "        center_x = np.mean(cols)\n",
    "        center_y = np.mean(rows)\n",
    "        \n",
    "        #append centroid\n",
    "        white_dot_centers.append((center_x, center_y))\n",
    "    \n",
    "    return white_dot_centers\n",
    "\n",
    "white_dot_centers = getPoints_fromPNG(image_path)\n",
    "print(white_dot_centers)\n",
    "white_dot_centers.count((1071.0,3.0))\n",
    "len(white_dot_centers)"
   ]
  },
  {
   "cell_type": "code",
   "execution_count": 6,
   "metadata": {},
   "outputs": [],
   "source": [
    "#fastest way\n",
    "import cv2\n",
    "def getPoints_fromPNG(image_path):\n",
    "    img = cv2.imread(image_path)\n",
    "    \n",
    "    #grayscale\n",
    "    img_gray = cv2.cvtColor(img, cv2.COLOR_BGR2GRAY)\n",
    "    \n",
    "    #threshold\n",
    "    _, img_binary = cv2.threshold(img_gray, 200, 255, cv2.THRESH_BINARY)\n",
    "    \n",
    "    #find contours\n",
    "    contours, _ = cv2.findContours(img_binary, cv2.RETR_EXTERNAL, cv2.CHAIN_APPROX_SIMPLE)\n",
    "    \n",
    "    white_dot_centers = []\n",
    "    for contour in contours:\n",
    "        #calculate the moments\n",
    "        M = cv2.moments(contour)\n",
    "        \n",
    "        #calculate centroid coordinates\n",
    "        if M[\"m00\"] != 0:\n",
    "            cX = int(M[\"m10\"] / M[\"m00\"])\n",
    "            cY = int(M[\"m01\"] / M[\"m00\"])\n",
    "            white_dot_centers.append((cX, cY))\n",
    "    \n",
    "    return white_dot_centers\n",
    "\n",
    "#image_path = '../data/tile_png_0_0.png'\n",
    "#white_dot_centers = getPoints_fromPNG(image_path)\n",
    "#print(white_dot_centers)\n",
    "#white_dot_centers.count((1071, 3))\n",
    "#len(white_dot_centers)"
   ]
  },
  {
   "attachments": {},
   "cell_type": "markdown",
   "metadata": {},
   "source": [
    "## create shp from points"
   ]
  },
  {
   "cell_type": "code",
   "execution_count": 7,
   "metadata": {},
   "outputs": [],
   "source": [
    "import os\n",
    "from osgeo import ogr, osr"
   ]
  },
  {
   "cell_type": "code",
   "execution_count": 8,
   "metadata": {},
   "outputs": [],
   "source": [
    "def create_shapefile(output_shp, points):\n",
    "    driver = ogr.GetDriverByName('ESRI Shapefile')\n",
    "    if os.path.exists(output_shp):\n",
    "        driver.DeleteDataSource(output_shp)\n",
    "    output_ds = driver.CreateDataSource(output_shp)\n",
    "    \n",
    "    spatial_ref = osr.SpatialReference()\n",
    "    #spatial_ref.ImportFromEPSG(4326)  # WGS84\n",
    "    spatial_ref.ImportFromEPSG(23700) # new\n",
    "    \n",
    "    #new layer\n",
    "    output_layer = output_ds.CreateLayer(\"points\", spatial_ref, ogr.wkbPoint)\n",
    "    \n",
    "    #define a field for the point ID\n",
    "    id_field = ogr.FieldDefn(\"ID\", ogr.OFTInteger)\n",
    "    output_layer.CreateField(id_field)\n",
    "    \n",
    "    #create points and add them to the layer\n",
    "    for i, (x, y) in enumerate(points):\n",
    "        point = ogr.Geometry(ogr.wkbPoint)\n",
    "        point.AddPoint(x,y)\n",
    "        \n",
    "        feature = ogr.Feature(output_layer.GetLayerDefn())\n",
    "        feature.SetGeometry(point)\n",
    "        feature.SetField(\"ID\", i+1)\n",
    "        output_layer.CreateFeature(feature)\n",
    "        \n",
    "        feature = None\n",
    "    \n",
    "    output_ds = None\n",
    "\n",
    "\n",
    "#output_shp = '../data/frompng_tile_shp_0_0.shp'\n",
    "#points = white_dot_centers#[(10, 20), (30, 40), (50, 60)]  # Example list of coordinates\n",
    "\n",
    "#create_shapefile(output_shp, points)\n"
   ]
  },
  {
   "attachments": {},
   "cell_type": "markdown",
   "metadata": {},
   "source": [
    "## get tiff informations"
   ]
  },
  {
   "cell_type": "code",
   "execution_count": 9,
   "metadata": {},
   "outputs": [],
   "source": [
    "import rasterio\n",
    "from rasterio.warp import transform_bounds\n",
    "from pyproj import Transformer"
   ]
  },
  {
   "cell_type": "code",
   "execution_count": 11,
   "metadata": {},
   "outputs": [
    {
     "ename": "RasterioIOError",
     "evalue": "../data/tiles/tile_tiff_0_0.tif: No such file or directory",
     "output_type": "error",
     "traceback": [
      "\u001b[0;31m---------------------------------------------------------------------------\u001b[0m",
      "\u001b[0;31mCPLE_OpenFailedError\u001b[0m                      Traceback (most recent call last)",
      "File \u001b[0;32mrasterio/_base.pyx:310\u001b[0m, in \u001b[0;36mrasterio._base.DatasetBase.__init__\u001b[0;34m()\u001b[0m\n",
      "File \u001b[0;32mrasterio/_base.pyx:221\u001b[0m, in \u001b[0;36mrasterio._base.open_dataset\u001b[0;34m()\u001b[0m\n",
      "File \u001b[0;32mrasterio/_err.pyx:221\u001b[0m, in \u001b[0;36mrasterio._err.exc_wrap_pointer\u001b[0;34m()\u001b[0m\n",
      "\u001b[0;31mCPLE_OpenFailedError\u001b[0m: ../data/tiles/tile_tiff_0_0.tif: No such file or directory",
      "\nDuring handling of the above exception, another exception occurred:\n",
      "\u001b[0;31mRasterioIOError\u001b[0m                           Traceback (most recent call last)",
      "Cell \u001b[0;32mIn[11], line 13\u001b[0m\n\u001b[1;32m     11\u001b[0m tiff_path \u001b[39m=\u001b[39m \u001b[39m\"\u001b[39m\u001b[39m../data/tiles/tile_tiff_0_0.tif\u001b[39m\u001b[39m\"\u001b[39m\n\u001b[1;32m     12\u001b[0m target_epsg \u001b[39m=\u001b[39m \u001b[39m23700\u001b[39m  \u001b[39m# Example EPSG code (WGS 84)\u001b[39;00m\n\u001b[0;32m---> 13\u001b[0m get_tiff_location(tiff_path, target_epsg)\n",
      "Cell \u001b[0;32mIn[11], line 2\u001b[0m, in \u001b[0;36mget_tiff_location\u001b[0;34m(tiff_path, target_epsg)\u001b[0m\n\u001b[1;32m      1\u001b[0m \u001b[39mdef\u001b[39;00m \u001b[39mget_tiff_location\u001b[39m(tiff_path, target_epsg):\n\u001b[0;32m----> 2\u001b[0m     \u001b[39mwith\u001b[39;00m rasterio\u001b[39m.\u001b[39;49mopen(tiff_path) \u001b[39mas\u001b[39;00m src:\n\u001b[1;32m      3\u001b[0m         src_crs \u001b[39m=\u001b[39m src\u001b[39m.\u001b[39mcrs\n\u001b[1;32m      4\u001b[0m         \u001b[39m# Transform the bounding box coordinates to the target EPSG code\u001b[39;00m\n",
      "File \u001b[0;32m~/OE Projects/Mapping Upper Canopy Level/venvs_can/canopysegmentation/lib/python3.9/site-packages/rasterio/env.py:451\u001b[0m, in \u001b[0;36mensure_env_with_credentials.<locals>.wrapper\u001b[0;34m(*args, **kwds)\u001b[0m\n\u001b[1;32m    448\u001b[0m     session \u001b[39m=\u001b[39m DummySession()\n\u001b[1;32m    450\u001b[0m \u001b[39mwith\u001b[39;00m env_ctor(session\u001b[39m=\u001b[39msession):\n\u001b[0;32m--> 451\u001b[0m     \u001b[39mreturn\u001b[39;00m f(\u001b[39m*\u001b[39;49margs, \u001b[39m*\u001b[39;49m\u001b[39m*\u001b[39;49mkwds)\n",
      "File \u001b[0;32m~/OE Projects/Mapping Upper Canopy Level/venvs_can/canopysegmentation/lib/python3.9/site-packages/rasterio/__init__.py:304\u001b[0m, in \u001b[0;36mopen\u001b[0;34m(fp, mode, driver, width, height, count, crs, transform, dtype, nodata, sharing, **kwargs)\u001b[0m\n\u001b[1;32m    301\u001b[0m path \u001b[39m=\u001b[39m _parse_path(raw_dataset_path)\n\u001b[1;32m    303\u001b[0m \u001b[39mif\u001b[39;00m mode \u001b[39m==\u001b[39m \u001b[39m\"\u001b[39m\u001b[39mr\u001b[39m\u001b[39m\"\u001b[39m:\n\u001b[0;32m--> 304\u001b[0m     dataset \u001b[39m=\u001b[39m DatasetReader(path, driver\u001b[39m=\u001b[39;49mdriver, sharing\u001b[39m=\u001b[39;49msharing, \u001b[39m*\u001b[39;49m\u001b[39m*\u001b[39;49mkwargs)\n\u001b[1;32m    305\u001b[0m \u001b[39melif\u001b[39;00m mode \u001b[39m==\u001b[39m \u001b[39m\"\u001b[39m\u001b[39mr+\u001b[39m\u001b[39m\"\u001b[39m:\n\u001b[1;32m    306\u001b[0m     dataset \u001b[39m=\u001b[39m get_writer_for_path(path, driver\u001b[39m=\u001b[39mdriver)(\n\u001b[1;32m    307\u001b[0m         path, mode, driver\u001b[39m=\u001b[39mdriver, sharing\u001b[39m=\u001b[39msharing, \u001b[39m*\u001b[39m\u001b[39m*\u001b[39mkwargs\n\u001b[1;32m    308\u001b[0m     )\n",
      "File \u001b[0;32mrasterio/_base.pyx:312\u001b[0m, in \u001b[0;36mrasterio._base.DatasetBase.__init__\u001b[0;34m()\u001b[0m\n",
      "\u001b[0;31mRasterioIOError\u001b[0m: ../data/tiles/tile_tiff_0_0.tif: No such file or directory"
     ]
    }
   ],
   "source": [
    "def get_tiff_location(tiff_path, target_epsg):\n",
    "    with rasterio.open(tiff_path) as src:\n",
    "        src_crs = src.crs\n",
    "        # Transform the bounding box coordinates to the target EPSG code\n",
    "        transformer = Transformer.from_crs(src_crs, f'EPSG:{target_epsg}', always_xy=True)\n",
    "        bbox_transformed = transform_bounds(src_crs, f'EPSG:{target_epsg}', *src.bounds)\n",
    "        # Convert the transformed coordinates to the desired format (here, simply printing)\n",
    "        print(f\"Bounding box coordinates in EPSG:{target_epsg}: {bbox_transformed}\")\n",
    "\n",
    "# Example usage:\n",
    "tiff_path = \"../data/tiles/tile_tiff_0_0.tif\"\n",
    "target_epsg = 23700  # Example EPSG code (WGS 84)\n",
    "get_tiff_location(tiff_path, target_epsg)\n"
   ]
  },
  {
   "cell_type": "code",
   "execution_count": null,
   "metadata": {},
   "outputs": [],
   "source": [
    "# get tif info.\n",
    "tiff_path = '../data/tiles/original/tile_tiff_0_0.tif'\n",
    "with rasterio.open(tiff_path) as src:\n",
    "    transform = src.transform  #affine transformation object\n",
    "    crs = src.crs  #coordinate Reference System\n",
    "print(\"Affine transformation:\", transform)\n",
    "print(\"Coordinate Reference System (CRS):\", crs)"
   ]
  },
  {
   "attachments": {},
   "cell_type": "markdown",
   "metadata": {},
   "source": [
    "## pipeline"
   ]
  },
  {
   "cell_type": "code",
   "execution_count": 10,
   "metadata": {},
   "outputs": [],
   "source": [
    "import rasterio\n",
    "from rasterio.transform import from_origin\n",
    "from rasterio.warp import reproject, Resampling\n",
    "import geopandas as gpd\n",
    "from shapely.geometry import Point"
   ]
  },
  {
   "cell_type": "code",
   "execution_count": 27,
   "metadata": {},
   "outputs": [
    {
     "name": "stderr",
     "output_type": "stream",
     "text": [
      "splitting tiffs: 100%|██████████| 15/15 [00:00<00:00, 107.80it/s]\n",
      "100%|██████████| 15/15 [00:00<00:00, 200364.84it/s]\n",
      "splitting shps:  87%|████████▋ | 13/15 [00:00<00:00, 16.95it/s]/Users/banoczymartin/OE Projects/Mapping Upper Canopy Level/venvs_can/canopysegmentation/lib/python3.9/site-packages/geopandas/io/file.py:633: UserWarning: You are attempting to write an empty DataFrame to file. For some drivers, this operation may fail.\n",
      "  _to_file_fiona(df, filename, driver, schema, crs, mode, **kwargs)\n",
      "splitting shps: 100%|██████████| 15/15 [00:00<00:00, 15.99it/s]\n"
     ]
    },
    {
     "name": "stdout",
     "output_type": "stream",
     "text": [
      "success\n"
     ]
    }
   ],
   "source": [
    "# 1. data prep.\n",
    "#   - splitting geo. images\n",
    "split('../data/actual_data/2023-02-23-bakonyszucs_im_cropped.tif',\n",
    "      '../data/actual_data/Pont.shp',\n",
    "      '../data/tiles/original')\n",
    "\n",
    "#   - convert to .png for the model\n",
    "convert_SHPtoPNG('../data/tiles/original/tile_tiff_0_0.tif',\n",
    "                 '../data/tiles/original/tile_shp_0_0.shp',\n",
    "                 '../data/tiles/formatted/shp_0_0_png.png',\n",
    "                 3)\n",
    "# 2. prediction\n",
    "\n",
    "# ****\n",
    "# model pred.\n",
    "# ****\n",
    "\n",
    "# 3. get the predicted points's image coordinates\n",
    "image_coords = getPoints_fromPNG('../data/tiles/formatted/shp_0_0_png.png')\n",
    "\n",
    "# 4. creating the shapefile\n",
    "#   - img_coords -> geo_coords.\n",
    "geo_coords = [transform * (x, y) for x, y in image_coords]\n",
    "\n",
    "#   - geo_coords -> Points (obj.)\n",
    "point_geoms = [Point(coord) for coord in geo_coords]\n",
    "\n",
    "#   - create a GeoDataFrame with the Points\n",
    "gdf = gpd.GeoDataFrame(geometry=point_geoms, crs=crs)  # Adjust CRS as needed\n",
    "\n",
    "#   - save the GeoDataFrame as a shapefile\n",
    "gdf.to_file(\"../results/predicted_points_0_0.shp\")"
   ]
  },
  {
   "attachments": {},
   "cell_type": "markdown",
   "metadata": {},
   "source": [
    "## create png dataset"
   ]
  },
  {
   "cell_type": "code",
   "execution_count": 11,
   "metadata": {},
   "outputs": [],
   "source": [
    "import os\n",
    "from tqdm.auto import tqdm\n",
    "import numpy as np"
   ]
  },
  {
   "cell_type": "code",
   "execution_count": 15,
   "metadata": {},
   "outputs": [],
   "source": [
    "def scale_pixel_values(input_dataset):\n",
    "    # Read pixel values as a NumPy array\n",
    "    band = input_dataset.GetRasterBand(1)\n",
    "    data = band.ReadAsArray()\n",
    "\n",
    "    # Scale pixel values to fit within the range of UInt16\n",
    "    min_val = np.min(data)\n",
    "    max_val = np.max(data)\n",
    "    scaled_data = ((data - min_val) / (max_val - min_val) * 65535).astype(np.uint16)\n",
    "\n",
    "    return scaled_data"
   ]
  },
  {
   "cell_type": "code",
   "execution_count": 26,
   "metadata": {},
   "outputs": [],
   "source": [
    "def createDataset(folder, out_folder, tile_size=(250,250)):\n",
    "    files = os.listdir(folder)\n",
    "    total_count= len(files)\n",
    "    with tqdm(total=total_count, desc='creating png files') as pbar:\n",
    "        for file in files:\n",
    "            if file.endswith('.shp'):\n",
    "                # .shp\n",
    "                tiff_path = os.path.join(folder,str(file).replace('_shp_','_tiff_').replace('.shp','.tif'))\n",
    "                shp_path = os.path.join(folder,file)\n",
    "                out_path = os.path.join(out_folder, os.path.splitext(file)[0]+'.png')\n",
    "                convert_SHPtoPNG(tiff_path, shp_path, out_path, tile_size, 3)\n",
    "            \n",
    "                # .tif\n",
    "                tiff_file = gdal.Open(tiff_path)\n",
    "                scaled = scale_pixel_values(tiff_file)\n",
    "                #output_image = Image.fromarray(scaled)\n",
    "                #output_image.save(out_path)\n",
    "                cv2.imwrite(out_path.replace('shp','tif'), scaled)\n",
    "            pbar.update(1)\n",
    "        "
   ]
  },
  {
   "cell_type": "code",
   "execution_count": 28,
   "metadata": {},
   "outputs": [
    {
     "name": "stderr",
     "output_type": "stream",
     "text": [
      "creating png files: 100%|██████████| 90/90 [00:01<00:00, 80.17it/s] \n"
     ]
    }
   ],
   "source": [
    "folder = '../data/tiles/original'\n",
    "out_folder = '../data/tiles/formatted'\n",
    "size = (250,250)\n",
    "#size = (500,500)\n",
    "\n",
    "createDataset(folder,out_folder,size)"
   ]
  },
  {
   "cell_type": "code",
   "execution_count": 32,
   "metadata": {},
   "outputs": [
    {
     "name": "stderr",
     "output_type": "stream",
     "text": [
      "splitting tiffs: 100%|██████████| 6/6 [00:00<00:00, 74.58it/s]\n",
      "100%|██████████| 90/90 [00:00<00:00, 204600.20it/s]\n",
      "splitting shps:  80%|████████  | 12/15 [00:00<00:00, 11.86it/s]/Users/banoczymartin/OE Projects/Mapping Upper Canopy Level/venvs_can/canopysegmentation/lib/python3.9/site-packages/geopandas/io/file.py:633: UserWarning: You are attempting to write an empty DataFrame to file. For some drivers, this operation may fail.\n",
      "  _to_file_fiona(df, filename, driver, schema, crs, mode, **kwargs)\n",
      "splitting shps: 100%|██████████| 15/15 [00:01<00:00, 12.29it/s]\n"
     ]
    },
    {
     "name": "stdout",
     "output_type": "stream",
     "text": [
      "success\n"
     ]
    },
    {
     "name": "stderr",
     "output_type": "stream",
     "text": [
      "creating png files: 100%|██████████| 90/90 [00:01<00:00, 67.53it/s] \n",
      "[ WARN:0@1428.695] global loadsave.cpp:248 findDecoder imread_('../data/tiles/formatted/shp_0_0_png.png'): can't open/read file: check file path/integrity\n"
     ]
    },
    {
     "ename": "error",
     "evalue": "OpenCV(4.9.0) /Users/xperience/GHA-OpenCV-Python2/_work/opencv-python/opencv-python/opencv/modules/imgproc/src/color.cpp:196: error: (-215:Assertion failed) !_src.empty() in function 'cvtColor'\n",
     "output_type": "error",
     "traceback": [
      "\u001b[0;31m---------------------------------------------------------------------------\u001b[0m",
      "\u001b[0;31merror\u001b[0m                                     Traceback (most recent call last)",
      "Cell \u001b[0;32mIn[32], line 23\u001b[0m\n\u001b[1;32m     14\u001b[0m createDataset(folder,out_folder)\n\u001b[1;32m     16\u001b[0m \u001b[39m# 2. prediction\u001b[39;00m\n\u001b[1;32m     17\u001b[0m \n\u001b[1;32m     18\u001b[0m \u001b[39m# ****\u001b[39;00m\n\u001b[0;32m   (...)\u001b[0m\n\u001b[1;32m     21\u001b[0m \n\u001b[1;32m     22\u001b[0m \u001b[39m# 3. get the predicted points's image coordinates\u001b[39;00m\n\u001b[0;32m---> 23\u001b[0m image_coords \u001b[39m=\u001b[39m getPoints_fromPNG(\u001b[39m'\u001b[39;49m\u001b[39m../data/tiles/formatted/shp_0_0_png.png\u001b[39;49m\u001b[39m'\u001b[39;49m)\n\u001b[1;32m     25\u001b[0m \u001b[39m# 4. creating the shapefile\u001b[39;00m\n\u001b[1;32m     26\u001b[0m \u001b[39m#   - img_coords -> geo_coords.\u001b[39;00m\n\u001b[1;32m     27\u001b[0m geo_coords \u001b[39m=\u001b[39m [transform \u001b[39m*\u001b[39m (x, y) \u001b[39mfor\u001b[39;00m x, y \u001b[39min\u001b[39;00m image_coords]\n",
      "Cell \u001b[0;32mIn[6], line 7\u001b[0m, in \u001b[0;36mgetPoints_fromPNG\u001b[0;34m(image_path)\u001b[0m\n\u001b[1;32m      4\u001b[0m img \u001b[39m=\u001b[39m cv2\u001b[39m.\u001b[39mimread(image_path)\n\u001b[1;32m      6\u001b[0m \u001b[39m#grayscale\u001b[39;00m\n\u001b[0;32m----> 7\u001b[0m img_gray \u001b[39m=\u001b[39m cv2\u001b[39m.\u001b[39;49mcvtColor(img, cv2\u001b[39m.\u001b[39;49mCOLOR_BGR2GRAY)\n\u001b[1;32m      9\u001b[0m \u001b[39m#threshold\u001b[39;00m\n\u001b[1;32m     10\u001b[0m _, img_binary \u001b[39m=\u001b[39m cv2\u001b[39m.\u001b[39mthreshold(img_gray, \u001b[39m200\u001b[39m, \u001b[39m255\u001b[39m, cv2\u001b[39m.\u001b[39mTHRESH_BINARY)\n",
      "\u001b[0;31merror\u001b[0m: OpenCV(4.9.0) /Users/xperience/GHA-OpenCV-Python2/_work/opencv-python/opencv-python/opencv/modules/imgproc/src/color.cpp:196: error: (-215:Assertion failed) !_src.empty() in function 'cvtColor'\n"
     ]
    }
   ],
   "source": [
    "# 1. data prep.\n",
    "#   - splitting geo. images\n",
    "folder = '../data/tiles/original'\n",
    "out_folder = '../data/tiles/formatted'\n",
    "size = (250,250)\n",
    "size = (500,500)\n",
    "\n",
    "split('../data/actual_data/2023-02-23-bakonyszucs_im_cropped.tif',\n",
    "      '../data/actual_data/Pont.shp',\n",
    "      '../data/tiles/original',\n",
    "      size)\n",
    "\n",
    "#   - convert to .png for the model\n",
    "createDataset(folder,out_folder)\n",
    "\n",
    "# 2. prediction\n",
    "\n",
    "# ****\n",
    "# model pred.\n",
    "# ****\n",
    "\n",
    "# 3. get the predicted points's image coordinates\n",
    "image_coords = getPoints_fromPNG('../data/tiles/formatted/shp_0_0_png.png')\n",
    "\n",
    "# 4. creating the shapefile\n",
    "#   - img_coords -> geo_coords.\n",
    "geo_coords = [transform * (x, y) for x, y in image_coords]\n",
    "\n",
    "#   - geo_coords -> Points (obj.)\n",
    "point_geoms = [Point(coord) for coord in geo_coords]\n",
    "\n",
    "#   - create a GeoDataFrame with the Points\n",
    "gdf = gpd.GeoDataFrame(geometry=point_geoms, crs=crs)  # Adjust CRS as needed\n",
    "\n",
    "#   - save the GeoDataFrame as a shapefile\n",
    "gdf.to_file(\"../results/predicted_points_0_0.shp\")"
   ]
  }
 ],
 "metadata": {
  "kernelspec": {
   "display_name": "canopysegmentation",
   "language": "python",
   "name": "python3"
  },
  "language_info": {
   "codemirror_mode": {
    "name": "ipython",
    "version": 3
   },
   "file_extension": ".py",
   "mimetype": "text/x-python",
   "name": "python",
   "nbconvert_exporter": "python",
   "pygments_lexer": "ipython3",
   "version": "3.9.6"
  },
  "orig_nbformat": 4
 },
 "nbformat": 4,
 "nbformat_minor": 2
}
