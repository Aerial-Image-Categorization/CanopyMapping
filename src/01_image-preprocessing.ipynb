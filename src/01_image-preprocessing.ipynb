{
 "cells": [
  {
   "attachments": {},
   "cell_type": "markdown",
   "metadata": {},
   "source": [
    "## crop the images"
   ]
  },
  {
   "cell_type": "code",
   "execution_count": 2,
   "metadata": {},
   "outputs": [
    {
     "name": "stderr",
     "output_type": "stream",
     "text": [
      "/Users/banoczymartin/OE Projects/Mapping Upper Canopy Level/venvs_can/canopysegmentation/lib/python3.9/site-packages/tqdm/auto.py:21: TqdmWarning: IProgress not found. Please update jupyter and ipywidgets. See https://ipywidgets.readthedocs.io/en/stable/user_install.html\n",
      "  from .autonotebook import tqdm as notebook_tqdm\n"
     ]
    }
   ],
   "source": [
    "import os\n",
    "from osgeo import gdal, ogr\n",
    "from shapely.geometry import box , Point\n",
    "import geopandas as gpd\n",
    "import rasterio\n",
    "from rasterio.mask import mask\n",
    "\n",
    "from tqdm.auto import tqdm"
   ]
  },
  {
   "attachments": {},
   "cell_type": "markdown",
   "metadata": {},
   "source": [
    "### split tif"
   ]
  },
  {
   "cell_type": "code",
   "execution_count": 187,
   "metadata": {},
   "outputs": [],
   "source": [
    "def split_tif(tif_path, out_folder, tile_size=(250, 250)):\n",
    "    ds = gdal.Open(tif_path)\n",
    "    if ds is None:\n",
    "        print(f\"Could not open input TIF file: {tif_path}\")\n",
    "        return\n",
    "    \n",
    "    #get raster width and height\n",
    "    width = ds.RasterXSize\n",
    "    height = ds.RasterYSize\n",
    "\n",
    "    #calc. the number of rows and columns\n",
    "    num_cols = (width + tile_size[0] - 1) // tile_size[0]\n",
    "    num_rows = (height + tile_size[1] - 1) // tile_size[1]\n",
    "    \n",
    "    total_tiles = num_rows * num_cols\n",
    "    with tqdm(total=total_tiles, desc='splitting tifs') as pbar:\n",
    "        for i in range(num_rows):\n",
    "            for j in range(num_cols):\n",
    "                #bbox coordinates\n",
    "                xmin = j * tile_size[0]\n",
    "                ymin = i * tile_size[1]\n",
    "                xmax = min((j + 1) * tile_size[0], width)\n",
    "                ymax = min((i + 1) * tile_size[1], height)\n",
    "                \n",
    "                #crop & save\n",
    "                output_tif = os.path.join(out_folder, f'tile_tif_{i}_{j}.tif')\n",
    "                gdal.Translate(output_tif, ds, srcWin=[xmin, ymin, xmax - xmin, ymax - ymin])\n",
    "                pbar.update(1)\n",
    "    \n",
    "#out_folder = '../data/tiles'\n",
    "#tile_size = (250, 250)  #tile size in pixels\n",
    "#split_tif(tif_path, out_folder, tile_size)\n"
   ]
  },
  {
   "attachments": {},
   "cell_type": "markdown",
   "metadata": {},
   "source": [
    "### splitting shapefile with splitted tif file's locations"
   ]
  },
  {
   "cell_type": "code",
   "execution_count": 188,
   "metadata": {},
   "outputs": [],
   "source": [
    "def split_shp(bigger_shapefile_path, tif_file_path, output_folder):\n",
    "    #read the shp\n",
    "    gdf_bigger = gpd.read_file(bigger_shapefile_path)\n",
    "    \n",
    "    #read the tif and get the bbox\n",
    "    with rasterio.open(tif_file_path) as src:\n",
    "        bbox = box(*src.bounds)\n",
    "    \n",
    "    #clip the bigger shapefile to the extent of the TIF file\n",
    "    gdf_intersection = gdf_bigger[gdf_bigger.intersects(bbox)]\n",
    "    \n",
    "    splitted_name = os.path.basename(tif_file_path).split('_')\n",
    "    out_path = os.path.join(output_folder,\n",
    "                            f'tile_shp_{splitted_name[2]}_{os.path.splitext(splitted_name[3])[0]}.shp')\n",
    "    gdf_intersection.to_file(out_path)\n",
    "\n",
    "#tif_path = '../data/actual_data/2023-02-23-bakonyszucs_im_cropped.tif'\n",
    "#shp_path = '../data/actual_data/Pont.shp'\n",
    "#out_folder ='../data/distributed'\n",
    "#split_shp(shp_path, 'output_tiles/tile_tif_0_0.tif', '../data/tiles')\n"
   ]
  },
  {
   "attachments": {},
   "cell_type": "markdown",
   "metadata": {},
   "source": [
    "## concat tif & shp split"
   ]
  },
  {
   "cell_type": "code",
   "execution_count": 14,
   "metadata": {},
   "outputs": [],
   "source": [
    "def split(tif_path, shp_path, output_folder, tile_size=(250, 250)):\n",
    "    \n",
    "    split_tif(tif_path,output_folder,tile_size)\n",
    "\n",
    "    extension = '.tif'\n",
    "    files = os.listdir(output_folder)\n",
    "    total_files = len(files)\n",
    "    tif_files=[]\n",
    "    with tqdm(total=total_files, desc='splitting shps') as pbar:\n",
    "        for file in files:\n",
    "            if file.endswith(extension):\n",
    "                tif_files.append(os.path.join(output_folder, file))\n",
    "            pbar.update(1)\n",
    "            \n",
    "    total_files = len(tif_files)\n",
    "    with tqdm(total=total_files, desc='splitting shps') as pbar:\n",
    "        for tif_path in tif_files:\n",
    "            split_shp(shp_path, tif_path, output_folder)\n",
    "            pbar.update(1)\n",
    "    print('success')    "
   ]
  },
  {
   "cell_type": "code",
   "execution_count": 189,
   "metadata": {},
   "outputs": [],
   "source": [
    "def split(tif_path, shp_path, output_folder, tile_size=(250, 250)):\n",
    "    \n",
    "    split_tif(tif_path,output_folder,tile_size)\n",
    "\n",
    "    extension = '.tif'\n",
    "    files = os.listdir(output_folder)\n",
    "    total_files = len(files)\n",
    "    with tqdm(total=total_files, desc='splitting shps') as pbar:\n",
    "        for file in files:\n",
    "            if file.endswith(extension):\n",
    "                split_shp(shp_path, os.path.join(output_folder, file), output_folder)\n",
    "            pbar.update(1)"
   ]
  },
  {
   "cell_type": "code",
   "execution_count": 6,
   "metadata": {},
   "outputs": [],
   "source": [
    "def get_tif_size(tif_file_path):\n",
    "    with rasterio.open(tif_file_path) as src:\n",
    "        width = src.width\n",
    "        height = src.height\n",
    "    return width, height\n",
    "#print(get_tif_size('../data/tiles/tile_tif_1_1.tif'))"
   ]
  },
  {
   "attachments": {},
   "cell_type": "markdown",
   "metadata": {},
   "source": [
    "## convert SHP to PNG"
   ]
  },
  {
   "cell_type": "code",
   "execution_count": null,
   "metadata": {},
   "outputs": [],
   "source": [
    "#matplotlib version\n",
    "\n",
    "import os\n",
    "import geopandas as gpd\n",
    "import matplotlib.pyplot as plt\n",
    "\n",
    "def convert_SHPtoPNG(shp_path,png_path, point_size=1, dpi = 300, bg_color='black',fg_color='white', fig_size=(50,50)):\n",
    "    '''\n",
    "    returns the point as well as a list of tuples\n",
    "    '''\n",
    "    \n",
    "    gdf = gpd.read_file(shp_path)\n",
    "\n",
    "    xmin, ymin, xmax, ymax = gdf.total_bounds\n",
    "    print(gdf.total_bounds)\n",
    "    #plot points as white boxes on a black background\n",
    "    fig, ax = plt.subplots(figsize=fig_size)\n",
    "    #ax.set_xlim(xmin, xmax)\n",
    "    #ax.set_ylim(ymin, ymax)\n",
    "    ax.set_xlim(0, 250)\n",
    "    ax.set_ylim(0, 250)\n",
    "    \n",
    "    ax.set_facecolor(bg_color)\n",
    "    ax.scatter(gdf.geometry.x, gdf.geometry.y, s=point_size, color=fg_color) #point size\n",
    "\n",
    "    #save the plot as a PNG image\n",
    "    plt.savefig(png_path, bbox_inches='tight', pad_inches=0, facecolor='black', dpi=dpi)\n",
    "    plt.close()\n",
    "    \n",
    "    #points = [(p.x, p.y) for p in gdf.geometry]\n",
    "    return list(zip(gdf.geometry.x,gdf.geometry.y))#points (X, Y)\n",
    "    \n",
    "shp_path = '../data/tiles/tile_shp_0_0.shp'\n",
    "out_path = '../data/tile_png_0_0_250.png'\n",
    "points = convert_SHPtoPNG(shp_path,out_path,point_size=5, fig_size=(10,10))\n",
    "print(points)"
   ]
  },
  {
   "cell_type": "code",
   "execution_count": 190,
   "metadata": {},
   "outputs": [],
   "source": [
    "#pillow version (working) \n",
    "\n",
    "from PIL import Image, ImageDraw\n",
    "import rasterio\n",
    "from rasterio.warp import transform_bounds\n",
    "from pyproj import Transformer\n",
    "\n",
    "def convert_SHPtoPNG(tif_path, shp_path, png_path, tile_size=(250,250), point_size=1, bg_color='black', fg_color='white'):\n",
    "    '''\n",
    "    Returns the point list as well as saves a PNG image with points plotted.\n",
    "    '''\n",
    "    gdf = gpd.read_file(shp_path)\n",
    "    \n",
    "    target_epsg = 23700\n",
    "    with rasterio.open(tif_path) as src:\n",
    "        src_crs = src.crs\n",
    "        # Transform the bounding box coordinates to the target EPSG code\n",
    "        transformer = Transformer.from_crs(src_crs, f'EPSG:{target_epsg}', always_xy=True)\n",
    "        bbox_transformed = transform_bounds(src_crs, f'EPSG:{target_epsg}', *src.bounds)\n",
    "\n",
    "    #xmin, ymin, xmax, ymax = gdf.total_bounds\n",
    "    #print(gdf.total_bounds)\n",
    "    xmin, ymin, xmax, ymax = bbox_transformed\n",
    "\n",
    "    img_width, img_height = tile_size\n",
    "    \n",
    "    #new blank image\n",
    "    img = Image.new('RGB', (img_width, img_height), color=bg_color)\n",
    "    draw = ImageDraw.Draw(img)\n",
    "\n",
    "#    for geom in gdf.geometry:\n",
    "#        x = int((geom.x - xmin) / (xmax - xmin) * img_width)\n",
    "#        y = img_height - int((geom.y - ymin) / (ymax - ymin) * img_height)\n",
    "#        draw.ellipse([x - point_size, y - point_size, x + point_size, y + point_size], fill=fg_color,outline=fg_color)\n",
    "\n",
    "#    for geom in gdf.geometry:\n",
    "#        x = int((geom.x - xmin) / (xmax - xmin) * img_width)\n",
    "#        y = int((geom.y - ymin) / (ymax - ymin) * img_height)\n",
    "#        draw.ellipse([x - point_size, y - point_size, x + point_size, y + point_size], fill=fg_color, outline=fg_color)\n",
    "\n",
    "    for geom in gdf.geometry:\n",
    "        x = int((geom.x - xmin) / (xmax - xmin) * img_width)\n",
    "        y = int((ymax - geom.y) / (ymax - ymin) * img_height)  # Invert\n",
    "        draw.ellipse([x - point_size, y - point_size, x + point_size, y + point_size], fill=fg_color, outline=fg_color)\n",
    "\n",
    "    img.save(png_path)\n",
    "    img.close()\n",
    "\n",
    "    #extract points\n",
    "    points = list(zip(gdf.geometry.x, gdf.geometry.y))  # List of tuples (X, Y)\n",
    "    return points"
   ]
  },
  {
   "cell_type": "code",
   "execution_count": null,
   "metadata": {},
   "outputs": [],
   "source": [
    "#get points with ogr\n",
    "\n",
    "from osgeo import ogr\n",
    "\n",
    "shp_path = \"../data/tile_shp_0_0_copy.shp\"\n",
    "input_ds = ogr.Open(shp_path)\n",
    "\n",
    "if input_ds is None:\n",
    "    print(f\"Could not open input shapefile: {shp_path}\")\n",
    "    exit()\n",
    "\n",
    "# Get the input layer\n",
    "input_layer = input_ds.GetLayer()\n",
    "\n",
    "# List to store points\n",
    "points_list = []\n",
    "\n",
    "# Loop through features to extract points\n",
    "for feature in input_layer:\n",
    "    geom = feature.GetGeometryRef()\n",
    "    if geom is not None:\n",
    "        for i in range(geom.GetPointCount()):\n",
    "            point = geom.GetPoint(i)\n",
    "            points_list.append(point)\n",
    "\n",
    "# Close the shapefile\n",
    "input_ds = None\n",
    "\n",
    "# Print the list of points\n",
    "print(points_list)\n"
   ]
  },
  {
   "cell_type": "code",
   "execution_count": null,
   "metadata": {},
   "outputs": [],
   "source": [
    "gdf = gpd.read_file(shp_path)\n",
    "min_x, min_y, max_x, max_y = gdf.total_bounds\n",
    "\n",
    "# Calculate the difference between maximum and minimum coordinate values\n",
    "x_resolution = max_x - min_x\n",
    "y_resolution = max_y - min_y\n",
    "print(x_resolution, y_resolution)"
   ]
  },
  {
   "attachments": {},
   "cell_type": "markdown",
   "metadata": {},
   "source": [
    "### copy shp param."
   ]
  },
  {
   "cell_type": "code",
   "execution_count": null,
   "metadata": {},
   "outputs": [],
   "source": [
    "output_shp = '../data/tile_shp_0_0_copy.shp' #'../data/actual_data/output_points.shp'\n",
    "input_shp = '../data/tiles/tile_shp_0_0.shp'\n",
    "input_ds = ogr.Open(shp_path)\n",
    "\n",
    "if input_ds is None:\n",
    "    print(f\"Could not open input shapefile: {shp_path}\")\n",
    "    exit()\n",
    "    \n",
    "# Get the input layer\n",
    "input_layer = input_ds.GetLayer()\n",
    "\n",
    "# Create a new shapefile for writing\n",
    "driver = ogr.GetDriverByName('ESRI Shapefile')\n",
    "if os.path.exists(output_shp):\n",
    "    driver.DeleteDataSource(output_shp)\n",
    "output_ds = driver.CreateDataSource(output_shp)\n",
    "output_layer = output_ds.CreateLayer(input_layer.GetName(), input_layer.GetSpatialRef(), input_layer.GetGeomType())\n",
    "\n",
    "# Define the fields and add them to the output layer\n",
    "field_def_list = []\n",
    "for i in range(input_layer.GetLayerDefn().GetFieldCount()):\n",
    "    field_def = input_layer.GetLayerDefn().GetFieldDefn(i)\n",
    "    field_def_list.append(field_def)\n",
    "    output_layer.CreateField(field_def)\n",
    "print(field_def_list, len(field_def_list))\n",
    "# Copy features from input layer to output layer with modified geometry (e.g., move features)\n",
    "for feature in input_layer:\n",
    "    geom = feature.GetGeometryRef()\n",
    "    # Modify the geometry here (e.g., move the feature)\n",
    "    # Example: geom.SetPoint(0, NEW_X, NEW_Y)  # Move the first point of the geometry\n",
    "    new_feature = ogr.Feature(output_layer.GetLayerDefn())\n",
    "    new_feature.SetGeometry(geom)\n",
    "    if geom is not None:\n",
    "        print(geom.GetPoint())\n",
    "    for i, field_def in enumerate(field_def_list):\n",
    "        new_feature.SetField(i, feature.GetField(i))\n",
    "    output_layer.CreateFeature(new_feature)\n",
    "    new_feature = None\n",
    "\n",
    "# Close the shapefiles\n",
    "input_ds = None\n",
    "output_ds = None"
   ]
  },
  {
   "attachments": {},
   "cell_type": "markdown",
   "metadata": {},
   "source": [
    "## get the white dots center point on a png image"
   ]
  },
  {
   "cell_type": "code",
   "execution_count": null,
   "metadata": {},
   "outputs": [],
   "source": [
    "#very slow compared to opencv\n",
    "from PIL import Image\n",
    "import numpy as np\n",
    "from scipy import ndimage\n",
    "def getPoints_fromPNG(image_path):\n",
    "    img = Image.open(image_path)\n",
    "    \n",
    "    #grayscale\n",
    "    img_gray = img.convert('L')\n",
    "    \n",
    "    threshold = 254\n",
    "    img_binary = np.array(img_gray) > threshold\n",
    "    \n",
    "    #find connected components in the binary mask\n",
    "    labeled_img, num_features = ndimage.label(img_binary)\n",
    "    \n",
    "    white_dot_centers = []\n",
    "    \n",
    "    for label in range(1, num_features + 1):\n",
    "        #find coordinates of all pixels belonging to the connected component\n",
    "        rows, cols = np.where(labeled_img == label)\n",
    "        \n",
    "        #calc. centroid as the mean of x and y coordinates\n",
    "        center_x = np.mean(cols)\n",
    "        center_y = np.mean(rows)\n",
    "        \n",
    "        #append centroid\n",
    "        white_dot_centers.append((center_x, center_y))\n",
    "    \n",
    "    return white_dot_centers\n",
    "\n",
    "white_dot_centers = getPoints_fromPNG(image_path)\n",
    "print(white_dot_centers)\n",
    "white_dot_centers.count((1071.0,3.0))\n",
    "len(white_dot_centers)"
   ]
  },
  {
   "cell_type": "code",
   "execution_count": 191,
   "metadata": {},
   "outputs": [],
   "source": [
    "#fastest way\n",
    "import cv2\n",
    "def getPoints_fromPNG(image_path):\n",
    "    img = cv2.imread(image_path)\n",
    "    \n",
    "    #grayscale\n",
    "    img_gray = cv2.cvtColor(img, cv2.COLOR_BGR2GRAY)\n",
    "    \n",
    "    #threshold\n",
    "    _, img_binary = cv2.threshold(img_gray, 200, 255, cv2.THRESH_BINARY)\n",
    "    \n",
    "    #find contours\n",
    "    contours, _ = cv2.findContours(img_binary, cv2.RETR_EXTERNAL, cv2.CHAIN_APPROX_SIMPLE)\n",
    "    \n",
    "    white_dot_centers = []\n",
    "    for contour in contours:\n",
    "        #calculate the moments\n",
    "        M = cv2.moments(contour)\n",
    "        \n",
    "        #calculate centroid coordinates\n",
    "        if M[\"m00\"] != 0:\n",
    "            cX = int(M[\"m10\"] / M[\"m00\"])\n",
    "            cY = int(M[\"m01\"] / M[\"m00\"])\n",
    "            white_dot_centers.append((cX, cY))\n",
    "    \n",
    "    return white_dot_centers"
   ]
  },
  {
   "attachments": {},
   "cell_type": "markdown",
   "metadata": {},
   "source": [
    "## create shp from points"
   ]
  },
  {
   "cell_type": "code",
   "execution_count": null,
   "metadata": {},
   "outputs": [],
   "source": [
    "import os\n",
    "from osgeo import ogr, osr"
   ]
  },
  {
   "cell_type": "code",
   "execution_count": 192,
   "metadata": {},
   "outputs": [],
   "source": [
    "def create_shapefile(output_shp, points):\n",
    "    driver = ogr.GetDriverByName('ESRI Shapefile')\n",
    "    if os.path.exists(output_shp):\n",
    "        driver.DeleteDataSource(output_shp)\n",
    "    output_ds = driver.CreateDataSource(output_shp)\n",
    "    \n",
    "    spatial_ref = osr.SpatialReference()\n",
    "    #spatial_ref.ImportFromEPSG(4326)  # WGS84\n",
    "    spatial_ref.ImportFromEPSG(23700) # new\n",
    "    \n",
    "    #new layer\n",
    "    output_layer = output_ds.CreateLayer(\"points\", spatial_ref, ogr.wkbPoint)\n",
    "    \n",
    "    #define a field for the point ID\n",
    "    id_field = ogr.FieldDefn(\"ID\", ogr.OFTInteger)\n",
    "    output_layer.CreateField(id_field)\n",
    "    \n",
    "    #create points and add them to the layer\n",
    "    for i, (x, y) in enumerate(points):\n",
    "        point = ogr.Geometry(ogr.wkbPoint)\n",
    "        point.AddPoint(x,y)\n",
    "        \n",
    "        feature = ogr.Feature(output_layer.GetLayerDefn())\n",
    "        feature.SetGeometry(point)\n",
    "        feature.SetField(\"ID\", i+1)\n",
    "        output_layer.CreateFeature(feature)\n",
    "        \n",
    "        feature = None\n",
    "    \n",
    "    output_ds = None\n",
    "\n",
    "\n",
    "#output_shp = '../data/frompng_tile_shp_0_0.shp'\n",
    "#points = white_dot_centers#[(10, 20), (30, 40), (50, 60)]  # Example list of coordinates\n",
    "\n",
    "#create_shapefile(output_shp, points)\n"
   ]
  },
  {
   "attachments": {},
   "cell_type": "markdown",
   "metadata": {},
   "source": [
    "## get tif informations"
   ]
  },
  {
   "cell_type": "code",
   "execution_count": 193,
   "metadata": {},
   "outputs": [],
   "source": [
    "import rasterio\n",
    "from rasterio.warp import transform_bounds\n",
    "from pyproj import Transformer"
   ]
  },
  {
   "cell_type": "code",
   "execution_count": null,
   "metadata": {},
   "outputs": [],
   "source": [
    "def get_tif_location(tif_path, target_epsg):\n",
    "    with rasterio.open(tif_path) as src:\n",
    "        src_crs = src.crs\n",
    "        # Transform the bounding box coordinates to the target EPSG code\n",
    "        transformer = Transformer.from_crs(src_crs, f'EPSG:{target_epsg}', always_xy=True)\n",
    "        bbox_transformed = transform_bounds(src_crs, f'EPSG:{target_epsg}', *src.bounds)\n",
    "        # Convert the transformed coordinates to the desired format (here, simply printing)\n",
    "        print(f\"Bounding box coordinates in EPSG:{target_epsg}: {bbox_transformed}\")\n",
    "\n",
    "# Example usage:\n",
    "tif_path = \"../data/tiles/tile_tif_0_0.tif\"\n",
    "target_epsg = 23700  # Example EPSG code (WGS 84)\n",
    "get_tif_location(tif_path, target_epsg)\n"
   ]
  },
  {
   "cell_type": "code",
   "execution_count": 72,
   "metadata": {},
   "outputs": [
    {
     "name": "stdout",
     "output_type": "stream",
     "text": [
      "Affine transformation: | 0.15, 0.00, 549221.34|\n",
      "| 0.00,-0.15, 221189.34|\n",
      "| 0.00, 0.00, 1.00|\n",
      "Coordinate Reference System (CRS): EPSG:23700\n"
     ]
    }
   ],
   "source": [
    "# get tif info.\n",
    "tif_path = '../data/tiles/original/tile_tif_0_0.tif'\n",
    "with rasterio.open(tif_path) as src:\n",
    "    transform = src.transform  #affine transformation object\n",
    "    crs = src.crs  #coordinate Reference System\n",
    "print(\"Affine transformation:\", transform)\n",
    "print(\"Coordinate Reference System (CRS):\", crs)"
   ]
  },
  {
   "attachments": {},
   "cell_type": "markdown",
   "metadata": {},
   "source": [
    "## pipeline"
   ]
  },
  {
   "cell_type": "code",
   "execution_count": 194,
   "metadata": {},
   "outputs": [],
   "source": [
    "import rasterio\n",
    "from rasterio.transform import from_origin\n",
    "from rasterio.warp import reproject, Resampling\n",
    "import geopandas as gpd\n",
    "from shapely.geometry import Point"
   ]
  },
  {
   "cell_type": "code",
   "execution_count": null,
   "metadata": {},
   "outputs": [],
   "source": [
    "# 1. data prep.\n",
    "#   - splitting geo. images\n",
    "split('../data/actual_data/2023-02-23-bakonyszucs_im_cropped.tif',\n",
    "      '../data/actual_data/Pont.shp',\n",
    "      '../data/tiles/original')\n",
    "\n",
    "#   - convert to .png for the model\n",
    "convert_SHPtoPNG('../data/tiles/original/tile_tif_0_0.tif',\n",
    "                 '../data/tiles/original/tile_shp_0_0.shp',\n",
    "                 '../data/tiles/formatted/shp_0_0_png.png',\n",
    "                 3)\n",
    "# 2. prediction\n",
    "\n",
    "# ****\n",
    "# model pred.\n",
    "# ****\n",
    "\n",
    "# 3. get the predicted points's image coordinates\n",
    "image_coords = getPoints_fromPNG('../data/tiles/formatted/shp_0_0_png.png')\n",
    "\n",
    "# 4. creating the shapefile\n",
    "#   - img_coords -> geo_coords.\n",
    "geo_coords = [transform * (x, y) for x, y in image_coords]\n",
    "\n",
    "#   - geo_coords -> Points (obj.)\n",
    "point_geoms = [Point(coord) for coord in geo_coords]\n",
    "\n",
    "#   - create a GeoDataFrame with the Points\n",
    "gdf = gpd.GeoDataFrame(geometry=point_geoms, crs=crs)  # Adjust CRS as needed\n",
    "\n",
    "#   - save the GeoDataFrame as a shapefile\n",
    "gdf.to_file(\"../results/predicted_points_0_0.shp\")"
   ]
  },
  {
   "attachments": {},
   "cell_type": "markdown",
   "metadata": {},
   "source": [
    "## create png dataset"
   ]
  },
  {
   "cell_type": "code",
   "execution_count": 7,
   "metadata": {},
   "outputs": [],
   "source": [
    "import os\n",
    "from tqdm.auto import tqdm\n",
    "import numpy as np"
   ]
  },
  {
   "cell_type": "code",
   "execution_count": 195,
   "metadata": {},
   "outputs": [],
   "source": [
    "def extend_image_shape(image_array: np.array, size=(250,250)):\n",
    "    new_image_array = np.zeros((250, 250), dtype=image_array.dtype)\n",
    "    #start_row = (new_image_array.shape[0] - image_array.shape[0]) // 2\n",
    "    #start_col = (new_image_array.shape[1] - image_array.shape[1]) // 2\n",
    "    start_col=0\n",
    "    start_row=0\n",
    "\n",
    "    end_row = start_row + image_array.shape[0]\n",
    "    end_col = start_col + image_array.shape[1]\n",
    "    new_image_array[start_row:end_row, start_col:end_col] = image_array\n",
    "\n",
    "    #cv2.imwrite(\"output_image_filled2.png\", new_image_array)\n",
    "    return new_image_array\n",
    "\n",
    "def scale_pixel_values(input_dataset):\n",
    "    band = input_dataset.GetRasterBand(1)\n",
    "    data = band.ReadAsArray()\n",
    "    \n",
    "    if np.any(data < 0):\n",
    "        print('empty parts')\n",
    "        mask = (data > 200) & (data < 250)\n",
    "        print(mask)\n",
    "        non_neg_min_val = np.min(data[mask])\n",
    "        data[data < 0] = non_neg_min_val\n",
    "        \n",
    "    #scale pixel values to fit within the range of uint16\n",
    "    min_val = np.min(data)\n",
    "    print(f'min: {min_val}')\n",
    "    max_val = np.max(data)\n",
    "    print(f'max: {max_val}')\n",
    "    \n",
    "    scale = 65535\n",
    "    scaled_data = ((data - min_val) / (max_val - min_val) * scale).astype(np.uint16)\n",
    "\n",
    "    return scaled_data\n",
    "\n",
    "def createPNG_Dataset(folder, out_folder, tile_size=(250,250),point_size=1,bg_color='black',fg_color='white'):\n",
    "    files = os.listdir(folder)\n",
    "    total_count= len(files)\n",
    "    with tqdm(total=total_count, desc='creating png dataset (tif,shp -> png)') as pbar:\n",
    "        for file in files:\n",
    "            if file.endswith('.shp'):\n",
    "                # .shp\n",
    "                tif_path = os.path.join(folder,str(file).replace('_shp_','_tif_').replace('.shp','.tif'))\n",
    "                shp_path = os.path.join(folder,file)\n",
    "                out_path = os.path.join(out_folder, os.path.splitext(file)[0]+'.png')\n",
    "                convert_SHPtoPNG(tif_path, shp_path, out_path, tile_size, point_size,bg_color,fg_color)\n",
    "            \n",
    "                # .tif\n",
    "                tif_file = gdal.Open(tif_path)\n",
    "                scaled = scale_pixel_values(tif_file)\n",
    "                if scaled.shape != tile_size:\n",
    "                    scaled = extend_image_shape(scaled,tile_size)\n",
    "                cv2.imwrite(out_path.replace('shp','tif'), scaled)\n",
    "            pbar.update(1)\n",
    "\n",
    "def convert_TIFtoPNG(folder, out_folder,tile_size=(250,250)):\n",
    "    files = os.listdir(folder)\n",
    "    total_count= len(files)\n",
    "    with tqdm(total=total_count, desc='converting tifs to pngs') as pbar:\n",
    "        for file in files:\n",
    "            if file.endswith('.shp'):\n",
    "                tif_path = os.path.join(folder,str(file).replace('_shp_','_tif_').replace('.shp','.tif'))\n",
    "                out_path = os.path.join(out_folder, os.path.splitext(file)[0]+'.png')\n",
    "            \n",
    "                # .tif\n",
    "                tif_file = gdal.Open(tif_path)\n",
    "                scaled = scale_pixel_values(tif_file)\n",
    "                if scaled.shape != tile_size:\n",
    "                    scaled = extend_image_shape(scaled,tile_size)\n",
    "                cv2.imwrite(out_path.replace('shp','tif'), scaled)\n",
    "            pbar.update(1)\n",
    "        "
   ]
  },
  {
   "cell_type": "code",
   "execution_count": null,
   "metadata": {},
   "outputs": [],
   "source": [
    "folder = '../data/tiles/original'\n",
    "out_folder = '../data/tiles/formatted'\n",
    "size = (250,250)\n",
    "#size = (500,500)\n",
    "\n",
    "createPNG_Dataset(folder,out_folder,size)"
   ]
  },
  {
   "cell_type": "code",
   "execution_count": 196,
   "metadata": {},
   "outputs": [],
   "source": [
    "def convert_PNGtoSHP(folder,out_folder, result_folder):\n",
    "    filenames = os.listdir(out_folder)\n",
    "    total_count = len(filenames)\n",
    "    with tqdm(total=total_count, desc='converting pngs to shps') as pbar:\n",
    "        for filename in filenames:\n",
    "            if filename.split('_')[1]=='shp':\n",
    "                image_coords = getPoints_fromPNG(os.path.join(out_folder,filename))\n",
    "            \n",
    "                tif_path = os.path.join(folder,filename.replace('_shp_','_tif_').replace('.png','.tif'))\n",
    "                with rasterio.open(tif_path) as src:\n",
    "                    transform = src.transform  #affine transformation object\n",
    "                    crs = src.crs  #coordinate Reference System\n",
    "                \n",
    "                geo_coords = [transform * (x, y) for x, y in image_coords]\n",
    "            \n",
    "                #geo_coords -> Points (obj.)\n",
    "                point_geoms = [Point(coord) for coord in geo_coords]\n",
    "    \n",
    "                #create a GeoDataFrame with the Points\n",
    "                gdf = gpd.GeoDataFrame(geometry=point_geoms, crs=crs)  # Adjust CRS as needed\n",
    "    \n",
    "                #save the GeoDataFrame as a shapefile\n",
    "                gdf.to_file(os.path.join(result_folder,'pred_'+filename.replace('.png','.shp')))\n",
    "            pbar.update(1)\n",
    "    "
   ]
  },
  {
   "attachments": {},
   "cell_type": "markdown",
   "metadata": {},
   "source": [
    "## Pipeline"
   ]
  },
  {
   "cell_type": "code",
   "execution_count": 9,
   "metadata": {},
   "outputs": [],
   "source": [
    "import warnings\n",
    "warnings.filterwarnings('ignore')\n",
    "import numpy as np"
   ]
  },
  {
   "cell_type": "code",
   "execution_count": 197,
   "metadata": {},
   "outputs": [
    {
     "name": "stderr",
     "output_type": "stream",
     "text": [
      "splitting tifs: 100%|██████████| 15/15 [00:00<00:00, 72.29it/s]\n",
      "splitting shps: 100%|██████████| 90/90 [00:01<00:00, 75.69it/s]\n",
      "creating png dataset (tif,shp -> png):  34%|███▍      | 31/90 [00:00<00:00, 258.03it/s]"
     ]
    },
    {
     "name": "stdout",
     "output_type": "stream",
     "text": [
      "empty parts\n",
      "[[ True  True  True ... False False False]\n",
      " [ True  True  True ... False False False]\n",
      " [ True  True  True ... False False False]\n",
      " ...\n",
      " [ True  True  True ... False False False]\n",
      " [ True  True  True ... False False False]\n",
      " [ True  True  True ... False False False]]\n",
      "min: 214.63221740722656\n",
      "max: 232.72555541992188\n",
      "min: 213.9507293701172\n",
      "max: 233.05409240722656\n",
      "min: 215.80662536621094\n",
      "max: 241.03785705566406\n",
      "min: 212.1826629638672\n",
      "max: 235.73155212402344\n",
      "min: 212.17420959472656\n",
      "max: 232.93446350097656\n"
     ]
    },
    {
     "name": "stderr",
     "output_type": "stream",
     "text": [
      "creating png dataset (tif,shp -> png):  63%|██████▎   | 57/90 [00:00<00:00, 159.10it/s]"
     ]
    },
    {
     "name": "stdout",
     "output_type": "stream",
     "text": [
      "empty parts\n",
      "[[ True  True  True ... False False False]\n",
      " [ True  True  True ... False False False]\n",
      " [ True  True  True ... False False False]\n",
      " ...\n",
      " [ True  True  True ... False False False]\n",
      " [ True  True  True ... False False False]\n",
      " [ True  True  True ... False False False]]\n",
      "min: 215.1589813232422\n",
      "max: 222.60562133789062\n",
      "empty parts\n",
      "[[ True  True  True ... False False False]\n",
      " [ True  True  True ... False False False]\n",
      " [ True  True  True ... False False False]\n",
      " ...\n",
      " [ True  True  True ...  True  True False]\n",
      " [ True  True  True ...  True False False]\n",
      " [ True  True  True ...  True False False]]\n",
      "min: 213.78941345214844\n",
      "max: 230.45803833007812\n",
      "min: 211.89419555664062\n",
      "max: 230.263916015625\n",
      "min: 215.34739685058594\n",
      "max: 231.81837463378906\n",
      "min: 216.2160186767578\n",
      "max: 233.47625732421875\n"
     ]
    },
    {
     "name": "stderr",
     "output_type": "stream",
     "text": [
      "creating png dataset (tif,shp -> png): 100%|██████████| 90/90 [00:00<00:00, 127.05it/s]\n"
     ]
    },
    {
     "name": "stdout",
     "output_type": "stream",
     "text": [
      "min: 210.28866577148438\n",
      "max: 232.75799560546875\n",
      "min: 213.1793212890625\n",
      "max: 233.96168518066406\n",
      "min: 213.91290283203125\n",
      "max: 238.79856872558594\n",
      "min: 214.2864532470703\n",
      "max: 236.9883575439453\n",
      "min: 214.3231658935547\n",
      "max: 229.48812866210938\n",
      "predicted\n"
     ]
    },
    {
     "name": "stderr",
     "output_type": "stream",
     "text": [
      "converting pngs to shps: 100%|██████████| 30/30 [00:00<00:00, 74.57it/s] \n"
     ]
    }
   ],
   "source": [
    "# 1. data prep.\n",
    "#   - splitting geo. images\n",
    "folder = '../data/tiles/original'\n",
    "out_folder = '../data/tiles/formatted'\n",
    "size = (250,250)\n",
    "#size = (500,500)\n",
    "\n",
    "split('../data/actual_data/2023-02-23-bakonyszucs_im_cropped.tif',\n",
    "      '../data/actual_data/Pont.shp',\n",
    "      '../data/tiles/original',\n",
    "      size)\n",
    "\n",
    "#   - convert to .png for the model\n",
    "# convert_TIFtoPNG(folder,out_folder,size)\n",
    "createPNG_Dataset(folder,out_folder,size)\n",
    "\n",
    "\n",
    "# 2. prediction\n",
    "\n",
    "# ****\n",
    "# model pred.\n",
    "print('predicted')\n",
    "# ****\n",
    "\n",
    "# 4. Convert the predictions back\n",
    "convert_PNGtoSHP(folder,out_folder,'../results')"
   ]
  },
  {
   "cell_type": "code",
   "execution_count": 10,
   "metadata": {},
   "outputs": [
    {
     "name": "stdout",
     "output_type": "stream",
     "text": [
      "(250, 250, 3)\n",
      "(250, 250, 3)\n"
     ]
    }
   ],
   "source": [
    "test_tif = cv2.imread('../data/tiles/formatted/tile_tif_0_0.png')\n",
    "test_shp = cv2.imread('../data/tiles/formatted/tile_shp_0_0.png')\n",
    "\n",
    "print(test_tif.shape)\n",
    "print(test_shp.shape)"
   ]
  },
  {
   "attachments": {},
   "cell_type": "markdown",
   "metadata": {},
   "source": [
    "## uneven tiff load fix"
   ]
  },
  {
   "cell_type": "code",
   "execution_count": 11,
   "metadata": {},
   "outputs": [
    {
     "ename": "NameError",
     "evalue": "name 'get_tif_size' is not defined",
     "output_type": "error",
     "traceback": [
      "\u001b[0;31m---------------------------------------------------------------------------\u001b[0m",
      "\u001b[0;31mNameError\u001b[0m                                 Traceback (most recent call last)",
      "Cell \u001b[0;32mIn[11], line 4\u001b[0m\n\u001b[1;32m      1\u001b[0m tif_path \u001b[39m=\u001b[39m \u001b[39m'\u001b[39m\u001b[39m../data/tiles/original/tile_tif_2_4.tif\u001b[39m\u001b[39m'\u001b[39m\n\u001b[1;32m      3\u001b[0m tif_file \u001b[39m=\u001b[39m gdal\u001b[39m.\u001b[39mOpen(tif_path)\n\u001b[0;32m----> 4\u001b[0m get_tif_size(tif_path)\n",
      "\u001b[0;31mNameError\u001b[0m: name 'get_tif_size' is not defined"
     ]
    }
   ],
   "source": [
    "tif_path = '../data/tiles/original/tile_tif_2_4.tif'\n",
    "\n",
    "tif_file = gdal.Open(tif_path)\n",
    "get_tif_size(tif_path)"
   ]
  },
  {
   "cell_type": "code",
   "execution_count": 100,
   "metadata": {},
   "outputs": [
    {
     "data": {
      "image/png": "[encoded data removed]",
      "text/plain": [
       "<Figure size 640x480 with 1 Axes>"
      ]
     },
     "metadata": {},
     "output_type": "display_data"
    }
   ],
   "source": [
    "import matplotlib.pyplot as plt\n",
    "from PIL import Image\n",
    "\n",
    "# Open the TIF file\n",
    "image = Image.open(tif_path)\n",
    "\n",
    "# Convert the image to a NumPy array\n",
    "image_array = plt.imread(tif_path)\n",
    "# Plot the image\n",
    "plt.imshow(image_array)\n",
    "plt.axis('off')  # Turn off axis\n",
    "plt.show()"
   ]
  },
  {
   "cell_type": "code",
   "execution_count": 101,
   "metadata": {},
   "outputs": [
    {
     "name": "stdout",
     "output_type": "stream",
     "text": [
      "[[182 182 182 ...   0   0   0]\n",
      " [182 182 182 ...   0   0   0]\n",
      " [182 182 182 ...   0   0   0]\n",
      " ...\n",
      " [253 253 251 ...   0   0   0]\n",
      " [253 251 251 ...   0   0   0]\n",
      " [253 251 251 ...   0   0   0]]\n"
     ]
    }
   ],
   "source": [
    "from PIL import ImageOps\n",
    "#image_array = plt.imread(tif_path)\n",
    "#image_array = np.copy(image_array)\n",
    "tif_file = gdal.Open(tif_path, gdal.GA_ReadOnly)\n",
    "\n",
    "array = tif_file.ReadAsArray()\n",
    "image_array = array.astype(np.float32)\n",
    "#image_array[image_array == -32767.0] = 0\n",
    "\n",
    "image_array /= np.max(image_array)\n",
    "\n",
    "# Perform histogram equalization\n",
    "image_array = cv2.equalizeHist(np.uint8(image_array * 255))\n",
    "\n",
    "print(image_array)\n",
    "\n",
    "#cv2.imwrite('../src/test_2_4.png', image_array)\n",
    "plt.imsave('output_image.png', image_array, cmap='gray')"
   ]
  },
  {
   "cell_type": "code",
   "execution_count": 112,
   "metadata": {},
   "outputs": [],
   "source": [
    "def extend_image_shape(image_array: np.array, size=(250,250)):\n",
    "    new_image_array = np.zeros((250, 250), dtype=image_array.dtype)\n",
    "    #start_row = (new_image_array.shape[0] - image_array.shape[0]) // 2\n",
    "    #start_col = (new_image_array.shape[1] - image_array.shape[1]) // 2\n",
    "    start_col=0\n",
    "    start_row=0\n",
    "\n",
    "    end_row = start_row + image_array.shape[0]\n",
    "    end_col = start_col + image_array.shape[1]\n",
    "    new_image_array[start_row:end_row, start_col:end_col] = image_array\n",
    "\n",
    "    #cv2.imwrite(\"output_image_filled2.png\", new_image_array)\n",
    "    return new_image_array"
   ]
  },
  {
   "cell_type": "code",
   "execution_count": 177,
   "metadata": {},
   "outputs": [],
   "source": [
    "def scale_pixel_values(input_dataset):\n",
    "    band = input_dataset.GetRasterBand(1)\n",
    "    data = band.ReadAsArray()\n",
    "    \n",
    "    if np.any(data < 0):\n",
    "        print('empty parts')\n",
    "        mask = (data > 200) & (data < 250)\n",
    "        print(mask)\n",
    "        non_neg_min_val = np.min(data[mask])\n",
    "        data[data < 0] = non_neg_min_val\n",
    "        \n",
    "    #scale pixel values to fit within the range of uint16\n",
    "    min_val = np.min(data)\n",
    "    print(f'min: {min_val}')\n",
    "    max_val = np.max(data)\n",
    "    print(f'max: {max_val}')\n",
    "    \n",
    "    scale = 65535\n",
    "    scaled_data = ((data - min_val) / (max_val - min_val) * scale).astype(np.uint16)\n",
    "\n",
    "    return scaled_data"
   ]
  },
  {
   "cell_type": "code",
   "execution_count": 182,
   "metadata": {},
   "outputs": [
    {
     "name": "stdout",
     "output_type": "stream",
     "text": [
      "empty parts\n",
      "[[ True  True  True ... False False False]\n",
      " [ True  True  True ... False False False]\n",
      " [ True  True  True ... False False False]\n",
      " ...\n",
      " [ True  True  True ... False False False]\n",
      " [ True  True  True ... False False False]\n",
      " [ True  True  True ... False False False]]\n",
      "min: 214.63221740722656\n",
      "max: 232.72555541992188\n",
      "(250, 250)\n",
      "[[4841 4732 4598 ...    0    0    0]\n",
      " [4825 4719 4588 ...    0    0    0]\n",
      " [4866 4688 4518 ...    0    0    0]\n",
      " ...\n",
      " [9577 9375 9372 ...    0    0    0]\n",
      " [9605 9295 9087 ...    0    0    0]\n",
      " [9555 9198 8916 ...    0    0    0]]\n"
     ]
    },
    {
     "data": {
      "text/plain": [
       "True"
      ]
     },
     "execution_count": 182,
     "metadata": {},
     "output_type": "execute_result"
    }
   ],
   "source": [
    "tif_path='../data/tiles/original/tile_tif_1_4.tif'\n",
    "size=(250,250)\n",
    "tif_file = gdal.Open(tif_path, gdal.GA_ReadOnly)\n",
    "\n",
    "image_array = scale_pixel_values(tif_file)\n",
    "image_array = extend_image_shape(image_array,size)\n",
    "\n",
    "print(image_array.shape)\n",
    "print(image_array)\n",
    "cv2.imwrite(\"output_image_filled_1_4.png\", image_array)\n"
   ]
  }
 ],
 "metadata": {
  "kernelspec": {
   "display_name": "canopysegmentation",
   "language": "python",
   "name": "python3"
  },
  "language_info": {
   "codemirror_mode": {
    "name": "ipython",
    "version": 3
   },
   "file_extension": ".py",
   "mimetype": "text/x-python",
   "name": "python",
   "nbconvert_exporter": "python",
   "pygments_lexer": "ipython3",
   "version": "3.9.6"
  },
  "orig_nbformat": 4
 },
 "nbformat": 4,
 "nbformat_minor": 2
}
