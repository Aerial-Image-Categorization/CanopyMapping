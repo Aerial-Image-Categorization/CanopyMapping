{
 "cells": [
  {
   "attachments": {},
   "cell_type": "markdown",
   "metadata": {},
   "source": [
    "### Crop the images"
   ]
  },
  {
   "cell_type": "code",
   "execution_count": 2,
   "metadata": {},
   "outputs": [],
   "source": [
    "import os\n",
    "from osgeo import gdal, ogr\n",
    "from shapely.geometry import box\n",
    "import geopandas as gpd\n",
    "import rasterio"
   ]
  },
  {
   "cell_type": "code",
   "execution_count": 7,
   "metadata": {},
   "outputs": [],
   "source": [
    "tif_path = '../data/actual_data/2023-02-23-bakonyszucs_im_cropped.tif'\n",
    "shp_path = '../data/actual_data/Pont.shp'\n",
    "out_folder ='../data/distributed'"
   ]
  },
  {
   "attachments": {},
   "cell_type": "markdown",
   "metadata": {},
   "source": [
    "### split tiff"
   ]
  },
  {
   "cell_type": "code",
   "execution_count": 39,
   "metadata": {},
   "outputs": [
    {
     "name": "stdout",
     "output_type": "stream",
     "text": [
      "start splitting tiffs . . .\n",
      "splitted successfully\n"
     ]
    }
   ],
   "source": [
    "import os\n",
    "from osgeo import gdal\n",
    "from shapely.geometry import box, Point\n",
    "import geopandas as gpd\n",
    "\n",
    "def split_tiff(tif_path, out_folder, tile_size=(250, 250)):\n",
    "    ds = gdal.Open(tif_path)\n",
    "    if ds is None:\n",
    "        print(f\"Could not open input TIFF file: {tif_path}\")\n",
    "        return\n",
    "    \n",
    "    #get raster width and height\n",
    "    width = ds.RasterXSize\n",
    "    height = ds.RasterYSize\n",
    "\n",
    "    #calc. the number of rows and columns\n",
    "    num_cols = (width + tile_size[0] - 1) // tile_size[0]\n",
    "    num_rows = (height + tile_size[1] - 1) // tile_size[1]\n",
    "    \n",
    "    print('start splitting tiffs . . .')\n",
    "    for i in range(num_rows):\n",
    "        for j in range(num_cols):\n",
    "            #bbox coordinates\n",
    "            xmin = j * tile_size[0]\n",
    "            ymin = i * tile_size[1]\n",
    "            xmax = min((j + 1) * tile_size[0], width)\n",
    "            ymax = min((i + 1) * tile_size[1], height)\n",
    "\n",
    "            #crop & save\n",
    "            output_tif = os.path.join(out_folder, f'tile_tiff_{i}_{j}.tif')\n",
    "            gdal.Translate(output_tif, ds, srcWin=[xmin, ymin, xmax - xmin, ymax - ymin])\n",
    "    print('splitted successfully')\n",
    "    \n",
    "out_folder = '../data/tiles'\n",
    "tile_size = (250, 250)  #tile size in pixels\n",
    "split_tiff(tif_path, out_folder, tile_size)\n"
   ]
  },
  {
   "attachments": {},
   "cell_type": "markdown",
   "metadata": {},
   "source": [
    "### splitting shapefile with splitted tiff file's locations"
   ]
  },
  {
   "cell_type": "code",
   "execution_count": 38,
   "metadata": {},
   "outputs": [],
   "source": [
    "import geopandas as gpd\n",
    "import rasterio\n",
    "from shapely.geometry import box\n",
    "from rasterio.mask import mask\n",
    "import os\n",
    "\n",
    "def split_shp(bigger_shapefile_path, tiff_file_path, output_folder):\n",
    "    #read the shp\n",
    "    gdf_bigger = gpd.read_file(bigger_shapefile_path)\n",
    "    \n",
    "    #read the tiff and get the bbox\n",
    "    with rasterio.open(tiff_file_path) as src:\n",
    "        bbox = box(*src.bounds)\n",
    "    \n",
    "    #clip the bigger shapefile to the extent of the TIFF file\n",
    "    gdf_intersection = gdf_bigger[gdf_bigger.intersects(bbox)]\n",
    "    \n",
    "    splitted_name = os.path.basename(tiff_file_path).split('_')\n",
    "    out_path = os.path.join(output_folder,\n",
    "                            f'tile_shp_{splitted_name[2]}_{os.path.splitext(splitted_name[3])[0]}.shp')\n",
    "    gdf_intersection.to_file(out_path)\n",
    "\n",
    "tif_path = '../data/actual_data/2023-02-23-bakonyszucs_im_cropped.tif'\n",
    "shp_path = '../data/actual_data/Pont.shp'\n",
    "out_folder ='../data/distributed'\n",
    "split_shp(shp_path, 'output_tiles/tile_tiff_0_0.tif', '../data/tiles')\n"
   ]
  },
  {
   "attachments": {},
   "cell_type": "markdown",
   "metadata": {},
   "source": [
    "## concat tiff & shp split"
   ]
  },
  {
   "cell_type": "code",
   "execution_count": 48,
   "metadata": {},
   "outputs": [],
   "source": [
    "import os\n",
    "def split(tiff_path, shp_path, output_folder, tile_size=(250, 250)):\n",
    "    split_tiff(tiff_path,output_folder,tile_size)\n",
    "\n",
    "    print('get available tiles')\n",
    "    extension = '.tif'\n",
    "    tiff_files=[]\n",
    "    for tiff_file in os.listdir(output_folder):\n",
    "        if tiff_file.endswith(extension):\n",
    "            tiff_files.append(os.path.join(output_folder, tiff_file))\n",
    "            \n",
    "    print('split shps')\n",
    "    for tiff_path in tiff_files:\n",
    "        split_shp(shp_path, tiff_path, output_folder)\n",
    "    print('success')\n",
    "\n",
    "    "
   ]
  },
  {
   "cell_type": "code",
   "execution_count": 49,
   "metadata": {},
   "outputs": [
    {
     "name": "stdout",
     "output_type": "stream",
     "text": [
      "start splitting tiffs . . .\n",
      "splitted successfully\n",
      "get available tiles\n",
      "split shps\n",
      "success\n"
     ]
    },
    {
     "name": "stderr",
     "output_type": "stream",
     "text": [
      "/Users/banoczymartin/OE Projects/Mapping Upper Canopy Level/venvs_can/canopysegmentation/lib/python3.9/site-packages/geopandas/io/file.py:633: UserWarning: You are attempting to write an empty DataFrame to file. For some drivers, this operation may fail.\n",
      "  _to_file_fiona(df, filename, driver, schema, crs, mode, **kwargs)\n"
     ]
    }
   ],
   "source": [
    "split(tif_path,shp_path,'../data/tiles')"
   ]
  },
  {
   "cell_type": "code",
   "execution_count": 4,
   "metadata": {},
   "outputs": [
    {
     "name": "stdout",
     "output_type": "stream",
     "text": [
      "(250, 250)\n"
     ]
    }
   ],
   "source": [
    "def get_tiff_size(tiff_file_path):\n",
    "    with rasterio.open(tiff_file_path) as src:\n",
    "        width = src.width\n",
    "        height = src.height\n",
    "    return width, height\n",
    "print(get_tiff_size('../data/tiles/tile_tiff_1_1.tif'))\n",
    "#get_tiff_size('output_tiles/tile_tiff_r_2_4.tif')"
   ]
  },
  {
   "attachments": {},
   "cell_type": "markdown",
   "metadata": {},
   "source": [
    "### Convert SHP to PNG"
   ]
  },
  {
   "cell_type": "code",
   "execution_count": 29,
   "metadata": {},
   "outputs": [
    {
     "name": "stdout",
     "output_type": "stream",
     "text": [
      "[549238.11888897 221151.71778456 549259.09956114 221174.52941544]\n",
      "[(549243.3870318223, 221151.71778455636), (549253.7454693333, 221151.77731580642), (549253.74174863, 221174.52941543964), (549248.979248625, 221167.50472793222), (549242.1331548678, 221161.84925917626), (549255.7062798821, 221157.97972792215), (549259.0995611356, 221169.05254043386), (549256.0039361324, 221158.03925917222), (549250.7815254254, 221162.48085515414), (549251.6184003273, 221160.51942960278), (549246.910979004, 221160.38866789936), (549257.5549816627, 221157.17192999512), (549244.0603738694, 221155.91661764227), (549238.11888897, 221155.47693141436)]\n"
     ]
    }
   ],
   "source": [
    "import os\n",
    "import geopandas as gpd\n",
    "import matplotlib.pyplot as plt\n",
    "\n",
    "def convert_SHPtoPNG(shp_path,png_path, point_size=1, dpi = 300, bg_color='black',fg_color='white', fig_size=(50,50)):\n",
    "    '''\n",
    "    returns the point as well as a list of tuples\n",
    "    '''\n",
    "    \n",
    "    gdf = gpd.read_file(shp_path)\n",
    "\n",
    "    xmin, ymin, xmax, ymax = gdf.total_bounds\n",
    "    print(gdf.total_bounds)\n",
    "    #plot points as white boxes on a black background\n",
    "    fig, ax = plt.subplots(figsize=fig_size)\n",
    "    #ax.set_xlim(xmin, xmax)\n",
    "    #ax.set_ylim(ymin, ymax)\n",
    "    ax.set_xlim(0, 250)\n",
    "    ax.set_ylim(0, 250)\n",
    "    \n",
    "    ax.set_facecolor(bg_color)\n",
    "    ax.scatter(gdf.geometry.x, gdf.geometry.y, s=point_size, color=fg_color) #point size\n",
    "\n",
    "    #save the plot as a PNG image\n",
    "    plt.savefig(png_path, bbox_inches='tight', pad_inches=0, facecolor='black', dpi=dpi)\n",
    "    plt.close()\n",
    "    \n",
    "    #points = [(p.x, p.y) for p in gdf.geometry]\n",
    "    return list(zip(gdf.geometry.x,gdf.geometry.y))#points (X, Y)\n",
    "    \n",
    "shp_path = '../data/tiles/tile_shp_0_0.shp'\n",
    "out_path = '../data/tile_png_0_0_250.png'\n",
    "points = convert_SHPtoPNG(shp_path,out_path,point_size=5, fig_size=(10,10))\n",
    "print(points)"
   ]
  },
  {
   "cell_type": "code",
   "execution_count": 41,
   "metadata": {},
   "outputs": [
    {
     "name": "stdout",
     "output_type": "stream",
     "text": [
      "[(549243.3870318223, 221151.71778455636), (549253.7454693333, 221151.77731580642), (549253.74174863, 221174.52941543964), (549248.979248625, 221167.50472793222), (549242.1331548678, 221161.84925917626), (549255.7062798821, 221157.97972792215), (549259.0995611356, 221169.05254043386), (549256.0039361324, 221158.03925917222), (549250.7815254254, 221162.48085515414), (549251.6184003273, 221160.51942960278), (549246.910979004, 221160.38866789936), (549257.5549816627, 221157.17192999512), (549244.0603738694, 221155.91661764227), (549238.11888897, 221155.47693141436)]\n"
     ]
    }
   ],
   "source": [
    "from PIL import Image, ImageDraw\n",
    "def convert_SHPtoPNG(shp_path, png_path, point_size=1, bg_color='black', fg_color='white'):\n",
    "    '''\n",
    "    Returns the point list as well as saves a PNG image with points plotted.\n",
    "    '''\n",
    "    gdf = gpd.read_file(shp_path)\n",
    "\n",
    "    xmin, ymin, xmax, ymax = gdf.total_bounds\n",
    "\n",
    "    # Calculate image size based on desired dimensions\n",
    "    img_width = 250\n",
    "    img_height = 250\n",
    "    \n",
    "    # Create a new blank image with the desired dimensions\n",
    "    img = Image.new('RGB', (img_width, img_height), color=bg_color)\n",
    "    draw = ImageDraw.Draw(img)\n",
    "\n",
    "    # Plot points on the image\n",
    "#    for geom in gdf.geometry:\n",
    "#        x = int((geom.x - xmin) / (xmax - xmin) * img_width)\n",
    "#        y = int((geom.y - ymin) / (ymax - ymin) * img_height)\n",
    "#        draw.rectangle([x - point_size, y - point_size, x + point_size, y + point_size], fill=fg_color)\n",
    "    for geom in gdf.geometry:\n",
    "        x = int((geom.x - xmin) / (xmax - xmin) * img_width)\n",
    "        y = img_height - int((geom.y - ymin) / (ymax - ymin) * img_height)  # Adjust y-coordinate\n",
    "        #draw.rectangle([x - point_size, y - point_size, x + point_size, y + point_size], fill=fg_color)\n",
    "        draw.ellipse([x - point_size, y - point_size, x + point_size, y + point_size], fill=fg_color,outline=fg_color)\n",
    "\n",
    "\n",
    "    # Save the image as a PNG\n",
    "    img.save(png_path)\n",
    "    img.close()\n",
    "\n",
    "    # Extract points as a list of tuples\n",
    "    points = list(zip(gdf.geometry.x, gdf.geometry.y))  # List of tuples (X, Y)\n",
    "    return png_path, points\n",
    "\n",
    "\n",
    "\n",
    "_, points = convert_SHPtoPNG(shp_path,'../data/tile_png_0_0_pil.png',point_size=3)\n",
    "print(points)"
   ]
  },
  {
   "cell_type": "code",
   "execution_count": 35,
   "metadata": {},
   "outputs": [
    {
     "name": "stdout",
     "output_type": "stream",
     "text": [
      "177.4473663936369 109.0244564920722\n"
     ]
    }
   ],
   "source": [
    "gdf = gpd.read_file(shp_path)\n",
    "min_x, min_y, max_x, max_y = gdf.total_bounds\n",
    "\n",
    "# Calculate the difference between maximum and minimum coordinate values\n",
    "x_resolution = max_x - min_x\n",
    "y_resolution = max_y - min_y\n",
    "print(x_resolution, y_resolution)"
   ]
  },
  {
   "attachments": {},
   "cell_type": "markdown",
   "metadata": {},
   "source": [
    "** copy shp params **"
   ]
  },
  {
   "cell_type": "code",
   "execution_count": 6,
   "metadata": {},
   "outputs": [
    {
     "name": "stdout",
     "output_type": "stream",
     "text": [
      "[<osgeo.ogr.FieldDefn; proxy of <Swig Object of type 'OGRFieldDefnShadow *' at 0x17f9bbc60> >] 1\n",
      "(549243.3870318223, 221151.71778455636, 0.0)\n",
      "(549253.7454693333, 221151.77731580642, 0.0)\n",
      "(549253.74174863, 221174.52941543964, 0.0)\n",
      "(549248.979248625, 221167.50472793222, 0.0)\n",
      "(549242.1331548678, 221161.84925917626, 0.0)\n",
      "(549255.7062798821, 221157.97972792215, 0.0)\n",
      "(549259.0995611356, 221169.05254043386, 0.0)\n",
      "(549256.0039361324, 221158.03925917222, 0.0)\n",
      "(549250.7815254254, 221162.48085515414, 0.0)\n",
      "(549251.6184003273, 221160.51942960278, 0.0)\n",
      "(549246.910979004, 221160.38866789936, 0.0)\n",
      "(549257.5549816627, 221157.17192999512, 0.0)\n",
      "(549244.0603738694, 221155.91661764227, 0.0)\n",
      "(549238.11888897, 221155.47693141436, 0.0)\n"
     ]
    },
    {
     "name": "stderr",
     "output_type": "stream",
     "text": [
      "/Users/banoczymartin/OE Projects/Mapping Upper Canopy Level/venvs_can/canopysegmentation/lib/python3.9/site-packages/osgeo/ogr.py:593: FutureWarning: Neither ogr.UseExceptions() nor ogr.DontUseExceptions() has been explicitly called. In GDAL 4.0, exceptions will be enabled by default.\n",
      "  warnings.warn(\n"
     ]
    }
   ],
   "source": [
    "output_shp = '../data/tile_shp_0_0_copy.shp' #'../data/actual_data/output_points.shp'\n",
    "input_shp = '../data/tiles/tile_shp_0_0.shp'\n",
    "input_ds = ogr.Open(shp_path)\n",
    "\n",
    "if input_ds is None:\n",
    "    print(f\"Could not open input shapefile: {shp_path}\")\n",
    "    exit()\n",
    "    \n",
    "# Get the input layer\n",
    "input_layer = input_ds.GetLayer()\n",
    "\n",
    "# Create a new shapefile for writing\n",
    "driver = ogr.GetDriverByName('ESRI Shapefile')\n",
    "if os.path.exists(output_shp):\n",
    "    driver.DeleteDataSource(output_shp)\n",
    "output_ds = driver.CreateDataSource(output_shp)\n",
    "output_layer = output_ds.CreateLayer(input_layer.GetName(), input_layer.GetSpatialRef(), input_layer.GetGeomType())\n",
    "\n",
    "# Define the fields and add them to the output layer\n",
    "field_def_list = []\n",
    "for i in range(input_layer.GetLayerDefn().GetFieldCount()):\n",
    "    field_def = input_layer.GetLayerDefn().GetFieldDefn(i)\n",
    "    field_def_list.append(field_def)\n",
    "    output_layer.CreateField(field_def)\n",
    "print(field_def_list, len(field_def_list))\n",
    "# Copy features from input layer to output layer with modified geometry (e.g., move features)\n",
    "for feature in input_layer:\n",
    "    geom = feature.GetGeometryRef()\n",
    "    # Modify the geometry here (e.g., move the feature)\n",
    "    # Example: geom.SetPoint(0, NEW_X, NEW_Y)  # Move the first point of the geometry\n",
    "    new_feature = ogr.Feature(output_layer.GetLayerDefn())\n",
    "    new_feature.SetGeometry(geom)\n",
    "    if geom is not None:\n",
    "        print(geom.GetPoint())\n",
    "    for i, field_def in enumerate(field_def_list):\n",
    "        new_feature.SetField(i, feature.GetField(i))\n",
    "    output_layer.CreateFeature(new_feature)\n",
    "    new_feature = None\n",
    "\n",
    "# Close the shapefiles\n",
    "input_ds = None\n",
    "output_ds = None"
   ]
  },
  {
   "attachments": {},
   "cell_type": "markdown",
   "metadata": {},
   "source": [
    "### get the white dots center point on a png image"
   ]
  },
  {
   "cell_type": "code",
   "execution_count": 55,
   "metadata": {},
   "outputs": [],
   "source": [
    "image_path = '../data/actual_data/out.png'"
   ]
  },
  {
   "cell_type": "code",
   "execution_count": 62,
   "metadata": {},
   "outputs": [
    {
     "name": "stdout",
     "output_type": "stream",
     "text": [
      "[(1813.0, 49.06666666666667), (2402.9333333333334, 600.0), (1286.0, 757.0), (1485.0, 1265.0), (527.0, 1329.0), (1578.0, 1464.0), (1056.0, 1477.0), (2064.0, 1715.0), (2031.0, 1721.0), (2236.0, 1803.0), (741.0, 1930.0), (86.06666666666666, 1975.0), (1814.0, 2348.127450980392), (666.0, 2350.9333333333334)]\n"
     ]
    },
    {
     "data": {
      "text/plain": [
       "14"
      ]
     },
     "execution_count": 62,
     "metadata": {},
     "output_type": "execute_result"
    }
   ],
   "source": [
    "#very slow compared to opencv\n",
    "from PIL import Image\n",
    "import numpy as np\n",
    "from scipy import ndimage\n",
    "def getPoints_fromPNG(image_path):\n",
    "    img = Image.open(image_path)\n",
    "    \n",
    "    #grayscale\n",
    "    img_gray = img.convert('L')\n",
    "    \n",
    "    threshold = 254\n",
    "    img_binary = np.array(img_gray) > threshold\n",
    "    \n",
    "    #find connected components in the binary mask\n",
    "    labeled_img, num_features = ndimage.label(img_binary)\n",
    "    \n",
    "    white_dot_centers = []\n",
    "    \n",
    "    for label in range(1, num_features + 1):\n",
    "        #find coordinates of all pixels belonging to the connected component\n",
    "        rows, cols = np.where(labeled_img == label)\n",
    "        \n",
    "        #calc. centroid as the mean of x and y coordinates\n",
    "        center_x = np.mean(cols)\n",
    "        center_y = np.mean(rows)\n",
    "        \n",
    "        #append centroid\n",
    "        white_dot_centers.append((center_x, center_y))\n",
    "    \n",
    "    return white_dot_centers\n",
    "\n",
    "white_dot_centers = getPoints_fromPNG(image_path)\n",
    "print(white_dot_centers)\n",
    "white_dot_centers.count((1071.0,3.0))\n",
    "len(white_dot_centers)"
   ]
  },
  {
   "cell_type": "code",
   "execution_count": 60,
   "metadata": {},
   "outputs": [
    {
     "name": "stdout",
     "output_type": "stream",
     "text": [
      "[(666, 2351), (1814, 2348), (85, 1975), (741, 1930), (2236, 1803), (2031, 1721), (2064, 1715), (1056, 1477), (1578, 1464), (527, 1329), (1485, 1265), (1286, 757), (2403, 600), (1813, 48)]\n"
     ]
    },
    {
     "data": {
      "text/plain": [
       "14"
      ]
     },
     "execution_count": 60,
     "metadata": {},
     "output_type": "execute_result"
    }
   ],
   "source": [
    "#fastest way\n",
    "import cv2\n",
    "import numpy as np\n",
    "def getPoints_fromPNG(image_path):\n",
    "    img = cv2.imread(image_path)\n",
    "    \n",
    "    #grayscale\n",
    "    img_gray = cv2.cvtColor(img, cv2.COLOR_BGR2GRAY)\n",
    "    \n",
    "    #threshold\n",
    "    _, img_binary = cv2.threshold(img_gray, 200, 255, cv2.THRESH_BINARY)\n",
    "    \n",
    "    #find contours\n",
    "    contours, _ = cv2.findContours(img_binary, cv2.RETR_EXTERNAL, cv2.CHAIN_APPROX_SIMPLE)\n",
    "    \n",
    "    white_dot_centers = []\n",
    "    for contour in contours:\n",
    "        #calculate the moments\n",
    "        M = cv2.moments(contour)\n",
    "        \n",
    "        #calculate centroid coordinates\n",
    "        if M[\"m00\"] != 0:\n",
    "            cX = int(M[\"m10\"] / M[\"m00\"])\n",
    "            cY = int(M[\"m01\"] / M[\"m00\"])\n",
    "            white_dot_centers.append((cX, cY))\n",
    "    \n",
    "    return white_dot_centers\n",
    "\n",
    "\n",
    "white_dot_centers = getPoints_fromPNG(image_path)\n",
    "print(white_dot_centers)\n",
    "white_dot_centers.count((1071, 3))\n",
    "len(white_dot_centers)"
   ]
  },
  {
   "attachments": {},
   "cell_type": "markdown",
   "metadata": {},
   "source": [
    "### Create shp from points"
   ]
  },
  {
   "cell_type": "code",
   "execution_count": 43,
   "metadata": {},
   "outputs": [],
   "source": [
    "import os\n",
    "from osgeo import ogr, osr\n",
    "\n",
    "def create_shapefile(output_shp, points):\n",
    "    driver = ogr.GetDriverByName('ESRI Shapefile')\n",
    "    if os.path.exists(output_shp):\n",
    "        driver.DeleteDataSource(output_shp)\n",
    "    output_ds = driver.CreateDataSource(output_shp)\n",
    "    \n",
    "    spatial_ref = osr.SpatialReference()\n",
    "    #spatial_ref.ImportFromEPSG(4326)  # WGS84\n",
    "    spatial_ref.ImportFromEPSG(23700) # new\n",
    "    \n",
    "    #new layer\n",
    "    output_layer = output_ds.CreateLayer(\"points\", spatial_ref, ogr.wkbPoint)\n",
    "    \n",
    "    #define a field for the point ID\n",
    "    id_field = ogr.FieldDefn(\"ID\", ogr.OFTInteger)\n",
    "    output_layer.CreateField(id_field)\n",
    "    \n",
    "    #create points and add them to the layer\n",
    "    for i, (x, y) in enumerate(points):\n",
    "        point = ogr.Geometry(ogr.wkbPoint)\n",
    "        point.AddPoint(x,y)\n",
    "        \n",
    "        feature = ogr.Feature(output_layer.GetLayerDefn())\n",
    "        feature.SetGeometry(point)\n",
    "        feature.SetField(\"ID\", i+1)\n",
    "        output_layer.CreateFeature(feature)\n",
    "        \n",
    "        feature = None\n",
    "    \n",
    "    output_ds = None\n",
    "\n",
    "\n",
    "output_shp = '../data/frompng_tile_shp_0_0.shp'\n",
    "#points = white_dot_centers#[(10, 20), (30, 40), (50, 60)]  # Example list of coordinates\n",
    "\n",
    "create_shapefile(output_shp, points)\n"
   ]
  },
  {
   "attachments": {},
   "cell_type": "markdown",
   "metadata": {},
   "source": [
    "## output shapefiles are in wrong direction and mislocated."
   ]
  },
  {
   "cell_type": "code",
   "execution_count": 9,
   "metadata": {},
   "outputs": [
    {
     "name": "stdout",
     "output_type": "stream",
     "text": [
      "[(549243.3870318223, 221151.71778455636, 0.0), (549253.7454693333, 221151.77731580642, 0.0), (549253.74174863, 221174.52941543964, 0.0), (549248.979248625, 221167.50472793222, 0.0), (549242.1331548678, 221161.84925917626, 0.0), (549255.7062798821, 221157.97972792215, 0.0), (549259.0995611356, 221169.05254043386, 0.0), (549256.0039361324, 221158.03925917222, 0.0), (549250.7815254254, 221162.48085515414, 0.0), (549251.6184003273, 221160.51942960278, 0.0), (549246.910979004, 221160.38866789936, 0.0), (549257.5549816627, 221157.17192999512, 0.0), (549244.0603738694, 221155.91661764227, 0.0), (549238.11888897, 221155.47693141436, 0.0)]\n"
     ]
    }
   ],
   "source": [
    "from osgeo import ogr\n",
    "\n",
    "shp_path = \"../data/tile_shp_0_0_copy.shp\"\n",
    "input_ds = ogr.Open(shp_path)\n",
    "\n",
    "if input_ds is None:\n",
    "    print(f\"Could not open input shapefile: {shp_path}\")\n",
    "    exit()\n",
    "\n",
    "# Get the input layer\n",
    "input_layer = input_ds.GetLayer()\n",
    "\n",
    "# List to store points\n",
    "points_list = []\n",
    "\n",
    "# Loop through features to extract points\n",
    "for feature in input_layer:\n",
    "    geom = feature.GetGeometryRef()\n",
    "    if geom is not None:\n",
    "        for i in range(geom.GetPointCount()):\n",
    "            point = geom.GetPoint(i)\n",
    "            points_list.append(point)\n",
    "\n",
    "# Close the shapefile\n",
    "input_ds = None\n",
    "\n",
    "# Print the list of points\n",
    "print(points_list)\n"
   ]
  },
  {
   "cell_type": "code",
   "execution_count": 10,
   "metadata": {},
   "outputs": [
    {
     "ename": "ValueError",
     "evalue": "too many values to unpack (expected 2)",
     "output_type": "error",
     "traceback": [
      "\u001b[0;31m---------------------------------------------------------------------------\u001b[0m",
      "\u001b[0;31mValueError\u001b[0m                                Traceback (most recent call last)",
      "Cell \u001b[0;32mIn[10], line 1\u001b[0m\n\u001b[0;32m----> 1\u001b[0m create_shapefile(\u001b[39m'\u001b[39;49m\u001b[39m../data/frompoints.shp\u001b[39;49m\u001b[39m'\u001b[39;49m,points_list)\n",
      "Cell \u001b[0;32mIn[8], line 21\u001b[0m, in \u001b[0;36mcreate_shapefile\u001b[0;34m(output_shp, points)\u001b[0m\n\u001b[1;32m     18\u001b[0m output_layer\u001b[39m.\u001b[39mCreateField(id_field)\n\u001b[1;32m     20\u001b[0m \u001b[39m#create points and add them to the layer\u001b[39;00m\n\u001b[0;32m---> 21\u001b[0m \u001b[39mfor\u001b[39;00m i, (x, y) \u001b[39min\u001b[39;00m \u001b[39menumerate\u001b[39m(points):\n\u001b[1;32m     22\u001b[0m     point \u001b[39m=\u001b[39m ogr\u001b[39m.\u001b[39mGeometry(ogr\u001b[39m.\u001b[39mwkbPoint)\n\u001b[1;32m     23\u001b[0m     point\u001b[39m.\u001b[39mAddPoint(y,x)\n",
      "\u001b[0;31mValueError\u001b[0m: too many values to unpack (expected 2)"
     ]
    }
   ],
   "source": [
    "create_shapefile('../data/frompoints.shp',points_list)"
   ]
  }
 ],
 "metadata": {
  "kernelspec": {
   "display_name": "canopysegmentation",
   "language": "python",
   "name": "python3"
  },
  "language_info": {
   "codemirror_mode": {
    "name": "ipython",
    "version": 3
   },
   "file_extension": ".py",
   "mimetype": "text/x-python",
   "name": "python",
   "nbconvert_exporter": "python",
   "pygments_lexer": "ipython3",
   "version": "3.9.6"
  },
  "orig_nbformat": 4
 },
 "nbformat": 4,
 "nbformat_minor": 2
}
