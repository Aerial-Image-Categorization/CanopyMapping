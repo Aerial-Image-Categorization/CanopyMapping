{
 "cells": [
  {
   "cell_type": "code",
   "execution_count": 1,
   "metadata": {},
   "outputs": [],
   "source": [
    "import sys\n",
    "sys.path.append('../')\n",
    "import os\n",
    "import torchvision.transforms as T\n",
    "import matplotlib.pyplot as plt\n",
    "from PIL import Image\n",
    "import numpy as np\n",
    "from utils.imageprocessing import show_image\n",
    "from utils.datasets import load_image\n",
    "\n",
    "from tqdm.auto import tqdm"
   ]
  },
  {
   "cell_type": "code",
   "execution_count": 2,
   "metadata": {},
   "outputs": [],
   "source": [
    "train_folder = '../data/2024-03-16_dataset/augmentated/train'\n",
    "test_folder = '../data/2024-03-16_dataset/augmentated/test'\n",
    "\n",
    "train_images_folder = '../data/2024-03-16_dataset/augmentated/train/images'\n",
    "train_masks_folder = '../data/2024-03-16_dataset/augmentated/train/masks'\n",
    "test_images_folder = '../data/2024-03-16_dataset/augmentated/test/images'\n",
    "test_masks_folder = '../data/2024-03-16_dataset/augmentated/test/masks'\n",
    "\n",
    "if not os.path.exists(train_folder):\n",
    "    os.mkdir(train_folder)\n",
    "    if not os.path.exists(train_images_folder):\n",
    "        os.mkdir(train_images_folder)\n",
    "    if not os.path.exists(train_masks_folder):\n",
    "        os.mkdir(train_masks_folder)\n",
    "if not os.path.exists(test_folder):\n",
    "    os.mkdir(test_folder)\n",
    "    if not os.path.exists(test_images_folder):\n",
    "        os.mkdir(test_images_folder)\n",
    "    if not os.path.exists(test_masks_folder):\n",
    "        os.mkdir(test_masks_folder)"
   ]
  },
  {
   "cell_type": "code",
   "execution_count": 53,
   "metadata": {},
   "outputs": [
    {
     "data": {
      "text/plain": [
       "<matplotlib.image.AxesImage at 0x3199fe880>"
      ]
     },
     "execution_count": 53,
     "metadata": {},
     "output_type": "execute_result"
    },
    {
     "data": {
      "image/png": "[encoded data removed]",
      "text/plain": [
       "<Figure size 640x480 with 1 Axes>"
      ]
     },
     "metadata": {},
     "output_type": "display_data"
    }
   ],
   "source": [
    "image = Image.open('../data/2024-03-16_dataset/augmentated/train/images/tile_tif_0_13.png')\n",
    "mask = Image.open('../data/2024-03-16_dataset/augmentated/train/masks/tile_shp_0_13.png')\n",
    "#show_image('../data/2024-03-16_dataset/augmentated/train/images/tile_tif_0_13.png')\n",
    "plt.imshow(mask)"
   ]
  },
  {
   "cell_type": "code",
   "execution_count": null,
   "metadata": {},
   "outputs": [],
   "source": [
    "train_folder = '../data/2024-03-16_dataset/standard/train'\n",
    "test_folder = '../data/2024-03-16_dataset/standard/test'\n"
   ]
  },
  {
   "cell_type": "code",
   "execution_count": 3,
   "metadata": {},
   "outputs": [
    {
     "name": "stderr",
     "output_type": "stream",
     "text": [
      "generating rotated images:   1%|▏         | 4/275 [00:07<08:16,  1.83s/it]\n"
     ]
    },
    {
     "ename": "KeyboardInterrupt",
     "evalue": "",
     "output_type": "error",
     "traceback": [
      "\u001b[0;31m---------------------------------------------------------------------------\u001b[0m",
      "\u001b[0;31mAttributeError\u001b[0m                            Traceback (most recent call last)",
      "File \u001b[0;32m~/OE Projects/Mapping Upper Canopy Level/venvs_can/canopysegmentation/lib/python3.9/site-packages/PIL/ImageFile.py:536\u001b[0m, in \u001b[0;36m_save\u001b[0;34m(im, fp, tile, bufsize)\u001b[0m\n\u001b[1;32m    535\u001b[0m \u001b[39mtry\u001b[39;00m:\n\u001b[0;32m--> 536\u001b[0m     fh \u001b[39m=\u001b[39m fp\u001b[39m.\u001b[39;49mfileno()\n\u001b[1;32m    537\u001b[0m     fp\u001b[39m.\u001b[39mflush()\n",
      "\u001b[0;31mAttributeError\u001b[0m: '_idat' object has no attribute 'fileno'",
      "\nDuring handling of the above exception, another exception occurred:\n",
      "\u001b[0;31mKeyboardInterrupt\u001b[0m                         Traceback (most recent call last)",
      "Cell \u001b[0;32mIn[3], line 24\u001b[0m\n\u001b[1;32m     22\u001b[0m             t_rot_270(mask)\u001b[39m.\u001b[39msave(os\u001b[39m.\u001b[39mpath\u001b[39m.\u001b[39mjoin(train_masks_folder,filename_splitext[\u001b[39m0\u001b[39m]\u001b[39m+\u001b[39m\u001b[39m'\u001b[39m\u001b[39m_270.\u001b[39m\u001b[39m'\u001b[39m\u001b[39m+\u001b[39mfilename_splitext[\u001b[39m1\u001b[39m]))\n\u001b[1;32m     23\u001b[0m             pbar\u001b[39m.\u001b[39mupdate(\u001b[39m1\u001b[39m)\n\u001b[0;32m---> 24\u001b[0m rotate_train_pairs()\n",
      "Cell \u001b[0;32mIn[3], line 12\u001b[0m, in \u001b[0;36mrotate_train_pairs\u001b[0;34m()\u001b[0m\n\u001b[1;32m     10\u001b[0m image \u001b[39m=\u001b[39m Image\u001b[39m.\u001b[39mopen(os\u001b[39m.\u001b[39mpath\u001b[39m.\u001b[39mjoin(train_images_folder,image_filename))\n\u001b[1;32m     11\u001b[0m filename_splitext \u001b[39m=\u001b[39m image_filename\u001b[39m.\u001b[39msplit(\u001b[39m'\u001b[39m\u001b[39m.\u001b[39m\u001b[39m'\u001b[39m)\n\u001b[0;32m---> 12\u001b[0m t_rot_90(image)\u001b[39m.\u001b[39;49msave(os\u001b[39m.\u001b[39;49mpath\u001b[39m.\u001b[39;49mjoin(train_images_folder,filename_splitext[\u001b[39m0\u001b[39;49m]\u001b[39m+\u001b[39;49m\u001b[39m'\u001b[39;49m\u001b[39m_90.\u001b[39;49m\u001b[39m'\u001b[39;49m\u001b[39m+\u001b[39;49mfilename_splitext[\u001b[39m1\u001b[39;49m]))\n\u001b[1;32m     13\u001b[0m t_rot_180(image)\u001b[39m.\u001b[39msave(os\u001b[39m.\u001b[39mpath\u001b[39m.\u001b[39mjoin(train_images_folder,filename_splitext[\u001b[39m0\u001b[39m]\u001b[39m+\u001b[39m\u001b[39m'\u001b[39m\u001b[39m_180.\u001b[39m\u001b[39m'\u001b[39m\u001b[39m+\u001b[39mfilename_splitext[\u001b[39m1\u001b[39m]))\n\u001b[1;32m     14\u001b[0m t_rot_270(image)\u001b[39m.\u001b[39msave(os\u001b[39m.\u001b[39mpath\u001b[39m.\u001b[39mjoin(train_images_folder,filename_splitext[\u001b[39m0\u001b[39m]\u001b[39m+\u001b[39m\u001b[39m'\u001b[39m\u001b[39m_270.\u001b[39m\u001b[39m'\u001b[39m\u001b[39m+\u001b[39mfilename_splitext[\u001b[39m1\u001b[39m]))\n",
      "File \u001b[0;32m~/OE Projects/Mapping Upper Canopy Level/venvs_can/canopysegmentation/lib/python3.9/site-packages/PIL/Image.py:2439\u001b[0m, in \u001b[0;36mImage.save\u001b[0;34m(self, fp, format, **params)\u001b[0m\n\u001b[1;32m   2436\u001b[0m         fp \u001b[39m=\u001b[39m builtins\u001b[39m.\u001b[39mopen(filename, \u001b[39m\"\u001b[39m\u001b[39mw+b\u001b[39m\u001b[39m\"\u001b[39m)\n\u001b[1;32m   2438\u001b[0m \u001b[39mtry\u001b[39;00m:\n\u001b[0;32m-> 2439\u001b[0m     save_handler(\u001b[39mself\u001b[39;49m, fp, filename)\n\u001b[1;32m   2440\u001b[0m \u001b[39mexcept\u001b[39;00m \u001b[39mException\u001b[39;00m:\n\u001b[1;32m   2441\u001b[0m     \u001b[39mif\u001b[39;00m open_fp:\n",
      "File \u001b[0;32m~/OE Projects/Mapping Upper Canopy Level/venvs_can/canopysegmentation/lib/python3.9/site-packages/PIL/PngImagePlugin.py:1402\u001b[0m, in \u001b[0;36m_save\u001b[0;34m(im, fp, filename, chunk, save_all)\u001b[0m\n\u001b[1;32m   1398\u001b[0m     im \u001b[39m=\u001b[39m _write_multiple_frames(\n\u001b[1;32m   1399\u001b[0m         im, fp, chunk, rawmode, default_image, append_images\n\u001b[1;32m   1400\u001b[0m     )\n\u001b[1;32m   1401\u001b[0m \u001b[39mif\u001b[39;00m im:\n\u001b[0;32m-> 1402\u001b[0m     ImageFile\u001b[39m.\u001b[39;49m_save(im, _idat(fp, chunk), [(\u001b[39m\"\u001b[39;49m\u001b[39mzip\u001b[39;49m\u001b[39m\"\u001b[39;49m, (\u001b[39m0\u001b[39;49m, \u001b[39m0\u001b[39;49m) \u001b[39m+\u001b[39;49m im\u001b[39m.\u001b[39;49msize, \u001b[39m0\u001b[39;49m, rawmode)])\n\u001b[1;32m   1404\u001b[0m \u001b[39mif\u001b[39;00m info:\n\u001b[1;32m   1405\u001b[0m     \u001b[39mfor\u001b[39;00m info_chunk \u001b[39min\u001b[39;00m info\u001b[39m.\u001b[39mchunks:\n",
      "File \u001b[0;32m~/OE Projects/Mapping Upper Canopy Level/venvs_can/canopysegmentation/lib/python3.9/site-packages/PIL/ImageFile.py:540\u001b[0m, in \u001b[0;36m_save\u001b[0;34m(im, fp, tile, bufsize)\u001b[0m\n\u001b[1;32m    538\u001b[0m     _encode_tile(im, fp, tile, bufsize, fh)\n\u001b[1;32m    539\u001b[0m \u001b[39mexcept\u001b[39;00m (\u001b[39mAttributeError\u001b[39;00m, io\u001b[39m.\u001b[39mUnsupportedOperation) \u001b[39mas\u001b[39;00m exc:\n\u001b[0;32m--> 540\u001b[0m     _encode_tile(im, fp, tile, bufsize, \u001b[39mNone\u001b[39;49;00m, exc)\n\u001b[1;32m    541\u001b[0m \u001b[39mif\u001b[39;00m \u001b[39mhasattr\u001b[39m(fp, \u001b[39m\"\u001b[39m\u001b[39mflush\u001b[39m\u001b[39m\"\u001b[39m):\n\u001b[1;32m    542\u001b[0m     fp\u001b[39m.\u001b[39mflush()\n",
      "File \u001b[0;32m~/OE Projects/Mapping Upper Canopy Level/venvs_can/canopysegmentation/lib/python3.9/site-packages/PIL/ImageFile.py:559\u001b[0m, in \u001b[0;36m_encode_tile\u001b[0;34m(im, fp, tile, bufsize, fh, exc)\u001b[0m\n\u001b[1;32m    556\u001b[0m \u001b[39mif\u001b[39;00m exc:\n\u001b[1;32m    557\u001b[0m     \u001b[39m# compress to Python file-compatible object\u001b[39;00m\n\u001b[1;32m    558\u001b[0m     \u001b[39mwhile\u001b[39;00m \u001b[39mTrue\u001b[39;00m:\n\u001b[0;32m--> 559\u001b[0m         errcode, data \u001b[39m=\u001b[39m encoder\u001b[39m.\u001b[39;49mencode(bufsize)[\u001b[39m1\u001b[39m:]\n\u001b[1;32m    560\u001b[0m         fp\u001b[39m.\u001b[39mwrite(data)\n\u001b[1;32m    561\u001b[0m         \u001b[39mif\u001b[39;00m errcode:\n",
      "\u001b[0;31mKeyboardInterrupt\u001b[0m: "
     ]
    }
   ],
   "source": [
    "def rotate_train_pairs():\n",
    "    t_rot_90= T.RandomRotation((90,90))\n",
    "    t_rot_180 = T.RandomRotation((180,180))\n",
    "    t_rot_270 = T.RandomRotation((270,270))\n",
    "    \n",
    "    image_filenames = os.listdir(train_images_folder)\n",
    "    total_len = len(image_filenames)\n",
    "    with tqdm(total=total_len, desc='generating rotated images') as pbar:\n",
    "        for image_filename in image_filenames:\n",
    "            image = Image.open(os.path.join(train_images_folder,image_filename))\n",
    "            filename_splitext = image_filename.split('.')\n",
    "            t_rot_90(image).save(os.path.join(train_images_folder,filename_splitext[0]+'_90.'+filename_splitext[1]))\n",
    "            t_rot_180(image).save(os.path.join(train_images_folder,filename_splitext[0]+'_180.'+filename_splitext[1]))\n",
    "            t_rot_270(image).save(os.path.join(train_images_folder,filename_splitext[0]+'_270.'+filename_splitext[1]))\n",
    "\n",
    "            mask_filename = image_filename.replace('tif','shp')\n",
    "\n",
    "            mask = Image.open(os.path.join(train_masks_folder, mask_filename))\n",
    "            filename_splitext = mask_filename.split('.')\n",
    "            t_rot_90(mask).save(os.path.join(train_masks_folder,filename_splitext[0]+'_90.'+filename_splitext[1]))\n",
    "            t_rot_180(mask).save(os.path.join(train_masks_folder,filename_splitext[0]+'_180.'+filename_splitext[1]))\n",
    "            t_rot_270(mask).save(os.path.join(train_masks_folder,filename_splitext[0]+'_270.'+filename_splitext[1]))\n",
    "            pbar.update(1)\n",
    "rotate_train_pairs()"
   ]
  }
 ],
 "metadata": {
  "kernelspec": {
   "display_name": "canopysegmentation",
   "language": "python",
   "name": "python3"
  },
  "language_info": {
   "codemirror_mode": {
    "name": "ipython",
    "version": 3
   },
   "file_extension": ".py",
   "mimetype": "text/x-python",
   "name": "python",
   "nbconvert_exporter": "python",
   "pygments_lexer": "ipython3",
   "version": "3.9.6"
  },
  "orig_nbformat": 4
 },
 "nbformat": 4,
 "nbformat_minor": 2
}
