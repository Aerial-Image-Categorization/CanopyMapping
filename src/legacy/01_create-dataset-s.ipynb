{
 "cells": [
  {
   "cell_type": "code",
   "execution_count": 6,
   "id": "0396bde3-84b9-4544-bfd6-c270ea66e15a",
   "metadata": {},
   "outputs": [],
   "source": [
    "import os\n",
    "import logging\n",
    "import geopandas as gpd\n",
    "from osgeo import gdal\n",
    "from shapely.geometry import box, Point, MultiPoint\n",
    "from tqdm import tqdm"
   ]
  },
  {
   "attachments": {},
   "cell_type": "markdown",
   "id": "0f31ae24",
   "metadata": {},
   "source": [
    "## _parameters_"
   ]
  },
  {
   "cell_type": "code",
   "execution_count": 5,
   "id": "652f6624",
   "metadata": {},
   "outputs": [],
   "source": [
    "tif_path = '../data/raw/2023-02-23_Bakonyszucs_actual.tif'\n",
    "points_shp_path = '../data/raw/Fa_pontok.shp'\n",
    "poly_shp_path = '../data/raw/Lombkorona.shp'\n",
    "\n",
    "\n",
    "dataset_folder = 'SEG_SPLIT_TEST_new'\n",
    "tile_size=(1024, 1024)\n"
   ]
  },
  {
   "attachments": {},
   "cell_type": "markdown",
   "id": "dd8c4863",
   "metadata": {},
   "source": [
    "# special split"
   ]
  },
  {
   "cell_type": "code",
   "execution_count": 33,
   "id": "9400b4ee-ba65-442d-8fbc-e21317540d1e",
   "metadata": {},
   "outputs": [],
   "source": [
    "# OLD split sol.\n",
    "def split_SEG(tif_path, points_shp_path, poly_shp_path, output_folder, tile_size=(200, 200)):\n",
    "    \"\"\"\n",
    "    Split .shp & .tif files using points from a point shapefile to center each split tile (200x200).\n",
    "    The function cuts both TIF and polygon shapefile over the same areas centered around the points.\n",
    "    \"\"\"\n",
    "    tifs_path_folder = os.path.join(output_folder, 'tifs')\n",
    "    os.makedirs(tifs_path_folder, exist_ok=True)\n",
    "    points_gdf = gpd.read_file(points_shp_path)\n",
    "    tif_dataset = gdal.Open(tif_path)\n",
    "    tif_transform = tif_dataset.GetGeoTransform()\n",
    "    pixel_width = tif_transform[1]\n",
    "    pixel_height = abs(tif_transform[5])\n",
    "\n",
    "    out_dict = {}\n",
    "    \n",
    "    if poly_shp_path:\n",
    "        shps_path_folder = os.path.join(output_folder, 'shps')\n",
    "        os.makedirs(shps_path_folder, exist_ok=True)\n",
    "        logging.info(f'⚙️ TIF and SHP splitting started.')\n",
    "    else:\n",
    "        logging.info(f'⚙️ TIF splitting started.')\n",
    "        \n",
    "    for idx, point in tqdm(points_gdf.iterrows(), total=points_gdf.shape[0], desc=\"Processing trees\"):\n",
    "        if isinstance(point.geometry, Point):\n",
    "            process_seg_tile(idx, None, point.geometry.x, point.geometry.y, tif_dataset, tif_transform, poly_shp_path, tifs_path_folder, shps_path_folder, tile_size, pixel_width, pixel_height)\n",
    "            out_dict[idx] = point.geometry.x, point.geometry.y\n",
    "        elif isinstance(point.geometry, MultiPoint):\n",
    "            for sub_idx, sub_point in enumerate(point.geometry.geoms):\n",
    "                out_dict[idx] = sub_point.x, sub_point.y\n",
    "                process_seg_tile(idx, sub_idx, sub_point.x, sub_point.y, tif_dataset, tif_transform, poly_shp_path, tifs_path_folder, shps_path_folder, tile_size, pixel_width, pixel_height)\n",
    "        else:\n",
    "            logging.warning(f'Unsupported geometry type {type(point.geometry)} at index {idx}')\n",
    "            continue\n",
    "\n",
    "    if poly_shp_path:\n",
    "        logging.info(f'✅ TIF and SHP splitting ended.')\n",
    "    else:\n",
    "        logging.info(f'✅ TIF splitting ended.')\n",
    "\n",
    "    return out_dict\n",
    "\n",
    "def process_seg_tile(idx, sub_idx, center_x, center_y, tif_dataset, tif_transform, poly_shp_path, tifs_path_folder, shps_path_folder, tile_size, pixel_width, pixel_height):\n",
    "    \"\"\"\n",
    "    Helper function to process a single tile around a point.\n",
    "    \"\"\"\n",
    "\n",
    "    half_width = (tile_size[0] // 2) * pixel_width\n",
    "    half_height = (tile_size[1] // 2) * pixel_height\n",
    "\n",
    "    minx, miny = center_x - half_width, center_y - half_height\n",
    "    maxx, maxy = center_x + half_width, center_y + half_height\n",
    "\n",
    "    tile_bbox = box(minx, miny, maxx, maxy)\n",
    "\n",
    "    offset_x = int((minx - tif_transform[0]) / pixel_width)\n",
    "    offset_y = int((tif_transform[3] - maxy) / pixel_height)\n",
    "\n",
    "    \n",
    "    \n",
    "    if poly_shp_path:\n",
    "        tile_gdf = gpd.read_file(poly_shp_path, mask=tile_bbox)\n",
    "        if not tile_gdf.empty:\n",
    "            if sub_idx is not None and sub_idx != 0:\n",
    "                tile_shp_path = os.path.join(shps_path_folder, f\"tile_{idx}_{sub_idx}.shp\")\n",
    "            else:\n",
    "                tile_shp_path = os.path.join(shps_path_folder, f\"tile_{idx}.shp\")\n",
    "            tile_gdf.to_file(tile_shp_path)\n",
    "            logging.info(f'Saved tile shapefile for point {idx} (sub-point {sub_idx}) at {tile_shp_path}')\n",
    "\n",
    "            if sub_idx is not None and sub_idx != 0:\n",
    "                tif_output_path = os.path.join(tifs_path_folder, f\"tile_{idx}_{sub_idx}.tif\")\n",
    "            else:\n",
    "                tif_output_path = os.path.join(tifs_path_folder, f\"tile_{idx}.tif\")\n",
    "            \n",
    "            gdal.Translate(\n",
    "                tif_output_path,\n",
    "                tif_dataset,\n",
    "                srcWin=[offset_x, offset_y, tile_size[0], tile_size[1]]\n",
    "            )\n",
    "            logging.info(f'Saved tile TIF for point {idx} (sub-point {sub_idx})')\n",
    "        #else:\n",
    "            #logging.info(f'TIF tile is not saved')\n",
    "    else:\n",
    "        if sub_idx is not None and sub_idx != 0:\n",
    "            tif_output_path = os.path.join(tifs_path_folder, f\"tile_{idx}_{sub_idx}.tif\")\n",
    "        else:\n",
    "            tif_output_path = os.path.join(tifs_path_folder, f\"tile_{idx}.tif\")\n",
    "        \n",
    "        gdal.Translate(\n",
    "            tif_output_path,\n",
    "            tif_dataset,\n",
    "            srcWin=[offset_x, offset_y, tile_size[0], tile_size[1]]\n",
    "        )\n",
    "        logging.info(f'Saved tile TIF for point {idx} (sub-point {sub_idx})')\n",
    "    \n"
   ]
  },
  {
   "cell_type": "code",
   "execution_count": 7,
   "id": "96190395",
   "metadata": {},
   "outputs": [],
   "source": [
    "# NEW split sol.\n",
    "\n",
    "import os\n",
    "import logging\n",
    "from shapely.geometry import Point, MultiPoint, box\n",
    "import geopandas as gpd\n",
    "from osgeo import gdal\n",
    "from tqdm import tqdm\n",
    "\n",
    "from utils.imageprocessing import split_SEG\n",
    "from utils.datasetvalidation import set_valid_CRS"
   ]
  },
  {
   "cell_type": "code",
   "execution_count": 7,
   "id": "606c16af-c82a-4e69-acf6-fab56fec9d8d",
   "metadata": {
    "scrolled": true
   },
   "outputs": [
    {
     "data": {
      "application/vnd.jupyter.widget-view+json": {
       "model_id": "0d8203188a7e4048b20333a213e0ef5f",
       "version_major": 2,
       "version_minor": 0
      },
      "text/plain": [
       "Processing trees:   0%|          | 0/2760 [00:00<?, ?it/s]"
      ]
     },
     "metadata": {},
     "output_type": "display_data"
    }
   ],
   "source": [
    "points = split_SEG(\n",
    "    tif_path = tif_path,\n",
    "    points_shp_path = points_shp_path,\n",
    "    poly_shp_path = poly_shp_path,\n",
    "    output_folder = os.path.join(dataset_folder,'all','original'),\n",
    "    tile_size=tile_size\n",
    ")"
   ]
  },
  {
   "cell_type": "code",
   "execution_count": 11,
   "id": "bf3d3f71-021e-4079-9f75-1dde3d8b38b1",
   "metadata": {},
   "outputs": [],
   "source": [
    "#CHECK tiles count\n",
    "\n",
    "assert len([filename for filename in os.listdir('SEG_SPLIT_TEST/tifs') if filename.endswith('tif')]) == len([filename for filename in os.listdir('SEG_SPLIT_TEST/shps') if filename.endswith('shp')])"
   ]
  },
  {
   "cell_type": "code",
   "execution_count": 9,
   "id": "48a10e52-1adb-48c2-9749-bfbb30bb3fc8",
   "metadata": {},
   "outputs": [
    {
     "data": {
      "text/plain": [
       "True"
      ]
     },
     "execution_count": 9,
     "metadata": {},
     "output_type": "execute_result"
    }
   ],
   "source": [
    "#DELETE dir.\n",
    "\n",
    "os.system('sudo rm -r SEG_SPLIT_TEST') == 0"
   ]
  },
  {
   "attachments": {},
   "cell_type": "markdown",
   "id": "6adad57c",
   "metadata": {},
   "source": [
    "# set valid crs"
   ]
  },
  {
   "cell_type": "code",
   "execution_count": 8,
   "id": "49637cd3",
   "metadata": {},
   "outputs": [
    {
     "data": {
      "application/vnd.jupyter.widget-view+json": {
       "model_id": "7957a3a604544a0098736d06e3fac52b",
       "version_major": 2,
       "version_minor": 0
      },
      "text/plain": [
       "  0%|          | 0/10370 [00:00<?, ?it/s]"
      ]
     },
     "metadata": {},
     "output_type": "display_data"
    },
    {
     "data": {
      "text/plain": [
       "([], 0.12376856803894043)"
      ]
     },
     "execution_count": 8,
     "metadata": {},
     "output_type": "execute_result"
    }
   ],
   "source": [
    "set_valid_CRS(\n",
    "    os.path.join(dataset_folder,'all','original','shps'),\n",
    "    desired_crs_epsg=23700\n",
    ")"
   ]
  },
  {
   "attachments": {},
   "cell_type": "markdown",
   "id": "e5a50732",
   "metadata": {},
   "source": [
    "# create dataset function"
   ]
  },
  {
   "attachments": {},
   "cell_type": "markdown",
   "id": "dcc370b8",
   "metadata": {},
   "source": [
    "## convert tifs to pngs"
   ]
  },
  {
   "cell_type": "code",
   "execution_count": 11,
   "id": "451a129e",
   "metadata": {},
   "outputs": [
    {
     "data": {
      "application/vnd.jupyter.widget-view+json": {
       "model_id": "717cd52abc984cf0a7e701851346d1e4",
       "version_major": 2,
       "version_minor": 0
      },
      "text/plain": [
       "converting TIFs to PNGs:   0%|          | 0/2074 [00:00<?, ?it/s]"
      ]
     },
     "metadata": {},
     "output_type": "display_data"
    },
    {
     "ename": "KeyboardInterrupt",
     "evalue": "",
     "output_type": "error",
     "traceback": [
      "\u001b[0;31m---------------------------------------------------------------------------\u001b[0m",
      "\u001b[0;31mKeyboardInterrupt\u001b[0m                         Traceback (most recent call last)",
      "Cell \u001b[0;32mIn[11], line 7\u001b[0m\n\u001b[1;32m      3\u001b[0m working_folder_path \u001b[39m=\u001b[39m os\u001b[39m.\u001b[39mpath\u001b[39m.\u001b[39mjoin(dataset_folder,\u001b[39m'\u001b[39m\u001b[39mall\u001b[39m\u001b[39m'\u001b[39m,\u001b[39m'\u001b[39m\u001b[39moriginal\u001b[39m\u001b[39m'\u001b[39m)\n\u001b[1;32m      5\u001b[0m tile_size \u001b[39m=\u001b[39m (\u001b[39m1024\u001b[39m,\u001b[39m1024\u001b[39m)\n\u001b[0;32m----> 7\u001b[0m elapsed_time \u001b[39m=\u001b[39m convert_TIFtoPNG(\n\u001b[1;32m      8\u001b[0m     os\u001b[39m.\u001b[39;49mpath\u001b[39m.\u001b[39;49mjoin(working_folder_path,\u001b[39m'\u001b[39;49m\u001b[39mtifs\u001b[39;49m\u001b[39m'\u001b[39;49m),\n\u001b[1;32m      9\u001b[0m     os\u001b[39m.\u001b[39;49mpath\u001b[39m.\u001b[39;49mjoin(working_folder_path,\u001b[39m'\u001b[39;49m\u001b[39mimages\u001b[39;49m\u001b[39m'\u001b[39;49m), \n\u001b[1;32m     10\u001b[0m     tile_size\u001b[39m=\u001b[39;49mtile_size,\n\u001b[1;32m     11\u001b[0m     grayscale\u001b[39m=\u001b[39;49m\u001b[39mFalse\u001b[39;49;00m\n\u001b[1;32m     12\u001b[0m )\n",
      "File \u001b[0;32m~/Projects/banoczymartin_thesis/CanopyMapping/src/utils/imageprocessing.py:428\u001b[0m, in \u001b[0;36mconvert_TIFtoPNG\u001b[0;34m(folder, out_folder, tile_size, grayscale)\u001b[0m\n\u001b[1;32m    426\u001b[0m             cv2\u001b[39m.\u001b[39mimwrite(out_path, scaled)\n\u001b[1;32m    427\u001b[0m         \u001b[39melse\u001b[39;00m:\n\u001b[0;32m--> 428\u001b[0m             save_color_image(out_path, scaled,tif_file)\n\u001b[1;32m    429\u001b[0m         pbar\u001b[39m.\u001b[39mupdate(\u001b[39m1\u001b[39m)\n\u001b[1;32m    430\u001b[0m \u001b[39mreturn\u001b[39;00m time\u001b[39m.\u001b[39mtime()\u001b[39m-\u001b[39mstart_time\n",
      "File \u001b[0;32m~/Projects/banoczymartin_thesis/CanopyMapping/src/utils/imageprocessing.py:314\u001b[0m, in \u001b[0;36msave_color_image\u001b[0;34m(out_path, scaled_data, tif_file)\u001b[0m\n\u001b[1;32m    311\u001b[0m scaled_color_image \u001b[39m=\u001b[39m np\u001b[39m.\u001b[39mstack((red_band, green_band, blue_band), axis\u001b[39m=\u001b[39m\u001b[39m-\u001b[39m\u001b[39m1\u001b[39m)\n\u001b[1;32m    312\u001b[0m scaled_color_image \u001b[39m=\u001b[39m cv2\u001b[39m.\u001b[39mnormalize(scaled_color_image, \u001b[39mNone\u001b[39;00m, alpha\u001b[39m=\u001b[39m\u001b[39m0\u001b[39m, beta\u001b[39m=\u001b[39m\u001b[39m255\u001b[39m, norm_type\u001b[39m=\u001b[39mcv2\u001b[39m.\u001b[39mNORM_MINMAX, dtype\u001b[39m=\u001b[39mcv2\u001b[39m.\u001b[39mCV_8U)\n\u001b[0;32m--> 314\u001b[0m cv2\u001b[39m.\u001b[39;49mimwrite(out_path, scaled_color_image)\n",
      "\u001b[0;31mKeyboardInterrupt\u001b[0m: "
     ]
    }
   ],
   "source": [
    "from utils.imageprocessing import convert_TIFtoPNG\n",
    "\n",
    "working_folder_path = os.path.join(dataset_folder,'all','original')\n",
    "\n",
    "tile_size = (1024,1024)\n",
    "\n",
    "elapsed_time = convert_TIFtoPNG(\n",
    "    os.path.join(working_folder_path,'tifs'),\n",
    "    os.path.join(working_folder_path,'images'), \n",
    "    tile_size=tile_size,\n",
    "    grayscale=False\n",
    ")"
   ]
  },
  {
   "attachments": {},
   "cell_type": "markdown",
   "id": "224d1e73",
   "metadata": {},
   "source": [
    "## convert shps to pngs"
   ]
  },
  {
   "cell_type": "code",
   "execution_count": 3,
   "id": "9b908226",
   "metadata": {},
   "outputs": [],
   "source": [
    "import geopandas as gpd\n",
    "import rasterio\n",
    "from rasterio.warp import transform_bounds\n",
    "from PIL import Image, ImageDraw\n",
    "import os\n",
    "\n",
    "from utils.imageprocessing import convert_SHPtoPNG_SEG"
   ]
  },
  {
   "cell_type": "code",
   "execution_count": 15,
   "id": "978cf15c",
   "metadata": {},
   "outputs": [
    {
     "ename": "NameError",
     "evalue": "name 'convert_SHPtoPNG' is not defined",
     "output_type": "error",
     "traceback": [
      "\u001b[0;31m---------------------------------------------------------------------------\u001b[0m",
      "\u001b[0;31mNameError\u001b[0m                                 Traceback (most recent call last)",
      "Cell \u001b[0;32mIn[15], line 5\u001b[0m\n\u001b[1;32m      2\u001b[0m working_folder_path \u001b[39m=\u001b[39m \u001b[39m'\u001b[39m\u001b[39mSEG_SPLIT_TEST\u001b[39m\u001b[39m'\u001b[39m\n\u001b[1;32m      3\u001b[0m tile_num \u001b[39m=\u001b[39m \u001b[39m1900\u001b[39m\n\u001b[0;32m----> 5\u001b[0m convert_SHPtoPNG(\n\u001b[1;32m      6\u001b[0m     tif_path \u001b[39m=\u001b[39m os\u001b[39m.\u001b[39mpath\u001b[39m.\u001b[39mjoin(working_folder_path,\u001b[39m'\u001b[39m\u001b[39mtifs\u001b[39m\u001b[39m'\u001b[39m,\u001b[39mf\u001b[39m\u001b[39m'\u001b[39m\u001b[39mtile_\u001b[39m\u001b[39m{\u001b[39;00mtile_num\u001b[39m}\u001b[39;00m\u001b[39m.tif\u001b[39m\u001b[39m'\u001b[39m),\n\u001b[1;32m      7\u001b[0m     shp_path \u001b[39m=\u001b[39m os\u001b[39m.\u001b[39mpath\u001b[39m.\u001b[39mjoin(working_folder_path,\u001b[39m'\u001b[39m\u001b[39mshps\u001b[39m\u001b[39m'\u001b[39m,\u001b[39mf\u001b[39m\u001b[39m'\u001b[39m\u001b[39mtile_\u001b[39m\u001b[39m{\u001b[39;00mtile_num\u001b[39m}\u001b[39;00m\u001b[39m.shp\u001b[39m\u001b[39m'\u001b[39m),\n\u001b[1;32m      8\u001b[0m     png_path \u001b[39m=\u001b[39m os\u001b[39m.\u001b[39mpath\u001b[39m.\u001b[39mjoin(working_folder_path, \u001b[39mf\u001b[39m\u001b[39m'\u001b[39m\u001b[39mtile_mask_\u001b[39m\u001b[39m{\u001b[39;00mtile_num\u001b[39m}\u001b[39;00m\u001b[39m.png\u001b[39m\u001b[39m'\u001b[39m),\n\u001b[1;32m      9\u001b[0m     tile_size\u001b[39m=\u001b[39m(\u001b[39m1024\u001b[39m, \u001b[39m1024\u001b[39m),\n\u001b[1;32m     10\u001b[0m     bg_color\u001b[39m=\u001b[39m\u001b[39m'\u001b[39m\u001b[39mblack\u001b[39m\u001b[39m'\u001b[39m,\n\u001b[1;32m     11\u001b[0m     fg_color\u001b[39m=\u001b[39m\u001b[39m'\u001b[39m\u001b[39mwhite\u001b[39m\u001b[39m'\u001b[39m\n\u001b[1;32m     12\u001b[0m )\n",
      "\u001b[0;31mNameError\u001b[0m: name 'convert_SHPtoPNG' is not defined"
     ]
    }
   ],
   "source": [
    "#test\n",
    "working_folder_path = 'SEG_SPLIT_TEST'\n",
    "tile_num = 1900\n",
    "\n",
    "convert_SHPtoPNG(\n",
    "    tif_path = os.path.join(working_folder_path,'tifs',f'tile_{tile_num}.tif'),\n",
    "    shp_path = os.path.join(working_folder_path,'shps',f'tile_{tile_num}.shp'),\n",
    "    png_path = os.path.join(working_folder_path, f'tile_mask_{tile_num}.png'),\n",
    "    tile_size=(1024, 1024),\n",
    "    bg_color='black',\n",
    "    fg_color='white'\n",
    ")"
   ]
  },
  {
   "attachments": {},
   "cell_type": "markdown",
   "id": "d2c4cb04",
   "metadata": {},
   "source": [
    "## create dataset"
   ]
  },
  {
   "cell_type": "code",
   "execution_count": 1,
   "id": "ffa54fd7",
   "metadata": {},
   "outputs": [],
   "source": [
    "import time\n",
    "import cv2\n",
    "import numpy as np\n",
    "\n",
    "from utils.imageprocessing import createPNG_Dataset_SEG"
   ]
  },
  {
   "cell_type": "code",
   "execution_count": 8,
   "id": "2e1d1eaf",
   "metadata": {},
   "outputs": [
    {
     "data": {
      "application/vnd.jupyter.widget-view+json": {
       "model_id": "e7d3d729edc54358b1eef614ff2620fd",
       "version_major": 2,
       "version_minor": 0
      },
      "text/plain": [
       "Processing tif files:   0%|          | 0/2074 [00:00<?, ?it/s]"
      ]
     },
     "metadata": {},
     "output_type": "display_data"
    },
    {
     "data": {
      "application/vnd.jupyter.widget-view+json": {
       "model_id": "a56719ad348c456db1be38a6f35b3851",
       "version_major": 2,
       "version_minor": 0
      },
      "text/plain": [
       "Processing shp files:   0%|          | 0/2074 [00:00<?, ?it/s]"
      ]
     },
     "metadata": {},
     "output_type": "display_data"
    }
   ],
   "source": [
    "if createPNG_Dataset_SEG(\n",
    "    os.path.join(dataset_folder,'all','original'),\n",
    "    os.path.join(dataset_folder,'all','formatted'),\n",
    "    tile_size,\n",
    "    grayscale=False\n",
    ") == False:\n",
    "    raise Exception('ERROR: check the logs')"
   ]
  },
  {
   "attachments": {},
   "cell_type": "markdown",
   "id": "a1fc68e6",
   "metadata": {},
   "source": [
    "# merge shps"
   ]
  },
  {
   "cell_type": "code",
   "execution_count": 14,
   "id": "ebe74610",
   "metadata": {},
   "outputs": [],
   "source": [
    "import time\n",
    "import os\n",
    "import time\n",
    "from tqdm import tqdm\n",
    "import rasterio\n",
    "import geopandas as gpd\n",
    "from shapely.geometry import Polygon\n",
    "from PIL import Image\n",
    "from skimage import measure\n",
    "\n",
    "from utils.imageprocessing import create_SHP_SEG\n"
   ]
  },
  {
   "cell_type": "code",
   "execution_count": 33,
   "id": "77a4ff8a",
   "metadata": {},
   "outputs": [
    {
     "name": "stderr",
     "output_type": "stream",
     "text": [
      "Converting MASKs to SHP: 100%|██████████| 2074/2074 [01:18<00:00, 26.53it/s]\n"
     ]
    },
    {
     "data": {
      "text/plain": [
       "(4729, 90.15366291999817)"
      ]
     },
     "execution_count": 33,
     "metadata": {},
     "output_type": "execute_result"
    }
   ],
   "source": [
    "create_SHP_SEG(\n",
    "    os.path.join(dataset_folder,'all','original','tifs'),\n",
    "    os.path.join(dataset_folder,'all','formatted','masks'),\n",
    "    os.path.join(dataset_folder,'result.shp'),\n",
    "    23700   \n",
    ")"
   ]
  }
 ],
 "metadata": {
  "kernelspec": {
   "display_name": "Python 3 (ipykernel)",
   "language": "python",
   "name": "python3"
  },
  "language_info": {
   "codemirror_mode": {
    "name": "ipython",
    "version": 3
   },
   "file_extension": ".py",
   "mimetype": "text/x-python",
   "name": "python",
   "nbconvert_exporter": "python",
   "pygments_lexer": "ipython3",
   "version": "3.12.2"
  }
 },
 "nbformat": 4,
 "nbformat_minor": 5
}
