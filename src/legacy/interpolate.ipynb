{
 "cells": [
  {
   "cell_type": "code",
   "execution_count": 1,
   "metadata": {},
   "outputs": [],
   "source": [
    "import os"
   ]
  },
  {
   "cell_type": "code",
   "execution_count": 2,
   "metadata": {},
   "outputs": [],
   "source": [
    "\n",
    "dataset_dir = '../data/2024-10-30-loc-dataset-1024'\n",
    "subset_dir = 'val'\n",
    "\n",
    "image_name = 'tile_tif_13_11.png'\n",
    "mask_name = 'tile_shp_13_11.png'\n",
    "\n",
    "image_path = os.path.join(dataset_dir,subset_dir,'images',image_name)\n",
    "mask_path = os.path.join(dataset_dir,subset_dir,'masks',mask_name)"
   ]
  },
  {
   "cell_type": "code",
   "execution_count": 4,
   "metadata": {},
   "outputs": [
    {
     "data": {
      "text/plain": [
       "True"
      ]
     },
     "execution_count": 4,
     "metadata": {},
     "output_type": "execute_result"
    }
   ],
   "source": [
    "import cv2\n",
    "import numpy as np\n",
    "\n",
    "# Load image and mask (assuming they are in grayscale or binary for the mask)\n",
    "image = cv2.imread(image_path)  # natural image\n",
    "mask = cv2.imread(mask_path, 0)  # mask in grayscale\n",
    "\n",
    "# Step 1: Resize image with bicubic interpolation\n",
    "image_resized = cv2.resize(image, (512, 512), interpolation=cv2.INTER_CUBIC)\n",
    "\n",
    "# Step 2: Resize mask with nearest-neighbor interpolation\n",
    "mask_resized = cv2.resize(mask, (512, 512), interpolation=cv2.INTER_NEAREST)\n",
    "\n",
    "## Step 3: Optional - Enhance edges on the mask\n",
    "#kernel = np.ones((3, 3), np.uint8)\n",
    "#mask_dilated = cv2.dilate(mask_resized, kernel, iterations=100)\n",
    "\n",
    "# Step 4: Optional - Apply CLAHE to the image for contrast enhancement\n",
    "clahe = cv2.createCLAHE(clipLimit=2.0, tileGridSize=(8, 8))\n",
    "if len(image_resized.shape) == 3:  # if color image\n",
    "    # Apply CLAHE on each channel\n",
    "    image_resized = cv2.merge([clahe.apply(channel) for channel in cv2.split(image_resized)])\n",
    "else:\n",
    "    # Grayscale image\n",
    "    image_resized = clahe.apply(image_resized)\n",
    "\n",
    "# Save or use the processed image and mask\n",
    "cv2.imwrite('00_image_resized.png', image_resized)\n",
    "cv2.imwrite('00_mask_resized.png', mask_resized)\n"
   ]
  },
  {
   "cell_type": "code",
   "execution_count": null,
   "metadata": {},
   "outputs": [],
   "source": [
    "def shadow_boosting():\n",
    "    image = cv2.imread(image_path)  # natural image\n",
    "    mask = cv2.imread(mask_path, 0)  # mask in grayscale\n",
    "\n",
    "    # Step 1: Resize image with bicubic interpolation\n",
    "    image_resized = cv2.resize(image, (512, 512), interpolation=cv2.INTER_CUBIC)\n",
    "\n",
    "    # Step 2: Resize mask with nearest-neighbor interpolation\n",
    "    mask_resized = cv2.resize(mask, (512, 512), interpolation=cv2.INTER_NEAREST)\n",
    "\n",
    "    ## Step 3: Optional - Enhance edges on the mask\n",
    "    #kernel = np.ones((3, 3), np.uint8)\n",
    "    #mask_dilated = cv2.dilate(mask_resized, kernel, iterations=100)\n",
    "\n",
    "    # Step 4: Optional - Apply CLAHE to the image for contrast enhancement\n",
    "    clahe = cv2.createCLAHE(clipLimit=2.0, tileGridSize=(8, 8))\n",
    "    if len(image_resized.shape) == 3:  # if color image\n",
    "        # Apply CLAHE on each channel\n",
    "        image_resized = cv2.merge([clahe.apply(channel) for channel in cv2.split(image_resized)])\n",
    "    else:\n",
    "        # Grayscale image\n",
    "        image_resized = clahe.apply(image_resized)"
   ]
  },
  {
   "attachments": {},
   "cell_type": "markdown",
   "metadata": {},
   "source": [
    "### **Vegetation Index Calculation (e.g., NDVI)**\n",
    "   - Calculate a **vegetation index** like the **Normalized Difference Vegetation Index (NDVI)** to highlight vegetation areas. This method requires an infrared (IR) channel, but if you have only RGB, you can approximate NDVI with a simplified green and red band calculation.\n",
    "   - \\( \\text{NDVI} \\approx \\frac{\\text{Green} - \\text{Red}}{\\text{Green} + \\text{Red}} \\)\n",
    "   "
   ]
  },
  {
   "cell_type": "code",
   "execution_count": 47,
   "metadata": {},
   "outputs": [
    {
     "data": {
      "text/plain": [
       "True"
      ]
     },
     "execution_count": 47,
     "metadata": {},
     "output_type": "execute_result"
    }
   ],
   "source": [
    "import cv2\n",
    "import numpy as np\n",
    "\n",
    "# Load the image\n",
    "image = cv2.imread(image_path)\n",
    "\n",
    "\n",
    "\n",
    "# Convert to float for NDVI calculation\n",
    "green = image[:, :, 1].astype(float)\n",
    "red = image[:, :, 2].astype(float)\n",
    "\n",
    "# Calculate NDVI\n",
    "ndvi = (green - red) / (green + red + 1e-5)  # Adding small value to avoid division by zero\n",
    "\n",
    "# Normalize NDVI to [0, 255] for better visibility\n",
    "ndvi_normalized = cv2.normalize(ndvi, None, 0, 255, cv2.NORM_MINMAX).astype(np.uint8)\n",
    "\n",
    "ndvi_normalized= cv2.resize(ndvi_normalized, (512, 512), interpolation=cv2.INTER_CUBIC)\n",
    "# Save the result\n",
    "cv2.imwrite('00_image_resized.png', ndvi_normalized)\n"
   ]
  },
  {
   "attachments": {},
   "cell_type": "markdown",
   "metadata": {},
   "source": [
    "### **Selective Color Desaturation (Remove Non-Green Colors)**\n",
    "   - To emphasize green areas more, **desaturate or darken non-green colors** in the image. This will keep green areas (vegetation) prominent while reducing the impact of other colors.\n"
   ]
  },
  {
   "cell_type": "code",
   "execution_count": 5,
   "metadata": {},
   "outputs": [
    {
     "data": {
      "text/plain": [
       "True"
      ]
     },
     "execution_count": 5,
     "metadata": {},
     "output_type": "execute_result"
    }
   ],
   "source": [
    "import cv2\n",
    "import numpy as np\n",
    "\n",
    "# Load the image\n",
    "image = cv2.imread(image_path)\n",
    "\n",
    "# Convert to HSV color space\n",
    "hsv = cv2.cvtColor(image, cv2.COLOR_BGR2HSV)\n",
    "\n",
    "# Define a mask for green colors\n",
    "lower_green = np.array([35, 40, 40])  # Adjust these values as needed\n",
    "upper_green = np.array([85, 255, 255])\n",
    "green_mask = cv2.inRange(hsv, lower_green, upper_green)\n",
    "\n",
    "# Desaturate areas outside of the green mask\n",
    "hsv[:, :, 1] = cv2.bitwise_and(hsv[:, :, 1], green_mask)\n",
    "\n",
    "# Convert back to BGR color space\n",
    "desaturated_image = cv2.cvtColor(hsv, cv2.COLOR_HSV2BGR)\n",
    "\n",
    "# Save the result\n",
    "cv2.imwrite('00_image_resized.png', desaturated_image)\n"
   ]
  }
 ],
 "metadata": {
  "kernelspec": {
   "display_name": "canopyseg",
   "language": "python",
   "name": "python3"
  },
  "language_info": {
   "codemirror_mode": {
    "name": "ipython",
    "version": 3
   },
   "file_extension": ".py",
   "mimetype": "text/x-python",
   "name": "python",
   "nbconvert_exporter": "python",
   "pygments_lexer": "ipython3",
   "version": "3.9.19"
  },
  "orig_nbformat": 4
 },
 "nbformat": 4,
 "nbformat_minor": 2
}
