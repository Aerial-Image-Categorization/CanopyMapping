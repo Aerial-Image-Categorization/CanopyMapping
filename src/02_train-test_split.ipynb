{
 "cells": [
  {
   "cell_type": "code",
   "execution_count": 10,
   "metadata": {},
   "outputs": [],
   "source": [
    "import sys\n",
    "sys.path.append('../')\n",
    "import os\n",
    "from models.UNet.datasets import ImageNameDataset, get_size\n",
    "from torch.utils.data import random_split\n",
    "import torch\n",
    "from torch.utils.data import DataLoader\n",
    "\n",
    "from sklearn.model_selection import train_test_split\n",
    "\n",
    "import shutil\n",
    "\n",
    "import math"
   ]
  },
  {
   "cell_type": "code",
   "execution_count": 11,
   "metadata": {},
   "outputs": [],
   "source": [
    "# ImageFolder dataset alternative\n",
    "#from torchvision.datasets import ImageFolder\n",
    "#from torchvision.transforms import Compose, ToTensor, Resize\n",
    "#from torch.utils.data import Subset\n",
    "\n",
    "#dataset = ImageFolder('C:\\Datasets\\lcms-dataset', transform=Compose([Resize((224,224)),ToTensor()]))\n",
    "#def train_val_dataset(dataset, val_split=0.25):\n",
    "#    train_idx, val_idx = train_test_split(list(range(len(dataset))), test_size=val_split)\n",
    "#    datasets = {}\n",
    "#    datasets['train'] = Subset(dataset, train_idx)\n",
    "#    datasets['val'] = Subset(dataset, val_idx)\n",
    "#    return datasets"
   ]
  },
  {
   "attachments": {},
   "cell_type": "markdown",
   "metadata": {},
   "source": [
    "### set params."
   ]
  },
  {
   "cell_type": "code",
   "execution_count": 12,
   "metadata": {},
   "outputs": [],
   "source": [
    "dataset_folder = '../data/2024-04-21-dataset/standard/formatted'\n",
    "train_size = 0.90\n",
    "seed = 42\n",
    "batch_size = 1\n",
    "shuffle = False\n",
    "\n",
    "dataset = ImageNameDataset(dataset_folder, sort = True)"
   ]
  },
  {
   "cell_type": "code",
   "execution_count": 13,
   "metadata": {},
   "outputs": [],
   "source": [
    "images = [sample['image'] for sample in dataset]\n",
    "masks = [sample['mask'] for sample in dataset]"
   ]
  },
  {
   "attachments": {},
   "cell_type": "markdown",
   "metadata": {},
   "source": [
    "### casual (scikit-learn) train-test-split"
   ]
  },
  {
   "cell_type": "code",
   "execution_count": 18,
   "metadata": {},
   "outputs": [
    {
     "name": "stdout",
     "output_type": "stream",
     "text": [
      "1699 300\n"
     ]
    }
   ],
   "source": [
    "images_train, images_test, masks_train, masks_test = train_test_split(images, masks,\n",
    "                                                                      train_size=train_size,\n",
    "                                                                      random_state = seed,\n",
    "                                                                      shuffle = shuffle)\n",
    "print(len(images_train),len(images_test))"
   ]
  },
  {
   "cell_type": "code",
   "execution_count": 19,
   "metadata": {},
   "outputs": [],
   "source": [
    "# can't make it to not random \n",
    "#train_set, val_set = random_split(dataset, [train_size, test_size], generator=torch.Generator().manual_seed(0))"
   ]
  },
  {
   "cell_type": "code",
   "execution_count": 14,
   "metadata": {},
   "outputs": [
    {
     "name": "stdout",
     "output_type": "stream",
     "text": [
      "1970 29\n",
      "1970 29\n"
     ]
    }
   ],
   "source": [
    "def middle_split(images, masks, train_size):\n",
    "    test_images_count = int(len(images)*(1-train_size))\n",
    "    X = Y = math.sqrt(test_images_count)\n",
    "    if type(Y)==float:\n",
    "        X = int(X)\n",
    "        Y = test_images_count // int(Y)\n",
    "\n",
    "    max_x, max_y = os.path.splitext(os.path.basename(images[-1]))[0].split('_')[2:4]\n",
    "    mid_x = int(int(max_x)/2)\n",
    "    mid_y = int(int(max_y)/2)\n",
    "    x_start = mid_x//2 - X//2\n",
    "    y_start = mid_y//2 - Y//2\n",
    "\n",
    "    images_test=[]\n",
    "    masks_test=[]\n",
    "\n",
    "    x_end = x_start+X\n",
    "    y_end = y_start+Y\n",
    "    for x in range(x_start,x_end+1):\n",
    "        for y in range(y_start,y_end+1):\n",
    "            image_name = images[0][:-17]+f'tile_tif_{x}_{y}.png'\n",
    "            mask_name = images[0][:-24]+f'masks/tile_shp_{x}_{y}.png'\n",
    "            if image_name in images:\n",
    "                images.remove(image_name)\n",
    "                images_test.append(image_name)\n",
    "                masks.remove(mask_name)\n",
    "                masks_test.append(mask_name)\n",
    "                \n",
    "    return images, images_test, masks, masks_test\n",
    "    \n",
    "images_train, images_test, masks_train, masks_test = middle_split(images,masks,train_size)\n",
    "\n",
    "print(len(images_train),len(images_test))\n",
    "print(len(masks_train),len(masks_test))\n"
   ]
  },
  {
   "attachments": {},
   "cell_type": "markdown",
   "metadata": {},
   "source": [
    "### get the actual split ratio"
   ]
  },
  {
   "cell_type": "code",
   "execution_count": 6,
   "metadata": {},
   "outputs": [
    {
     "name": "stdout",
     "output_type": "stream",
     "text": [
      "1799 200 0.8999499749874937\n"
     ]
    }
   ],
   "source": [
    "train_size, test_size, actual_get_size = get_size(dataset,train_size)\n",
    "print(train_size, test_size, actual_get_size)"
   ]
  },
  {
   "attachments": {},
   "cell_type": "markdown",
   "metadata": {},
   "source": [
    "### create folders"
   ]
  },
  {
   "cell_type": "code",
   "execution_count": 15,
   "metadata": {},
   "outputs": [],
   "source": [
    "train_folder = '../data/2024-04-21-dataset/standard/train'\n",
    "test_folder = '../data/2024-04-21-dataset/standard/test'\n",
    "\n",
    "train_images_folder = os.path.join(train_folder,'images')\n",
    "train_masks_folder = os.path.join(train_folder,'masks')\n",
    "test_images_folder = os.path.join(test_folder,'images')\n",
    "test_masks_folder = os.path.join(test_folder,'masks')"
   ]
  },
  {
   "cell_type": "code",
   "execution_count": 16,
   "metadata": {},
   "outputs": [],
   "source": [
    "os.makedirs(train_images_folder, exist_ok=True)\n",
    "os.makedirs(train_masks_folder, exist_ok=True)\n",
    "os.makedirs(test_images_folder, exist_ok=True)\n",
    "os.makedirs(test_masks_folder, exist_ok=True)"
   ]
  },
  {
   "attachments": {},
   "cell_type": "markdown",
   "metadata": {},
   "source": [
    "### copy files"
   ]
  },
  {
   "cell_type": "code",
   "execution_count": 17,
   "metadata": {},
   "outputs": [],
   "source": [
    "for path in images_train:\n",
    "    shutil.copy(path,train_images_folder)\n",
    "for path in masks_train:\n",
    "    shutil.copy(path,train_masks_folder)\n",
    "for path in images_test:\n",
    "    shutil.copy(path,test_images_folder)\n",
    "for path in masks_test:\n",
    "    shutil.copy(path,test_masks_folder)"
   ]
  },
  {
   "cell_type": "code",
   "execution_count": null,
   "metadata": {},
   "outputs": [],
   "source": []
  }
 ],
 "metadata": {
  "kernelspec": {
   "display_name": "Python 3 (ipykernel)",
   "language": "python",
   "name": "python3"
  },
  "language_info": {
   "codemirror_mode": {
    "name": "ipython",
    "version": 3
   },
   "file_extension": ".py",
   "mimetype": "text/x-python",
   "name": "python",
   "nbconvert_exporter": "python",
   "pygments_lexer": "ipython3",
   "version": "3.12.2"
  }
 },
 "nbformat": 4,
 "nbformat_minor": 4
}
