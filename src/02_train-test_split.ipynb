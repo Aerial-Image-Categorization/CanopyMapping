{
 "cells": [
  {
   "cell_type": "code",
   "execution_count": 32,
   "metadata": {},
   "outputs": [],
   "source": [
    "import sys\n",
    "sys.path.append('../')\n",
    "import os\n",
    "from utils.datasets import ImageNameDataset, get_size\n",
    "from torch.utils.data import random_split\n",
    "import torch\n",
    "from torch.utils.data import DataLoader\n",
    "\n",
    "from sklearn.model_selection import train_test_split\n",
    "\n",
    "import shutil"
   ]
  },
  {
   "cell_type": "code",
   "execution_count": null,
   "metadata": {},
   "outputs": [],
   "source": [
    "# ImageFolder dataset alternative\n",
    "#from torchvision.datasets import ImageFolder\n",
    "#from torchvision.transforms import Compose, ToTensor, Resize\n",
    "#from torch.utils.data import Subset\n",
    "\n",
    "#dataset = ImageFolder('C:\\Datasets\\lcms-dataset', transform=Compose([Resize((224,224)),ToTensor()]))\n",
    "#def train_val_dataset(dataset, val_split=0.25):\n",
    "#    train_idx, val_idx = train_test_split(list(range(len(dataset))), test_size=val_split)\n",
    "#    datasets = {}\n",
    "#    datasets['train'] = Subset(dataset, train_idx)\n",
    "#    datasets['val'] = Subset(dataset, val_idx)\n",
    "#    return datasets"
   ]
  },
  {
   "attachments": {},
   "cell_type": "markdown",
   "metadata": {},
   "source": [
    "### set params."
   ]
  },
  {
   "cell_type": "code",
   "execution_count": 29,
   "metadata": {},
   "outputs": [],
   "source": [
    "dataset_folder = '../data/2024-03-16_dataset/standard/formatted'\n",
    "train_size = 0.85\n",
    "seed = 42\n",
    "batch_size = 1\n",
    "shuffle = False\n",
    "\n",
    "dataset = ImageNameDataset(dataset_folder, sort = True)"
   ]
  },
  {
   "attachments": {},
   "cell_type": "markdown",
   "metadata": {},
   "source": [
    "### casual (scikit-learn) train-test-split"
   ]
  },
  {
   "cell_type": "code",
   "execution_count": 30,
   "metadata": {},
   "outputs": [
    {
     "name": "stdout",
     "output_type": "stream",
     "text": [
      "244 44\n"
     ]
    }
   ],
   "source": [
    "images = [sample['image'] for sample in dataset]\n",
    "masks = [sample['mask'] for sample in dataset]\n",
    "\n",
    "images_train, images_test, masks_train, masks_test = train_test_split(images, masks,\n",
    "                                                                      train_size=train_size,\n",
    "                                                                      random_state = seed,\n",
    "                                                                      shuffle = shuffle)\n",
    "print(len(images_train),len(images_test))"
   ]
  },
  {
   "cell_type": "code",
   "execution_count": 22,
   "metadata": {},
   "outputs": [],
   "source": [
    "# can't make it to not split \n",
    "#train_set, val_set = random_split(dataset, [train_size, test_size], generator=torch.Generator().manual_seed(0))"
   ]
  },
  {
   "attachments": {},
   "cell_type": "markdown",
   "metadata": {},
   "source": [
    "### get the actual split ratio"
   ]
  },
  {
   "cell_type": "code",
   "execution_count": 31,
   "metadata": {},
   "outputs": [
    {
     "name": "stdout",
     "output_type": "stream",
     "text": [
      "245 43 0.8506944444444444\n"
     ]
    }
   ],
   "source": [
    "train_size, test_size, actual_get_size = get_size(dataset,train_size)\n",
    "print(train_size, test_size, actual_get_size)"
   ]
  },
  {
   "attachments": {},
   "cell_type": "markdown",
   "metadata": {},
   "source": [
    "### create folders"
   ]
  },
  {
   "cell_type": "code",
   "execution_count": 37,
   "metadata": {},
   "outputs": [],
   "source": [
    "train_folder = '../data/2024-03-16_dataset/standard/train'\n",
    "test_folder = '../data/2024-03-16_dataset/standard/test'\n",
    "\n",
    "train_images_folder = '../data/2024-03-16_dataset/standard/train/images'\n",
    "train_masks_folder = '../data/2024-03-16_dataset/standard/train/masks'\n",
    "test_images_folder = '../data/2024-03-16_dataset/standard/test/images'\n",
    "test_masks_folder = '../data/2024-03-16_dataset/standard/test/masks'"
   ]
  },
  {
   "cell_type": "code",
   "execution_count": 38,
   "metadata": {},
   "outputs": [],
   "source": [
    "if not os.path.exists(train_folder):\n",
    "    os.mkdir(train_folder)\n",
    "    if not os.path.exists(train_images_folder):\n",
    "        os.mkdir(train_images_folder)\n",
    "    if not os.path.exists(train_masks_folder):\n",
    "        os.mkdir(train_masks_folder)\n",
    "if not os.path.exists(test_folder):\n",
    "    os.mkdir(test_folder)\n",
    "    if not os.path.exists(test_images_folder):\n",
    "        os.mkdir(test_images_folder)\n",
    "    if not os.path.exists(test_masks_folder):\n",
    "        os.mkdir(test_masks_folder)"
   ]
  },
  {
   "attachments": {},
   "cell_type": "markdown",
   "metadata": {},
   "source": [
    "### copy files"
   ]
  },
  {
   "cell_type": "code",
   "execution_count": 39,
   "metadata": {},
   "outputs": [],
   "source": [
    "for path in images_train:\n",
    "    shutil.copy(path,train_images_folder)\n",
    "for path in masks_train:\n",
    "    shutil.copy(path,train_masks_folder)\n",
    "for path in images_test:\n",
    "    shutil.copy(path,test_images_folder)\n",
    "for path in masks_test:\n",
    "    shutil.copy(path,test_masks_folder)"
   ]
  }
 ],
 "metadata": {
  "kernelspec": {
   "display_name": "canopysegmentation",
   "language": "python",
   "name": "python3"
  },
  "language_info": {
   "codemirror_mode": {
    "name": "ipython",
    "version": 3
   },
   "file_extension": ".py",
   "mimetype": "text/x-python",
   "name": "python",
   "nbconvert_exporter": "python",
   "pygments_lexer": "ipython3",
   "version": "3.9.6"
  },
  "orig_nbformat": 4
 },
 "nbformat": 4,
 "nbformat_minor": 2
}
