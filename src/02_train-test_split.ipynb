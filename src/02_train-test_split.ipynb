{
 "cells": [
  {
   "cell_type": "code",
   "execution_count": 10,
   "metadata": {},
   "outputs": [],
   "source": [
    "from torch.utils.data import Dataset, DataLoader\n",
    "from PIL import Image\n",
    "import os"
   ]
  },
  {
   "cell_type": "code",
   "execution_count": 11,
   "metadata": {},
   "outputs": [],
   "source": [
    "dataset_path= '../data/tiles/formatted'"
   ]
  },
  {
   "cell_type": "code",
   "execution_count": 6,
   "metadata": {},
   "outputs": [],
   "source": [
    "class ImageDataset(Dataset):\n",
    "    def __init__(self, dataset_path) -> None:\n",
    "        files = os.listdir(dataset_path)\n",
    "        self.images_path = []\n",
    "        self.masks_path = []\n",
    "        for file in files:\n",
    "            if file.split('_')[1]=='tif':\n",
    "                self.images_path.append(os.path.join(dataset_path,file))\n",
    "                self.masks_path.append(os.path.join(dataset_path,file.replace('tif','shp')))\n",
    "                \n",
    "    def __len__(self):\n",
    "        return len(self.images_path)\n",
    "    \n",
    "    def __getitem__(self, idx):\n",
    "        return {\n",
    "            'image': self.images_path[idx],\n",
    "            'mask': self.masks_path[idx]\n",
    "        }"
   ]
  },
  {
   "cell_type": "code",
   "execution_count": 12,
   "metadata": {},
   "outputs": [
    {
     "name": "stdout",
     "output_type": "stream",
     "text": [
      "{'image': ['../data/tiles/formatted/tile_tif_0_2.png'], 'mask': ['../data/tiles/formatted/tile_shp_0_2.png']}\n",
      "{'image': ['../data/tiles/formatted/tile_tif_2_0.png'], 'mask': ['../data/tiles/formatted/tile_shp_2_0.png']}\n",
      "{'image': ['../data/tiles/formatted/tile_tif_2_1.png'], 'mask': ['../data/tiles/formatted/tile_shp_2_1.png']}\n",
      "{'image': ['../data/tiles/formatted/tile_tif_0_3.png'], 'mask': ['../data/tiles/formatted/tile_shp_0_3.png']}\n",
      "{'image': ['../data/tiles/formatted/tile_tif_0_1.png'], 'mask': ['../data/tiles/formatted/tile_shp_0_1.png']}\n",
      "{'image': ['../data/tiles/formatted/tile_tif_2_3.png'], 'mask': ['../data/tiles/formatted/tile_shp_2_3.png']}\n",
      "{'image': ['../data/tiles/formatted/tile_tif_2_2.png'], 'mask': ['../data/tiles/formatted/tile_shp_2_2.png']}\n",
      "{'image': ['../data/tiles/formatted/tile_tif_0_0.png'], 'mask': ['../data/tiles/formatted/tile_shp_0_0.png']}\n",
      "{'image': ['../data/tiles/formatted/tile_tif_0_4.png'], 'mask': ['../data/tiles/formatted/tile_shp_0_4.png']}\n",
      "{'image': ['../data/tiles/formatted/tile_tif_2_4.png'], 'mask': ['../data/tiles/formatted/tile_shp_2_4.png']}\n",
      "{'image': ['../data/tiles/formatted/tile_tif_1_1.png'], 'mask': ['../data/tiles/formatted/tile_shp_1_1.png']}\n",
      "{'image': ['../data/tiles/formatted/tile_tif_1_0.png'], 'mask': ['../data/tiles/formatted/tile_shp_1_0.png']}\n",
      "{'image': ['../data/tiles/formatted/tile_tif_1_2.png'], 'mask': ['../data/tiles/formatted/tile_shp_1_2.png']}\n",
      "{'image': ['../data/tiles/formatted/tile_tif_1_3.png'], 'mask': ['../data/tiles/formatted/tile_shp_1_3.png']}\n",
      "{'image': ['../data/tiles/formatted/tile_tif_1_4.png'], 'mask': ['../data/tiles/formatted/tile_shp_1_4.png']}\n"
     ]
    }
   ],
   "source": [
    "dataset = ImageDataset(dataset_path)\n",
    "data_loader = DataLoader(dataset, batch_size=1)\n",
    "\n",
    "for batch in data_loader:\n",
    "    print(batch)"
   ]
  }
 ],
 "metadata": {
  "kernelspec": {
   "display_name": "canopysegmentation",
   "language": "python",
   "name": "python3"
  },
  "language_info": {
   "codemirror_mode": {
    "name": "ipython",
    "version": 3
   },
   "file_extension": ".py",
   "mimetype": "text/x-python",
   "name": "python",
   "nbconvert_exporter": "python",
   "pygments_lexer": "ipython3",
   "version": "3.9.6"
  },
  "orig_nbformat": 4
 },
 "nbformat": 4,
 "nbformat_minor": 2
}
