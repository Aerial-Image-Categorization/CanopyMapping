{
 "cells": [
  {
   "cell_type": "code",
   "execution_count": 1,
   "id": "0396bde3-84b9-4544-bfd6-c270ea66e15a",
   "metadata": {},
   "outputs": [],
   "source": [
    "import os\n",
    "import logging\n",
    "import geopandas as gpd\n",
    "from osgeo import gdal\n",
    "from shapely.geometry import box, Point, MultiPoint\n",
    "from tqdm import tqdm"
   ]
  },
  {
   "attachments": {},
   "cell_type": "markdown",
   "id": "0f31ae24",
   "metadata": {},
   "source": [
    "## _parameters_"
   ]
  },
  {
   "cell_type": "code",
   "execution_count": 25,
   "id": "652f6624",
   "metadata": {},
   "outputs": [],
   "source": [
    "tif_path = '../data/raw/2023-02-23_Bakonyszucs_actual.tif'\n",
    "points_shp_path = '../data/raw/Fa_pontok.shp'\n",
    "poly_shp_path = '../data/raw/Lombkorona.shp'\n",
    "\n",
    "\n",
    "dataset_folder = 'SEG_SPLIT_TEST_new'\n",
    "tile_size=(1024, 1024)\n"
   ]
  },
  {
   "attachments": {},
   "cell_type": "markdown",
   "id": "dd8c4863",
   "metadata": {},
   "source": [
    "# special split"
   ]
  },
  {
   "cell_type": "code",
   "execution_count": 33,
   "id": "9400b4ee-ba65-442d-8fbc-e21317540d1e",
   "metadata": {},
   "outputs": [],
   "source": [
    "# OLD split sol.\n",
    "def split_SEG(tif_path, points_shp_path, poly_shp_path, output_folder, tile_size=(200, 200)):\n",
    "    \"\"\"\n",
    "    Split .shp & .tif files using points from a point shapefile to center each split tile (200x200).\n",
    "    The function cuts both TIF and polygon shapefile over the same areas centered around the points.\n",
    "    \"\"\"\n",
    "    tifs_path_folder = os.path.join(output_folder, 'tifs')\n",
    "    os.makedirs(tifs_path_folder, exist_ok=True)\n",
    "    points_gdf = gpd.read_file(points_shp_path)\n",
    "    tif_dataset = gdal.Open(tif_path)\n",
    "    tif_transform = tif_dataset.GetGeoTransform()\n",
    "    pixel_width = tif_transform[1]\n",
    "    pixel_height = abs(tif_transform[5])\n",
    "\n",
    "    out_dict = {}\n",
    "    \n",
    "    if poly_shp_path:\n",
    "        shps_path_folder = os.path.join(output_folder, 'shps')\n",
    "        os.makedirs(shps_path_folder, exist_ok=True)\n",
    "        logging.info(f'⚙️ TIF and SHP splitting started.')\n",
    "    else:\n",
    "        logging.info(f'⚙️ TIF splitting started.')\n",
    "        \n",
    "    for idx, point in tqdm(points_gdf.iterrows(), total=points_gdf.shape[0], desc=\"Processing trees\"):\n",
    "        if isinstance(point.geometry, Point):\n",
    "            process_seg_tile(idx, None, point.geometry.x, point.geometry.y, tif_dataset, tif_transform, poly_shp_path, tifs_path_folder, shps_path_folder, tile_size, pixel_width, pixel_height)\n",
    "            out_dict[idx] = point.geometry.x, point.geometry.y\n",
    "        elif isinstance(point.geometry, MultiPoint):\n",
    "            for sub_idx, sub_point in enumerate(point.geometry.geoms):\n",
    "                out_dict[idx] = sub_point.x, sub_point.y\n",
    "                process_seg_tile(idx, sub_idx, sub_point.x, sub_point.y, tif_dataset, tif_transform, poly_shp_path, tifs_path_folder, shps_path_folder, tile_size, pixel_width, pixel_height)\n",
    "        else:\n",
    "            logging.warning(f'Unsupported geometry type {type(point.geometry)} at index {idx}')\n",
    "            continue\n",
    "\n",
    "    if poly_shp_path:\n",
    "        logging.info(f'✅ TIF and SHP splitting ended.')\n",
    "    else:\n",
    "        logging.info(f'✅ TIF splitting ended.')\n",
    "\n",
    "    return out_dict\n",
    "\n",
    "def process_seg_tile(idx, sub_idx, center_x, center_y, tif_dataset, tif_transform, poly_shp_path, tifs_path_folder, shps_path_folder, tile_size, pixel_width, pixel_height):\n",
    "    \"\"\"\n",
    "    Helper function to process a single tile around a point.\n",
    "    \"\"\"\n",
    "\n",
    "    half_width = (tile_size[0] // 2) * pixel_width\n",
    "    half_height = (tile_size[1] // 2) * pixel_height\n",
    "\n",
    "    minx, miny = center_x - half_width, center_y - half_height\n",
    "    maxx, maxy = center_x + half_width, center_y + half_height\n",
    "\n",
    "    tile_bbox = box(minx, miny, maxx, maxy)\n",
    "\n",
    "    offset_x = int((minx - tif_transform[0]) / pixel_width)\n",
    "    offset_y = int((tif_transform[3] - maxy) / pixel_height)\n",
    "\n",
    "    \n",
    "    \n",
    "    if poly_shp_path:\n",
    "        tile_gdf = gpd.read_file(poly_shp_path, mask=tile_bbox)\n",
    "        if not tile_gdf.empty:\n",
    "            if sub_idx is not None and sub_idx != 0:\n",
    "                tile_shp_path = os.path.join(shps_path_folder, f\"tile_{idx}_{sub_idx}.shp\")\n",
    "            else:\n",
    "                tile_shp_path = os.path.join(shps_path_folder, f\"tile_{idx}.shp\")\n",
    "            tile_gdf.to_file(tile_shp_path)\n",
    "            logging.info(f'Saved tile shapefile for point {idx} (sub-point {sub_idx}) at {tile_shp_path}')\n",
    "\n",
    "            if sub_idx is not None and sub_idx != 0:\n",
    "                tif_output_path = os.path.join(tifs_path_folder, f\"tile_{idx}_{sub_idx}.tif\")\n",
    "            else:\n",
    "                tif_output_path = os.path.join(tifs_path_folder, f\"tile_{idx}.tif\")\n",
    "            \n",
    "            gdal.Translate(\n",
    "                tif_output_path,\n",
    "                tif_dataset,\n",
    "                srcWin=[offset_x, offset_y, tile_size[0], tile_size[1]]\n",
    "            )\n",
    "            logging.info(f'Saved tile TIF for point {idx} (sub-point {sub_idx})')\n",
    "        #else:\n",
    "            #logging.info(f'TIF tile is not saved')\n",
    "    else:\n",
    "        if sub_idx is not None and sub_idx != 0:\n",
    "            tif_output_path = os.path.join(tifs_path_folder, f\"tile_{idx}_{sub_idx}.tif\")\n",
    "        else:\n",
    "            tif_output_path = os.path.join(tifs_path_folder, f\"tile_{idx}.tif\")\n",
    "        \n",
    "        gdal.Translate(\n",
    "            tif_output_path,\n",
    "            tif_dataset,\n",
    "            srcWin=[offset_x, offset_y, tile_size[0], tile_size[1]]\n",
    "        )\n",
    "        logging.info(f'Saved tile TIF for point {idx} (sub-point {sub_idx})')\n",
    "    \n"
   ]
  },
  {
   "cell_type": "code",
   "execution_count": 3,
   "id": "96190395",
   "metadata": {},
   "outputs": [],
   "source": [
    "# NEW split sol.\n",
    "\n",
    "import os\n",
    "import logging\n",
    "from shapely.geometry import Point, MultiPoint, box\n",
    "import geopandas as gpd\n",
    "from osgeo import gdal\n",
    "from tqdm import tqdm\n",
    "\n",
    "from utils.imageprocessing import split_SEG\n",
    "from utils.datasetvalidation import set_valid_CRS"
   ]
  },
  {
   "cell_type": "code",
   "execution_count": 26,
   "id": "606c16af-c82a-4e69-acf6-fab56fec9d8d",
   "metadata": {
    "scrolled": true
   },
   "outputs": [
    {
     "name": "stderr",
     "output_type": "stream",
     "text": [
      "Processing trees:  40%|███▉      | 1098/2760 [00:48<01:10, 23.44it/s]/home/ubuntu/miniconda3/envs/canopyseg/lib/python3.9/site-packages/shapely/measurement.py:74: RuntimeWarning: invalid value encountered in distance\n",
      "  return lib.distance(a, b, **kwargs)\n",
      "Processing trees:  41%|████      | 1126/2760 [00:50<01:24, 19.45it/s]/home/ubuntu/miniconda3/envs/canopyseg/lib/python3.9/site-packages/shapely/measurement.py:74: RuntimeWarning: invalid value encountered in distance\n",
      "  return lib.distance(a, b, **kwargs)\n",
      "Processing trees:  41%|████▏     | 1143/2760 [00:51<01:20, 20.16it/s]/home/ubuntu/miniconda3/envs/canopyseg/lib/python3.9/site-packages/shapely/measurement.py:74: RuntimeWarning: invalid value encountered in distance\n",
      "  return lib.distance(a, b, **kwargs)\n",
      "Processing trees:  43%|████▎     | 1175/2760 [00:52<01:25, 18.58it/s]/home/ubuntu/miniconda3/envs/canopyseg/lib/python3.9/site-packages/shapely/measurement.py:74: RuntimeWarning: invalid value encountered in distance\n",
      "  return lib.distance(a, b, **kwargs)\n",
      "Processing trees:  44%|████▎     | 1204/2760 [00:54<01:30, 17.11it/s]/home/ubuntu/miniconda3/envs/canopyseg/lib/python3.9/site-packages/shapely/measurement.py:74: RuntimeWarning: invalid value encountered in distance\n",
      "  return lib.distance(a, b, **kwargs)\n",
      "Processing trees:  44%|████▍     | 1214/2760 [00:55<02:07, 12.10it/s]/home/ubuntu/miniconda3/envs/canopyseg/lib/python3.9/site-packages/shapely/measurement.py:74: RuntimeWarning: invalid value encountered in distance\n",
      "  return lib.distance(a, b, **kwargs)\n",
      "Processing trees:  45%|████▍     | 1230/2760 [00:56<01:27, 17.49it/s]/home/ubuntu/miniconda3/envs/canopyseg/lib/python3.9/site-packages/shapely/measurement.py:74: RuntimeWarning: invalid value encountered in distance\n",
      "  return lib.distance(a, b, **kwargs)\n",
      "Processing trees:  45%|████▍     | 1241/2760 [00:56<01:19, 19.19it/s]/home/ubuntu/miniconda3/envs/canopyseg/lib/python3.9/site-packages/shapely/measurement.py:74: RuntimeWarning: invalid value encountered in distance\n",
      "  return lib.distance(a, b, **kwargs)\n",
      "Processing trees:  46%|████▌     | 1261/2760 [00:57<01:27, 17.06it/s]/home/ubuntu/miniconda3/envs/canopyseg/lib/python3.9/site-packages/shapely/measurement.py:74: RuntimeWarning: invalid value encountered in distance\n",
      "  return lib.distance(a, b, **kwargs)\n",
      "Processing trees:  46%|████▌     | 1263/2760 [00:57<01:28, 16.90it/s]/home/ubuntu/miniconda3/envs/canopyseg/lib/python3.9/site-packages/shapely/measurement.py:74: RuntimeWarning: invalid value encountered in distance\n",
      "  return lib.distance(a, b, **kwargs)\n",
      "Processing trees:  46%|████▌     | 1273/2760 [00:58<01:14, 19.85it/s]/home/ubuntu/miniconda3/envs/canopyseg/lib/python3.9/site-packages/shapely/measurement.py:74: RuntimeWarning: invalid value encountered in distance\n",
      "  return lib.distance(a, b, **kwargs)\n",
      "Processing trees:  46%|████▋     | 1283/2760 [00:59<01:23, 17.65it/s]/home/ubuntu/miniconda3/envs/canopyseg/lib/python3.9/site-packages/shapely/measurement.py:74: RuntimeWarning: invalid value encountered in distance\n",
      "  return lib.distance(a, b, **kwargs)\n",
      "Processing trees:  47%|████▋     | 1291/2760 [00:59<01:27, 16.72it/s]/home/ubuntu/miniconda3/envs/canopyseg/lib/python3.9/site-packages/shapely/measurement.py:74: RuntimeWarning: invalid value encountered in distance\n",
      "  return lib.distance(a, b, **kwargs)\n",
      "Processing trees:  47%|████▋     | 1301/2760 [01:00<01:27, 16.75it/s]/home/ubuntu/miniconda3/envs/canopyseg/lib/python3.9/site-packages/shapely/measurement.py:74: RuntimeWarning: invalid value encountered in distance\n",
      "  return lib.distance(a, b, **kwargs)\n",
      "Processing trees:  48%|████▊     | 1314/2760 [01:00<01:22, 17.56it/s]/home/ubuntu/miniconda3/envs/canopyseg/lib/python3.9/site-packages/shapely/measurement.py:74: RuntimeWarning: invalid value encountered in distance\n",
      "  return lib.distance(a, b, **kwargs)\n",
      "Processing trees:  48%|████▊     | 1316/2760 [01:00<01:23, 17.35it/s]/home/ubuntu/miniconda3/envs/canopyseg/lib/python3.9/site-packages/shapely/measurement.py:74: RuntimeWarning: invalid value encountered in distance\n",
      "  return lib.distance(a, b, **kwargs)\n",
      "Processing trees:  48%|████▊     | 1322/2760 [01:01<01:25, 16.87it/s]/home/ubuntu/miniconda3/envs/canopyseg/lib/python3.9/site-packages/shapely/measurement.py:74: RuntimeWarning: invalid value encountered in distance\n",
      "  return lib.distance(a, b, **kwargs)\n",
      "Processing trees:  49%|████▉     | 1356/2760 [01:03<01:14, 18.75it/s]/home/ubuntu/miniconda3/envs/canopyseg/lib/python3.9/site-packages/shapely/measurement.py:74: RuntimeWarning: invalid value encountered in distance\n",
      "  return lib.distance(a, b, **kwargs)\n",
      "Processing trees:  49%|████▉     | 1360/2760 [01:03<01:18, 17.75it/s]/home/ubuntu/miniconda3/envs/canopyseg/lib/python3.9/site-packages/shapely/measurement.py:74: RuntimeWarning: invalid value encountered in distance\n",
      "  return lib.distance(a, b, **kwargs)\n",
      "Processing trees:  49%|████▉     | 1362/2760 [01:03<01:20, 17.47it/s]/home/ubuntu/miniconda3/envs/canopyseg/lib/python3.9/site-packages/shapely/measurement.py:74: RuntimeWarning: invalid value encountered in distance\n",
      "  return lib.distance(a, b, **kwargs)\n",
      "Processing trees:  50%|█████     | 1384/2760 [01:04<00:56, 24.27it/s]/home/ubuntu/miniconda3/envs/canopyseg/lib/python3.9/site-packages/shapely/measurement.py:74: RuntimeWarning: invalid value encountered in distance\n",
      "  return lib.distance(a, b, **kwargs)\n",
      "Processing trees:  50%|█████     | 1387/2760 [01:04<01:04, 21.38it/s]/home/ubuntu/miniconda3/envs/canopyseg/lib/python3.9/site-packages/shapely/measurement.py:74: RuntimeWarning: invalid value encountered in distance\n",
      "  return lib.distance(a, b, **kwargs)\n",
      "Processing trees: 100%|██████████| 2760/2760 [02:10<00:00, 21.15it/s]\n"
     ]
    }
   ],
   "source": [
    "points = split_SEG(\n",
    "    tif_path = tif_path,\n",
    "    points_shp_path = points_shp_path,\n",
    "    poly_shp_path = poly_shp_path,\n",
    "    output_folder = os.path.join(dataset_folder,'all','original'),\n",
    "    tile_size=tile_size\n",
    ")"
   ]
  },
  {
   "cell_type": "code",
   "execution_count": 11,
   "id": "bf3d3f71-021e-4079-9f75-1dde3d8b38b1",
   "metadata": {},
   "outputs": [],
   "source": [
    "#CHECK tiles count\n",
    "\n",
    "assert len([filename for filename in os.listdir('SEG_SPLIT_TEST/tifs') if filename.endswith('tif')]) == len([filename for filename in os.listdir('SEG_SPLIT_TEST/shps') if filename.endswith('shp')])"
   ]
  },
  {
   "cell_type": "code",
   "execution_count": 9,
   "id": "48a10e52-1adb-48c2-9749-bfbb30bb3fc8",
   "metadata": {},
   "outputs": [
    {
     "data": {
      "text/plain": [
       "True"
      ]
     },
     "execution_count": 9,
     "metadata": {},
     "output_type": "execute_result"
    }
   ],
   "source": [
    "#DELETE dir.\n",
    "\n",
    "os.system('sudo rm -r SEG_SPLIT_TEST') == 0"
   ]
  },
  {
   "attachments": {},
   "cell_type": "markdown",
   "id": "6adad57c",
   "metadata": {},
   "source": [
    "# set valid crs"
   ]
  },
  {
   "cell_type": "code",
   "execution_count": 27,
   "id": "49637cd3",
   "metadata": {},
   "outputs": [
    {
     "data": {
      "application/vnd.jupyter.widget-view+json": {
       "model_id": "63e56ce71631458b9d7fe2e1957a1132",
       "version_major": 2,
       "version_minor": 0
      },
      "text/plain": [
       "  0%|          | 0/10370 [00:00<?, ?it/s]"
      ]
     },
     "metadata": {},
     "output_type": "display_data"
    },
    {
     "data": {
      "text/plain": [
       "([], 0.1740436553955078)"
      ]
     },
     "execution_count": 27,
     "metadata": {},
     "output_type": "execute_result"
    }
   ],
   "source": [
    "set_valid_CRS(\n",
    "    os.path.join(dataset_folder,'all','original','shps'),\n",
    "    desired_crs_epsg=23700\n",
    ")"
   ]
  },
  {
   "attachments": {},
   "cell_type": "markdown",
   "id": "e5a50732",
   "metadata": {},
   "source": [
    "# create dataset function"
   ]
  },
  {
   "attachments": {},
   "cell_type": "markdown",
   "id": "dcc370b8",
   "metadata": {},
   "source": [
    "## convert tifs to pngs"
   ]
  },
  {
   "cell_type": "code",
   "execution_count": 19,
   "id": "451a129e",
   "metadata": {},
   "outputs": [
    {
     "data": {
      "application/vnd.jupyter.widget-view+json": {
       "model_id": "290d81784c084ecaa2e83c4efb8c243c",
       "version_major": 2,
       "version_minor": 0
      },
      "text/plain": [
       "converting TIFs to PNGs:   0%|          | 0/2074 [00:00<?, ?it/s]"
      ]
     },
     "metadata": {},
     "output_type": "display_data"
    }
   ],
   "source": [
    "from utils.imageprocessing import convert_TIFtoPNG\n",
    "\n",
    "working_folder_path = 'SEG_SPLIT_TEST'\n",
    "tile_size = (1024,1024)\n",
    "\n",
    "elapsed_time = convert_TIFtoPNG(\n",
    "    os.path.join(working_folder_path,'tifs'),\n",
    "    os.path.join(working_folder_path,'images'), \n",
    "    tile_size=tile_size,\n",
    "    grayscale=False\n",
    ")"
   ]
  },
  {
   "attachments": {},
   "cell_type": "markdown",
   "id": "224d1e73",
   "metadata": {},
   "source": [
    "## convert shps to pngs"
   ]
  },
  {
   "cell_type": "code",
   "execution_count": 20,
   "id": "9b908226",
   "metadata": {},
   "outputs": [],
   "source": [
    "import geopandas as gpd\n",
    "import rasterio\n",
    "from rasterio.warp import transform_bounds\n",
    "from PIL import Image, ImageDraw\n",
    "import os\n",
    "\n",
    "from utils.imageprocessing import convert_SHPtoPNG_SEG"
   ]
  },
  {
   "cell_type": "code",
   "execution_count": 21,
   "id": "978cf15c",
   "metadata": {},
   "outputs": [
    {
     "data": {
      "text/plain": [
       "[[(398, 550),\n",
       "  (440, 419),\n",
       "  (535, 401),\n",
       "  (577, 568),\n",
       "  (662, 620),\n",
       "  (629, 698),\n",
       "  (570, 681),\n",
       "  (414, 702),\n",
       "  (398, 550)]]"
      ]
     },
     "execution_count": 21,
     "metadata": {},
     "output_type": "execute_result"
    }
   ],
   "source": [
    "#test\n",
    "working_folder_path = 'SEG_SPLIT_TEST'\n",
    "tile_num = 1900\n",
    "\n",
    "convert_SHPtoPNG(\n",
    "    tif_path = os.path.join(working_folder_path,'tifs',f'tile_{tile_num}.tif'),\n",
    "    shp_path = os.path.join(working_folder_path,'shps',f'tile_{tile_num}.shp'),\n",
    "    png_path = os.path.join(working_folder_path, f'tile_mask_{tile_num}.png'),\n",
    "    tile_size=(1024, 1024),\n",
    "    bg_color='black',\n",
    "    fg_color='white'\n",
    ")"
   ]
  },
  {
   "attachments": {},
   "cell_type": "markdown",
   "id": "d2c4cb04",
   "metadata": {},
   "source": [
    "## create dataset"
   ]
  },
  {
   "cell_type": "code",
   "execution_count": 30,
   "id": "ffa54fd7",
   "metadata": {},
   "outputs": [],
   "source": [
    "import time\n",
    "import cv2\n",
    "import numpy as np\n",
    "\n",
    "from utils.imageprocessing import createPNG_Dataset_SEG"
   ]
  },
  {
   "cell_type": "code",
   "execution_count": 31,
   "id": "2e1d1eaf",
   "metadata": {},
   "outputs": [
    {
     "name": "stderr",
     "output_type": "stream",
     "text": [
      "Processing tif files: 100%|██████████| 2074/2074 [02:27<00:00, 14.06it/s]\n",
      "Processing shp files: 100%|██████████| 2074/2074 [01:36<00:00, 21.46it/s]\n"
     ]
    }
   ],
   "source": [
    "if createPNG_Dataset_SEG(\n",
    "    os.path.join(dataset_folder,'all','original'),\n",
    "    os.path.join(dataset_folder,'all','formatted'),\n",
    "    tile_size,\n",
    "    grayscale=False\n",
    ") == False:\n",
    "    raise Exception('ERROR: check the logs')"
   ]
  },
  {
   "attachments": {},
   "cell_type": "markdown",
   "id": "a1fc68e6",
   "metadata": {},
   "source": [
    "# merge shps"
   ]
  },
  {
   "cell_type": "code",
   "execution_count": 32,
   "id": "ebe74610",
   "metadata": {},
   "outputs": [],
   "source": [
    "import time\n",
    "import os\n",
    "import time\n",
    "from tqdm import tqdm\n",
    "import rasterio\n",
    "import geopandas as gpd\n",
    "from shapely.geometry import Polygon\n",
    "from PIL import Image\n",
    "from skimage import measure\n",
    "\n",
    "from utils.imageprocessing import create_SHP_SEG\n"
   ]
  },
  {
   "cell_type": "code",
   "execution_count": 33,
   "id": "77a4ff8a",
   "metadata": {},
   "outputs": [
    {
     "name": "stderr",
     "output_type": "stream",
     "text": [
      "Converting MASKs to SHP: 100%|██████████| 2074/2074 [01:18<00:00, 26.53it/s]\n"
     ]
    },
    {
     "data": {
      "text/plain": [
       "(4729, 90.15366291999817)"
      ]
     },
     "execution_count": 33,
     "metadata": {},
     "output_type": "execute_result"
    }
   ],
   "source": [
    "create_SHP_SEG(\n",
    "    os.path.join(dataset_folder,'all','original','tifs'),\n",
    "    os.path.join(dataset_folder,'all','formatted','masks'),\n",
    "    os.path.join(dataset_folder,'result.shp'),\n",
    "    23700   \n",
    ")"
   ]
  }
 ],
 "metadata": {
  "kernelspec": {
   "display_name": "Python 3 (ipykernel)",
   "language": "python",
   "name": "python3"
  },
  "language_info": {
   "codemirror_mode": {
    "name": "ipython",
    "version": 3
   },
   "file_extension": ".py",
   "mimetype": "text/x-python",
   "name": "python",
   "nbconvert_exporter": "python",
   "pygments_lexer": "ipython3",
   "version": "3.9.19"
  }
 },
 "nbformat": 4,
 "nbformat_minor": 5
}
