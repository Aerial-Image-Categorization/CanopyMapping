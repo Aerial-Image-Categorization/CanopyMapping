{
 "cells": [
  {
   "cell_type": "code",
   "execution_count": 3,
   "metadata": {},
   "outputs": [
    {
     "name": "stderr",
     "output_type": "stream",
     "text": [
      "/Users/banoczymartin/OE Projects/Mapping Upper Canopy Level/venvs_can/canopysegmentation/lib/python3.9/site-packages/tqdm/auto.py:21: TqdmWarning: IProgress not found. Please update jupyter and ipywidgets. See https://ipywidgets.readthedocs.io/en/stable/user_install.html\n",
      "  from .autonotebook import tqdm as notebook_tqdm\n"
     ]
    }
   ],
   "source": [
    "import os\n",
    "import re\n",
    "from tqdm.auto import tqdm\n",
    "import time\n",
    "import gc\n",
    "import geopandas as gpd\n",
    "import rasterio\n",
    "from rasterio.crs import CRS\n",
    "from imageprocessing import convert_SHPtoPNG"
   ]
  },
  {
   "cell_type": "code",
   "execution_count": 7,
   "metadata": {},
   "outputs": [
    {
     "name": "stderr",
     "output_type": "stream",
     "text": [
      "100%|██████████| 2700/2700 [00:05<00:00, 451.63it/s]\n"
     ]
    },
    {
     "name": "stdout",
     "output_type": "stream",
     "text": [
      "[('24', '11'), ('0', '16'), ('23', '7'), ('21', '5'), ('0', '17'), ('18', '0'), ('2', '12'), ('24', '10'), ('2', '10'), ('24', '12'), ('0', '15'), ('4', '9'), ('21', '7'), ('10', '17'), ('24', '13'), ('2', '11'), ('0', '8'), ('24', '17'), ('23', '1'), ('0', '10'), ('0', '11'), ('23', '0'), ('24', '16'), ('0', '9'), ('2', '9'), ('24', '14'), ('2', '16'), ('23', '2'), ('21', '0'), ('0', '12'), ('23', '3'), ('18', '5'), ('2', '17'), ('24', '15'), ('2', '8'), ('20', '16'), ('16', '17'), ('19', '2'), ('24', '2'), ('22', '13'), ('4', '11'), ('4', '10'), ('22', '12'), ('24', '3'), ('19', '3'), ('20', '7'), ('20', '17'), ('6', '17'), ('20', '15'), ('24', '1'), ('4', '12'), ('22', '10'), ('22', '11'), ('4', '13'), ('24', '0'), ('20', '14'), ('6', '16'), ('20', '0'), ('8', '17'), ('6', '12'), ('24', '4'), ('3', '9'), ('4', '17'), ('22', '15'), ('22', '14'), ('4', '16'), ('24', '5'), ('3', '8'), ('8', '16'), ('6', '11'), ('18', '17'), ('22', '1'), ('14', '17'), ('1', '8'), ('22', '16'), ('4', '14'), ('4', '15'), ('22', '17'), ('1', '9'), ('22', '0'), ('18', '16'), ('7', '2'), ('11', '17'), ('5', '0'), ('1', '4'), ('3', '11'), ('3', '10'), ('1', '5'), ('7', '3'), ('7', '1'), ('1', '17'), ('1', '7'), ('3', '12'), ('3', '13'), ('1', '6'), ('24', '9'), ('3', '4'), ('1', '16'), ('7', '0'), ('7', '4'), ('3', '0'), ('3', '17'), ('1', '2'), ('1', '3'), ('3', '16'), ('3', '1'), ('1', '11'), ('13', '17'), ('3', '3'), ('1', '1'), ('1', '0'), ('3', '15'), ('1', '10'), ('0', '7'), ('2', '5'), ('5', '13'), ('23', '11'), ('7', '16'), ('21', '14'), ('6', '0'), ('21', '15'), ('7', '17'), ('23', '10'), ('5', '12'), ('2', '4'), ('0', '6'), ('0', '4'), ('2', '6'), ('23', '12'), ('5', '10'), ('4', '0'), ('21', '17'), ('17', '17'), ('21', '16'), ('4', '1'), ('5', '11'), ('23', '13'), ('2', '7'), ('0', '5'), ('0', '1'), ('23', '17'), ('2', '3'), ('4', '5'), ('23', '8'), ('19', '16'), ('19', '17'), ('23', '9'), ('21', '13'), ('2', '2'), ('23', '16'), ('0', '0'), ('0', '2'), ('5', '16'), ('23', '14'), ('2', '0'), ('7', '13'), ('19', '15'), ('9', '17'), ('2', '1'), ('23', '15'), ('5', '17'), ('0', '3')]\n"
     ]
    }
   ],
   "source": [
    "def dropna_SHPs(folder, pattern = r'^tile_shp.*\\.shp$'):\n",
    "    '''\n",
    "    returns: \n",
    "        -   runtime\n",
    "        -   number of removed image-mask pairs\n",
    "    '''\n",
    "    \n",
    "    ad_extensions = ['.cpg','.dbf','.prj','.shx']\n",
    "    \n",
    "    bin_list = []\n",
    "    \n",
    "    filenames = os.listdir(folder)\n",
    "    total_length = len(filenames)\n",
    "    with tqdm(total=total_length) as pbar:\n",
    "        for filename in filenames:\n",
    "            if re.match(pattern, filename):\n",
    "                shapefile = gpd.read_file(os.path.join(folder,filename))\n",
    "                if len(shapefile.geometry)==0:\n",
    "                    splitted = filename.split('.')[0].split('_')\n",
    "                    bin_list.append((splitted[2],splitted[3]))\n",
    "                    os.remove(os.path.join(folder,filename))\n",
    "                    os.remove(os.path.join(folder,filename.replace('shp','tif')))\n",
    "                    for ext in ad_extensions:\n",
    "                        if os.path.exists(os.path.join(folder,filename[:-4]+ext)):\n",
    "                            os.remove(os.path.join(folder,filename[:-4]+ext))\n",
    "            pbar.update(1)\n",
    "            \n",
    "    gc.collect()\n",
    "    return bin_list"
   ]
  },
  {
   "cell_type": "code",
   "execution_count": 6,
   "metadata": {},
   "outputs": [
    {
     "name": "stderr",
     "output_type": "stream",
     "text": [
      "100%|██████████| 2700/2700 [00:01<00:00, 1692.47it/s]\n"
     ]
    }
   ],
   "source": [
    "def set_valid_CRS(folder, pattern = r'^tile_tif.*\\.tif$', desired_crs_epsg=23700):\n",
    "    out_list = []\n",
    "    filenames = os.listdir(folder)\n",
    "    total_length = len(filenames)\n",
    "    with tqdm(total=total_length) as pbar:\n",
    "        for filename in filenames:\n",
    "            if re.match(pattern, filename):\n",
    "                with rasterio.open(os.path.join(folder,filename)) as src:\n",
    "                    if src.crs == None:\n",
    "                        src.crs = CRS.from_epsg(desired_crs_epsg)\n",
    "                        print(f'{filename} set to EPSG:{src.crs}')\n",
    "                        splitted = filename.split('.')[0].split('_')\n",
    "                        out_list.append((splitted[2],splitted[3]))\n",
    "            pbar.update(1)\n",
    "    gc.collect() \n",
    "    return out_list"
   ]
  }
 ],
 "metadata": {
  "kernelspec": {
   "display_name": "canopysegmentation",
   "language": "python",
   "name": "python3"
  },
  "language_info": {
   "codemirror_mode": {
    "name": "ipython",
    "version": 3
   },
   "file_extension": ".py",
   "mimetype": "text/x-python",
   "name": "python",
   "nbconvert_exporter": "python",
   "pygments_lexer": "ipython3",
   "version": "3.9.6"
  },
  "orig_nbformat": 4
 },
 "nbformat": 4,
 "nbformat_minor": 2
}
