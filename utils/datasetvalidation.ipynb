{
 "cells": [
  {
   "cell_type": "code",
   "execution_count": 1,
   "metadata": {},
   "outputs": [
    {
     "name": "stderr",
     "output_type": "stream",
     "text": [
      "/Users/banoczymartin/OE Projects/Mapping Upper Canopy Level/venvs_can/canopysegmentation/lib/python3.9/site-packages/tqdm/auto.py:21: TqdmWarning: IProgress not found. Please update jupyter and ipywidgets. See https://ipywidgets.readthedocs.io/en/stable/user_install.html\n",
      "  from .autonotebook import tqdm as notebook_tqdm\n"
     ]
    }
   ],
   "source": [
    "import os\n",
    "import re\n",
    "from tqdm.auto import tqdm\n",
    "import time\n",
    "import gc\n",
    "import geopandas as gpd\n",
    "import rasterio\n",
    "from rasterio.crs import CRS\n",
    "from imageprocessing import convert_SHPtoPNG"
   ]
  },
  {
   "cell_type": "code",
   "execution_count": 2,
   "metadata": {},
   "outputs": [],
   "source": [
    "folder = '../data/2024-03-16_dataset/standard/original'\n",
    "out_folder = '../data/2024-03-16_dataset/standard/formatted'"
   ]
  },
  {
   "cell_type": "code",
   "execution_count": 13,
   "metadata": {},
   "outputs": [
    {
     "name": "stderr",
     "output_type": "stream",
     "text": [
      "100%|██████████| 5466/5466 [00:09<00:00, 558.68it/s]"
     ]
    },
    {
     "name": "stdout",
     "output_type": "stream",
     "text": [
      "9.837299823760986\n",
      "[]\n"
     ]
    },
    {
     "name": "stderr",
     "output_type": "stream",
     "text": [
      "\n"
     ]
    }
   ],
   "source": [
    "def dropna_SHPs(folder, pattern = r'^tile_shp.*\\.shp$'):\n",
    "    '''\n",
    "    returns: \n",
    "        -   runtime\n",
    "        -   number of removed image-mask pairs\n",
    "    '''\n",
    "    \n",
    "    ad_extensions = ['.cpg','.dbf','.prj','.shx']\n",
    "    \n",
    "    start = time.time()\n",
    "    \n",
    "    bin_list = []\n",
    "    \n",
    "    filenames = os.listdir(folder)\n",
    "    total_length = len(filenames)\n",
    "    with tqdm(total=total_length) as pbar:\n",
    "        for filename in filenames:\n",
    "            if re.match(pattern, filename):\n",
    "                shapefile = gpd.read_file(os.path.join(folder,filename))\n",
    "                if len(shapefile.geometry)==0:\n",
    "                    splitted = filename.split('.')[0].split('_')\n",
    "                    bin_list.append((splitted[2],splitted[3]))\n",
    "                    #bin_list.append((filename.split('.')[0].split('_')[2],filename.split('.')[0].split('_')[3]))\n",
    "                    os.remove(os.path.join(folder,filename))\n",
    "                    os.remove(os.path.join(folder,filename.replace('shp','tif')))\n",
    "                    for ext in ad_extensions:\n",
    "                        if os.path.exists(os.path.join(folder,filename[:-4]+ext)):\n",
    "                            os.remove(os.path.join(folder,filename[:-4]+ext))\n",
    "                            #print()\n",
    "            pbar.update(1)\n",
    "            \n",
    "    end = time.time()\n",
    "    runtime = end-start\n",
    "    gc.collect()\n",
    "    return runtime, bin_list\n",
    "\n",
    "runtime, bin_list = dropna_SHPs(folder)\n",
    "print(runtime)\n",
    "print(bin_list)"
   ]
  },
  {
   "cell_type": "code",
   "execution_count": 175,
   "metadata": {},
   "outputs": [
    {
     "name": "stdout",
     "output_type": "stream",
     "text": [
      "839\n"
     ]
    }
   ],
   "source": [
    "print(len(bin_list))"
   ]
  },
  {
   "cell_type": "code",
   "execution_count": 14,
   "metadata": {},
   "outputs": [
    {
     "data": {
      "text/plain": [
       "False"
      ]
     },
     "execution_count": 14,
     "metadata": {},
     "output_type": "execute_result"
    }
   ],
   "source": [
    "bin_list.__contains__(('12','10'))"
   ]
  },
  {
   "cell_type": "code",
   "execution_count": 7,
   "metadata": {},
   "outputs": [
    {
     "name": "stdout",
     "output_type": "stream",
     "text": [
      "EPSG:23700\n"
     ]
    }
   ],
   "source": [
    "\n",
    "#with rasterio.open('../data/big_wetransfer_2023_02_23-bakonyszucs-ecw_2024-03-10_1733/2023-02-23_Bakonyszucs.tif') as src:\n",
    "with rasterio.open('../data/actual_data_l/2023-02-23_Bakonyszucs_actual.tif','r+') as src:\n",
    "    print(src.crs)\n",
    "    if src.crs == None:\n",
    "        src.crs = CRS.from_epsg(23700)"
   ]
  },
  {
   "cell_type": "code",
   "execution_count": 17,
   "metadata": {},
   "outputs": [
    {
     "name": "stderr",
     "output_type": "stream",
     "text": [
      "100%|██████████| 5466/5466 [00:02<00:00, 1966.99it/s]\n"
     ]
    }
   ],
   "source": [
    "def filter_invalid_CRS(folder,pattern = r'^tile_tif.*\\.tif$'):\n",
    "    out_list = []\n",
    "    filenames = os.listdir(folder)\n",
    "    total_length = len(filenames)\n",
    "    with tqdm(total=total_length) as pbar:\n",
    "        for filename in filenames:\n",
    "            if re.match(pattern, filename):\n",
    "                with rasterio.open(os.path.join(folder,filename)) as src:\n",
    "                    if src.crs == None:\n",
    "                        print(filename)    \n",
    "            pbar.update(1)            \n",
    "filter_invalid_CRS(folder)"
   ]
  },
  {
   "cell_type": "code",
   "execution_count": 15,
   "metadata": {},
   "outputs": [
    {
     "ename": "DriverError",
     "evalue": "'../data/2024-03-16_dataset/standard/original/tile_tif_12_10.tif' not recognized as a supported file format.",
     "output_type": "error",
     "traceback": [
      "\u001b[0;31m---------------------------------------------------------------------------\u001b[0m",
      "\u001b[0;31mCPLE_OpenFailedError\u001b[0m                      Traceback (most recent call last)",
      "File \u001b[0;32mfiona/ogrext.pyx:136\u001b[0m, in \u001b[0;36mfiona.ogrext.gdal_open_vector\u001b[0;34m()\u001b[0m\n",
      "File \u001b[0;32mfiona/_err.pyx:291\u001b[0m, in \u001b[0;36mfiona._err.exc_wrap_pointer\u001b[0;34m()\u001b[0m\n",
      "\u001b[0;31mCPLE_OpenFailedError\u001b[0m: '../data/2024-03-16_dataset/standard/original/tile_tif_12_10.tif' not recognized as a supported file format.",
      "\nDuring handling of the above exception, another exception occurred:\n",
      "\u001b[0;31mDriverError\u001b[0m                               Traceback (most recent call last)",
      "Cell \u001b[0;32mIn[15], line 1\u001b[0m\n\u001b[0;32m----> 1\u001b[0m gpd\u001b[39m.\u001b[39;49mread_file(\u001b[39m'\u001b[39;49m\u001b[39m../data/2024-03-16_dataset/standard/original/tile_tif_12_10.tif\u001b[39;49m\u001b[39m'\u001b[39;49m)\u001b[39m.\u001b[39mcrs\n",
      "File \u001b[0;32m~/OE Projects/Mapping Upper Canopy Level/venvs_can/canopysegmentation/lib/python3.9/site-packages/geopandas/io/file.py:297\u001b[0m, in \u001b[0;36m_read_file\u001b[0;34m(filename, bbox, mask, rows, engine, **kwargs)\u001b[0m\n\u001b[1;32m    294\u001b[0m     \u001b[39melse\u001b[39;00m:\n\u001b[1;32m    295\u001b[0m         path_or_bytes \u001b[39m=\u001b[39m filename\n\u001b[0;32m--> 297\u001b[0m     \u001b[39mreturn\u001b[39;00m _read_file_fiona(\n\u001b[1;32m    298\u001b[0m         path_or_bytes, from_bytes, bbox\u001b[39m=\u001b[39;49mbbox, mask\u001b[39m=\u001b[39;49mmask, rows\u001b[39m=\u001b[39;49mrows, \u001b[39m*\u001b[39;49m\u001b[39m*\u001b[39;49mkwargs\n\u001b[1;32m    299\u001b[0m     )\n\u001b[1;32m    301\u001b[0m \u001b[39melse\u001b[39;00m:\n\u001b[1;32m    302\u001b[0m     \u001b[39mraise\u001b[39;00m \u001b[39mValueError\u001b[39;00m(\u001b[39mf\u001b[39m\u001b[39m\"\u001b[39m\u001b[39munknown engine \u001b[39m\u001b[39m'\u001b[39m\u001b[39m{\u001b[39;00mengine\u001b[39m}\u001b[39;00m\u001b[39m'\u001b[39m\u001b[39m\"\u001b[39m)\n",
      "File \u001b[0;32m~/OE Projects/Mapping Upper Canopy Level/venvs_can/canopysegmentation/lib/python3.9/site-packages/geopandas/io/file.py:338\u001b[0m, in \u001b[0;36m_read_file_fiona\u001b[0;34m(path_or_bytes, from_bytes, bbox, mask, rows, where, **kwargs)\u001b[0m\n\u001b[1;32m    335\u001b[0m     reader \u001b[39m=\u001b[39m fiona\u001b[39m.\u001b[39mopen\n\u001b[1;32m    337\u001b[0m \u001b[39mwith\u001b[39;00m fiona_env():\n\u001b[0;32m--> 338\u001b[0m     \u001b[39mwith\u001b[39;00m reader(path_or_bytes, \u001b[39m*\u001b[39;49m\u001b[39m*\u001b[39;49mkwargs) \u001b[39mas\u001b[39;00m features:\n\u001b[1;32m    339\u001b[0m         crs \u001b[39m=\u001b[39m features\u001b[39m.\u001b[39mcrs_wkt\n\u001b[1;32m    340\u001b[0m         \u001b[39m# attempt to get EPSG code\u001b[39;00m\n",
      "File \u001b[0;32m~/OE Projects/Mapping Upper Canopy Level/venvs_can/canopysegmentation/lib/python3.9/site-packages/fiona/env.py:457\u001b[0m, in \u001b[0;36mensure_env_with_credentials.<locals>.wrapper\u001b[0;34m(*args, **kwds)\u001b[0m\n\u001b[1;32m    454\u001b[0m     session \u001b[39m=\u001b[39m DummySession()\n\u001b[1;32m    456\u001b[0m \u001b[39mwith\u001b[39;00m env_ctor(session\u001b[39m=\u001b[39msession):\n\u001b[0;32m--> 457\u001b[0m     \u001b[39mreturn\u001b[39;00m f(\u001b[39m*\u001b[39;49margs, \u001b[39m*\u001b[39;49m\u001b[39m*\u001b[39;49mkwds)\n",
      "File \u001b[0;32m~/OE Projects/Mapping Upper Canopy Level/venvs_can/canopysegmentation/lib/python3.9/site-packages/fiona/__init__.py:292\u001b[0m, in \u001b[0;36mopen\u001b[0;34m(fp, mode, driver, schema, crs, encoding, layer, vfs, enabled_drivers, crs_wkt, allow_unsupported_drivers, **kwargs)\u001b[0m\n\u001b[1;32m    289\u001b[0m     path \u001b[39m=\u001b[39m parse_path(fp)\n\u001b[1;32m    291\u001b[0m \u001b[39mif\u001b[39;00m mode \u001b[39min\u001b[39;00m (\u001b[39m\"\u001b[39m\u001b[39ma\u001b[39m\u001b[39m\"\u001b[39m, \u001b[39m\"\u001b[39m\u001b[39mr\u001b[39m\u001b[39m\"\u001b[39m):\n\u001b[0;32m--> 292\u001b[0m     colxn \u001b[39m=\u001b[39m Collection(\n\u001b[1;32m    293\u001b[0m         path,\n\u001b[1;32m    294\u001b[0m         mode,\n\u001b[1;32m    295\u001b[0m         driver\u001b[39m=\u001b[39;49mdriver,\n\u001b[1;32m    296\u001b[0m         encoding\u001b[39m=\u001b[39;49mencoding,\n\u001b[1;32m    297\u001b[0m         layer\u001b[39m=\u001b[39;49mlayer,\n\u001b[1;32m    298\u001b[0m         enabled_drivers\u001b[39m=\u001b[39;49menabled_drivers,\n\u001b[1;32m    299\u001b[0m         allow_unsupported_drivers\u001b[39m=\u001b[39;49mallow_unsupported_drivers,\n\u001b[1;32m    300\u001b[0m         \u001b[39m*\u001b[39;49m\u001b[39m*\u001b[39;49mkwargs\n\u001b[1;32m    301\u001b[0m     )\n\u001b[1;32m    302\u001b[0m \u001b[39melif\u001b[39;00m mode \u001b[39m==\u001b[39m \u001b[39m\"\u001b[39m\u001b[39mw\u001b[39m\u001b[39m\"\u001b[39m:\n\u001b[1;32m    303\u001b[0m     colxn \u001b[39m=\u001b[39m Collection(\n\u001b[1;32m    304\u001b[0m         path,\n\u001b[1;32m    305\u001b[0m         mode,\n\u001b[0;32m   (...)\u001b[0m\n\u001b[1;32m    314\u001b[0m         \u001b[39m*\u001b[39m\u001b[39m*\u001b[39mkwargs\n\u001b[1;32m    315\u001b[0m     )\n",
      "File \u001b[0;32m~/OE Projects/Mapping Upper Canopy Level/venvs_can/canopysegmentation/lib/python3.9/site-packages/fiona/collection.py:243\u001b[0m, in \u001b[0;36mCollection.__init__\u001b[0;34m(self, path, mode, driver, schema, crs, encoding, layer, vsi, archive, enabled_drivers, crs_wkt, ignore_fields, ignore_geometry, include_fields, wkt_version, allow_unsupported_drivers, **kwargs)\u001b[0m\n\u001b[1;32m    241\u001b[0m \u001b[39mif\u001b[39;00m \u001b[39mself\u001b[39m\u001b[39m.\u001b[39mmode \u001b[39m==\u001b[39m \u001b[39m\"\u001b[39m\u001b[39mr\u001b[39m\u001b[39m\"\u001b[39m:\n\u001b[1;32m    242\u001b[0m     \u001b[39mself\u001b[39m\u001b[39m.\u001b[39msession \u001b[39m=\u001b[39m Session()\n\u001b[0;32m--> 243\u001b[0m     \u001b[39mself\u001b[39;49m\u001b[39m.\u001b[39;49msession\u001b[39m.\u001b[39;49mstart(\u001b[39mself\u001b[39;49m, \u001b[39m*\u001b[39;49m\u001b[39m*\u001b[39;49mkwargs)\n\u001b[1;32m    244\u001b[0m \u001b[39melif\u001b[39;00m \u001b[39mself\u001b[39m\u001b[39m.\u001b[39mmode \u001b[39min\u001b[39;00m (\u001b[39m\"\u001b[39m\u001b[39ma\u001b[39m\u001b[39m\"\u001b[39m, \u001b[39m\"\u001b[39m\u001b[39mw\u001b[39m\u001b[39m\"\u001b[39m):\n\u001b[1;32m    245\u001b[0m     \u001b[39mself\u001b[39m\u001b[39m.\u001b[39msession \u001b[39m=\u001b[39m WritingSession()\n",
      "File \u001b[0;32mfiona/ogrext.pyx:588\u001b[0m, in \u001b[0;36mfiona.ogrext.Session.start\u001b[0;34m()\u001b[0m\n",
      "File \u001b[0;32mfiona/ogrext.pyx:143\u001b[0m, in \u001b[0;36mfiona.ogrext.gdal_open_vector\u001b[0;34m()\u001b[0m\n",
      "\u001b[0;31mDriverError\u001b[0m: '../data/2024-03-16_dataset/standard/original/tile_tif_12_10.tif' not recognized as a supported file format."
     ]
    }
   ],
   "source": [
    "gpd.read_file('../data/2024-03-16_dataset/standard/original/tile_tif_12_10.tif').crs"
   ]
  },
  {
   "cell_type": "code",
   "execution_count": 3,
   "metadata": {},
   "outputs": [
    {
     "name": "stdout",
     "output_type": "stream",
     "text": [
      "../data/2024-03-16_dataset/standard/original/tile_shp_12_10.shp\n",
      "../data/2024-03-16_dataset/standard/original/tile_tif_12_10.tif\n"
     ]
    },
    {
     "ename": "AttributeError",
     "evalue": "'MultiPoint' object has no attribute 'x'",
     "output_type": "error",
     "traceback": [
      "\u001b[0;31m---------------------------------------------------------------------------\u001b[0m",
      "\u001b[0;31mAttributeError\u001b[0m                            Traceback (most recent call last)",
      "Cell \u001b[0;32mIn[3], line 7\u001b[0m\n\u001b[1;32m      5\u001b[0m shp_path \u001b[39m=\u001b[39m os\u001b[39m.\u001b[39mpath\u001b[39m.\u001b[39mjoin(folder,file)\n\u001b[1;32m      6\u001b[0m out_path \u001b[39m=\u001b[39m os\u001b[39m.\u001b[39mpath\u001b[39m.\u001b[39mjoin(out_folder, os\u001b[39m.\u001b[39mpath\u001b[39m.\u001b[39msplitext(file)[\u001b[39m0\u001b[39m]\u001b[39m+\u001b[39m\u001b[39m'\u001b[39m\u001b[39m.png\u001b[39m\u001b[39m'\u001b[39m)\n\u001b[0;32m----> 7\u001b[0m convert_SHPtoPNG(tif_path, shp_path, out_path, (\u001b[39m500\u001b[39;49m,\u001b[39m500\u001b[39;49m), \u001b[39m5\u001b[39;49m)\n",
      "File \u001b[0;32m~/OE Projects/Mapping Upper Canopy Level/TreeDetection/utils/imageprocessing.py:139\u001b[0m, in \u001b[0;36mconvert_SHPtoPNG\u001b[0;34m(tif_path, shp_path, png_path, tile_size, point_size, bg_color, fg_color)\u001b[0m\n\u001b[1;32m    136\u001b[0m draw \u001b[39m=\u001b[39m ImageDraw\u001b[39m.\u001b[39mDraw(img)\n\u001b[1;32m    138\u001b[0m \u001b[39mfor\u001b[39;00m geom \u001b[39min\u001b[39;00m gdf\u001b[39m.\u001b[39mgeometry:\n\u001b[0;32m--> 139\u001b[0m     x \u001b[39m=\u001b[39m \u001b[39mint\u001b[39m((geom\u001b[39m.\u001b[39;49mx \u001b[39m-\u001b[39m xmin) \u001b[39m/\u001b[39m (xmax \u001b[39m-\u001b[39m xmin) \u001b[39m*\u001b[39m img_width)\n\u001b[1;32m    140\u001b[0m     y \u001b[39m=\u001b[39m \u001b[39mint\u001b[39m((ymax \u001b[39m-\u001b[39m geom\u001b[39m.\u001b[39my) \u001b[39m/\u001b[39m (ymax \u001b[39m-\u001b[39m ymin) \u001b[39m*\u001b[39m img_height)  \u001b[39m# Invert\u001b[39;00m\n\u001b[1;32m    141\u001b[0m     draw\u001b[39m.\u001b[39mellipse([x \u001b[39m-\u001b[39m point_size, y \u001b[39m-\u001b[39m point_size, x \u001b[39m+\u001b[39m point_size, y \u001b[39m+\u001b[39m point_size], fill\u001b[39m=\u001b[39mfg_color, outline\u001b[39m=\u001b[39mfg_color)\n",
      "\u001b[0;31mAttributeError\u001b[0m: 'MultiPoint' object has no attribute 'x'"
     ]
    }
   ],
   "source": [
    "files = os.listdir(folder)\n",
    "for file in files:\n",
    "    if file.endswith('.shp'):\n",
    "        tif_path = os.path.join(folder,str(file).replace('_shp_','_tif_').replace('.shp','.tif'))\n",
    "        shp_path = os.path.join(folder,file)\n",
    "        out_path = os.path.join(out_folder, os.path.splitext(file)[0]+'.png')\n",
    "        convert_SHPtoPNG(tif_path, shp_path, out_path, (500,500), 5)"
   ]
  }
 ],
 "metadata": {
  "kernelspec": {
   "display_name": "canopysegmentation",
   "language": "python",
   "name": "python3"
  },
  "language_info": {
   "codemirror_mode": {
    "name": "ipython",
    "version": 3
   },
   "file_extension": ".py",
   "mimetype": "text/x-python",
   "name": "python",
   "nbconvert_exporter": "python",
   "pygments_lexer": "ipython3",
   "version": "3.9.6"
  },
  "orig_nbformat": 4
 },
 "nbformat": 4,
 "nbformat_minor": 2
}
